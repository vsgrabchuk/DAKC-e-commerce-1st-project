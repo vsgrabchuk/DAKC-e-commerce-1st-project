{
 "cells": [
  {
   "cell_type": "markdown",
   "metadata": {},
   "source": [
    "## Задачи, поставленные продакт-менеджером\n",
    "1) Сколько пользователей, которые совершили покупку только один раз?\n",
    "\n",
    "2) Сколько заказов в месяц в среднем не доставляется? Детализация причин.\n",
    "\n",
    "3) По каждому товару определить, в какой день недели товар чаще всего покупается.\n",
    "\n",
    "4) Сколько у каждого из пользователей в среднем покупок в неделю (по месяцам)? Учесть в метрике, что в месяце мб нецелое количество недель\n",
    "\n",
    "5) Провести когортный анализ пользователей. В период с января по декабрь выявить когорту с самым высоким retention на 3й месяц\n",
    "\n",
    "6) Качественно оценить аудиторию. Построить RFM-сегментацию пользователей (в python). Метрики кластеризации:\n",
    "- R - время от последней покупки пользователя до текущей даты,\n",
    "- F - суммарное количество покупок у пользователя за всё время, \n",
    "- M - сумма покупок за всё время.\n",
    "\n",
    "Подробно описать процесс создания кластеров\\\n",
    "Для каждого RFM-сегмента построить границы метрик recency, frequency и monetary для интерпретации этих кластеров"
   ]
  },
  {
   "cell_type": "markdown",
   "metadata": {},
   "source": [
    "-----------------"
   ]
  },
  {
   "cell_type": "markdown",
   "metadata": {},
   "source": [
    "## Решение"
   ]
  },
  {
   "cell_type": "code",
   "execution_count": 1,
   "metadata": {},
   "outputs": [],
   "source": [
    "# Загрузка модулей\n",
    "import pandas as pd\n",
    "import requests\n",
    "from urllib.parse import urlencode\n",
    "from operator import attrgetter\n",
    "import matplotlib.pyplot as plt\n",
    "from matplotlib import colors\n",
    "import seaborn as sns\n",
    "import rfm"
   ]
  },
  {
   "cell_type": "code",
   "execution_count": 2,
   "metadata": {},
   "outputs": [],
   "source": [
    "# Настройка графиков\n",
    "sns.set(\n",
    "    font_scale=1.3, \n",
    "    style='whitegrid', \n",
    "    rc={'figure.figsize': (10, 6)}\n",
    ")"
   ]
  },
  {
   "cell_type": "markdown",
   "metadata": {},
   "source": [
    "### Данные"
   ]
  },
  {
   "cell_type": "markdown",
   "metadata": {},
   "source": [
    "#### Таблица с уникальными идентификаторами пользователей (olist_customers_datase.csv) - customers_df"
   ]
  },
  {
   "cell_type": "code",
   "execution_count": 3,
   "metadata": {},
   "outputs": [
    {
     "data": {
      "text/html": [
       "<div>\n",
       "<style scoped>\n",
       "    .dataframe tbody tr th:only-of-type {\n",
       "        vertical-align: middle;\n",
       "    }\n",
       "\n",
       "    .dataframe tbody tr th {\n",
       "        vertical-align: top;\n",
       "    }\n",
       "\n",
       "    .dataframe thead th {\n",
       "        text-align: right;\n",
       "    }\n",
       "</style>\n",
       "<table border=\"1\" class=\"dataframe\">\n",
       "  <thead>\n",
       "    <tr style=\"text-align: right;\">\n",
       "      <th></th>\n",
       "      <th>customer_id</th>\n",
       "      <th>customer_unique_id</th>\n",
       "      <th>customer_zip_code_prefix</th>\n",
       "      <th>customer_city</th>\n",
       "      <th>customer_state</th>\n",
       "    </tr>\n",
       "  </thead>\n",
       "  <tbody>\n",
       "    <tr>\n",
       "      <th>0</th>\n",
       "      <td>06b8999e2fba1a1fbc88172c00ba8bc7</td>\n",
       "      <td>861eff4711a542e4b93843c6dd7febb0</td>\n",
       "      <td>14409</td>\n",
       "      <td>franca</td>\n",
       "      <td>SP</td>\n",
       "    </tr>\n",
       "    <tr>\n",
       "      <th>1</th>\n",
       "      <td>18955e83d337fd6b2def6b18a428ac77</td>\n",
       "      <td>290c77bc529b7ac935b93aa66c333dc3</td>\n",
       "      <td>9790</td>\n",
       "      <td>sao bernardo do campo</td>\n",
       "      <td>SP</td>\n",
       "    </tr>\n",
       "    <tr>\n",
       "      <th>2</th>\n",
       "      <td>4e7b3e00288586ebd08712fdd0374a03</td>\n",
       "      <td>060e732b5b29e8181a18229c7b0b2b5e</td>\n",
       "      <td>1151</td>\n",
       "      <td>sao paulo</td>\n",
       "      <td>SP</td>\n",
       "    </tr>\n",
       "  </tbody>\n",
       "</table>\n",
       "</div>"
      ],
      "text/plain": [
       "                        customer_id                customer_unique_id  \\\n",
       "0  06b8999e2fba1a1fbc88172c00ba8bc7  861eff4711a542e4b93843c6dd7febb0   \n",
       "1  18955e83d337fd6b2def6b18a428ac77  290c77bc529b7ac935b93aa66c333dc3   \n",
       "2  4e7b3e00288586ebd08712fdd0374a03  060e732b5b29e8181a18229c7b0b2b5e   \n",
       "\n",
       "   customer_zip_code_prefix          customer_city customer_state  \n",
       "0                     14409                 franca             SP  \n",
       "1                      9790  sao bernardo do campo             SP  \n",
       "2                      1151              sao paulo             SP  "
      ]
     },
     "execution_count": 3,
     "metadata": {},
     "output_type": "execute_result"
    }
   ],
   "source": [
    "# загрузка из папки\n",
    "path_to_file = 'olist_customers_dataset.csv'\n",
    "customers_df = pd.read_csv(path_to_file)\n",
    "customers_df.head(3)"
   ]
  },
  {
   "cell_type": "code",
   "execution_count": 4,
   "metadata": {},
   "outputs": [
    {
     "data": {
      "text/html": [
       "<div>\n",
       "<style scoped>\n",
       "    .dataframe tbody tr th:only-of-type {\n",
       "        vertical-align: middle;\n",
       "    }\n",
       "\n",
       "    .dataframe tbody tr th {\n",
       "        vertical-align: top;\n",
       "    }\n",
       "\n",
       "    .dataframe thead th {\n",
       "        text-align: right;\n",
       "    }\n",
       "</style>\n",
       "<table border=\"1\" class=\"dataframe\">\n",
       "  <thead>\n",
       "    <tr style=\"text-align: right;\">\n",
       "      <th></th>\n",
       "      <th>customer_id</th>\n",
       "      <th>customer_unique_id</th>\n",
       "      <th>customer_zip_code_prefix</th>\n",
       "      <th>customer_city</th>\n",
       "      <th>customer_state</th>\n",
       "    </tr>\n",
       "  </thead>\n",
       "  <tbody>\n",
       "    <tr>\n",
       "      <th>0</th>\n",
       "      <td>06b8999e2fba1a1fbc88172c00ba8bc7</td>\n",
       "      <td>861eff4711a542e4b93843c6dd7febb0</td>\n",
       "      <td>14409</td>\n",
       "      <td>franca</td>\n",
       "      <td>SP</td>\n",
       "    </tr>\n",
       "    <tr>\n",
       "      <th>1</th>\n",
       "      <td>18955e83d337fd6b2def6b18a428ac77</td>\n",
       "      <td>290c77bc529b7ac935b93aa66c333dc3</td>\n",
       "      <td>9790</td>\n",
       "      <td>sao bernardo do campo</td>\n",
       "      <td>SP</td>\n",
       "    </tr>\n",
       "    <tr>\n",
       "      <th>2</th>\n",
       "      <td>4e7b3e00288586ebd08712fdd0374a03</td>\n",
       "      <td>060e732b5b29e8181a18229c7b0b2b5e</td>\n",
       "      <td>1151</td>\n",
       "      <td>sao paulo</td>\n",
       "      <td>SP</td>\n",
       "    </tr>\n",
       "  </tbody>\n",
       "</table>\n",
       "</div>"
      ],
      "text/plain": [
       "                        customer_id                customer_unique_id  \\\n",
       "0  06b8999e2fba1a1fbc88172c00ba8bc7  861eff4711a542e4b93843c6dd7febb0   \n",
       "1  18955e83d337fd6b2def6b18a428ac77  290c77bc529b7ac935b93aa66c333dc3   \n",
       "2  4e7b3e00288586ebd08712fdd0374a03  060e732b5b29e8181a18229c7b0b2b5e   \n",
       "\n",
       "   customer_zip_code_prefix          customer_city customer_state  \n",
       "0                     14409                 franca             SP  \n",
       "1                      9790  sao bernardo do campo             SP  \n",
       "2                      1151              sao paulo             SP  "
      ]
     },
     "execution_count": 4,
     "metadata": {},
     "output_type": "execute_result"
    }
   ],
   "source": [
    "# использование ссылки на файл\n",
    "ya_prefix = 'https://getfile.dokpub.com/yandex/get/'\n",
    "file_link = 'https://disk.yandex.ru/d/QXrVDUoQvFhIcg'\n",
    "customers_df = pd.read_csv(ya_prefix + file_link)\n",
    "customers_df.head(3)"
   ]
  },
  {
   "cell_type": "code",
   "execution_count": 5,
   "metadata": {
    "scrolled": true
   },
   "outputs": [
    {
     "data": {
      "text/html": [
       "<div>\n",
       "<style scoped>\n",
       "    .dataframe tbody tr th:only-of-type {\n",
       "        vertical-align: middle;\n",
       "    }\n",
       "\n",
       "    .dataframe tbody tr th {\n",
       "        vertical-align: top;\n",
       "    }\n",
       "\n",
       "    .dataframe thead th {\n",
       "        text-align: right;\n",
       "    }\n",
       "</style>\n",
       "<table border=\"1\" class=\"dataframe\">\n",
       "  <thead>\n",
       "    <tr style=\"text-align: right;\">\n",
       "      <th></th>\n",
       "      <th>customer_id</th>\n",
       "      <th>customer_unique_id</th>\n",
       "      <th>customer_zip_code_prefix</th>\n",
       "      <th>customer_city</th>\n",
       "      <th>customer_state</th>\n",
       "    </tr>\n",
       "  </thead>\n",
       "  <tbody>\n",
       "    <tr>\n",
       "      <th>0</th>\n",
       "      <td>06b8999e2fba1a1fbc88172c00ba8bc7</td>\n",
       "      <td>861eff4711a542e4b93843c6dd7febb0</td>\n",
       "      <td>14409</td>\n",
       "      <td>franca</td>\n",
       "      <td>SP</td>\n",
       "    </tr>\n",
       "    <tr>\n",
       "      <th>1</th>\n",
       "      <td>18955e83d337fd6b2def6b18a428ac77</td>\n",
       "      <td>290c77bc529b7ac935b93aa66c333dc3</td>\n",
       "      <td>9790</td>\n",
       "      <td>sao bernardo do campo</td>\n",
       "      <td>SP</td>\n",
       "    </tr>\n",
       "    <tr>\n",
       "      <th>2</th>\n",
       "      <td>4e7b3e00288586ebd08712fdd0374a03</td>\n",
       "      <td>060e732b5b29e8181a18229c7b0b2b5e</td>\n",
       "      <td>1151</td>\n",
       "      <td>sao paulo</td>\n",
       "      <td>SP</td>\n",
       "    </tr>\n",
       "  </tbody>\n",
       "</table>\n",
       "</div>"
      ],
      "text/plain": [
       "                        customer_id                customer_unique_id  \\\n",
       "0  06b8999e2fba1a1fbc88172c00ba8bc7  861eff4711a542e4b93843c6dd7febb0   \n",
       "1  18955e83d337fd6b2def6b18a428ac77  290c77bc529b7ac935b93aa66c333dc3   \n",
       "2  4e7b3e00288586ebd08712fdd0374a03  060e732b5b29e8181a18229c7b0b2b5e   \n",
       "\n",
       "   customer_zip_code_prefix          customer_city customer_state  \n",
       "0                     14409                 franca             SP  \n",
       "1                      9790  sao bernardo do campo             SP  \n",
       "2                      1151              sao paulo             SP  "
      ]
     },
     "execution_count": 5,
     "metadata": {},
     "output_type": "execute_result"
    }
   ],
   "source": [
    "# использование api Ядиска\n",
    "base_url = 'https://cloud-api.yandex.net/v1/disk/public/resources/download?' \n",
    "public_key = 'https://disk.yandex.ru/d/QXrVDUoQvFhIcg' \n",
    " \n",
    "# получаем url \n",
    "final_url = base_url + urlencode(dict(public_key=public_key)) \n",
    "response = requests.get(final_url) \n",
    "download_url = response.json()['href'] \n",
    " \n",
    "# загружаем файл в df \n",
    "download_response = requests.get(download_url) \n",
    "customers_df = pd.read_csv(download_url)\n",
    "customers_df.head(3)"
   ]
  },
  {
   "cell_type": "code",
   "execution_count": 6,
   "metadata": {},
   "outputs": [
    {
     "data": {
      "text/plain": [
       "(99441, 5)"
      ]
     },
     "execution_count": 6,
     "metadata": {},
     "output_type": "execute_result"
    }
   ],
   "source": [
    "customers_df.shape"
   ]
  },
  {
   "cell_type": "markdown",
   "metadata": {},
   "source": [
    "- customer_id — позаказный идентификатор пользователя\n",
    "- customer_unique_id —  уникальный идентификатор пользователя  (аналог номера паспорта)\n",
    "- customer_zip_code_prefix —  почтовый индекс пользователя\n",
    "\n",
    "- customer_city —  город доставки пользователя\n",
    "\n",
    "- customer_state —  штат доставки пользователя"
   ]
  },
  {
   "cell_type": "markdown",
   "metadata": {},
   "source": [
    "#### Таблица заказов (olist_orders_dataset.csv) - orders_df"
   ]
  },
  {
   "cell_type": "code",
   "execution_count": 7,
   "metadata": {},
   "outputs": [
    {
     "data": {
      "text/html": [
       "<div>\n",
       "<style scoped>\n",
       "    .dataframe tbody tr th:only-of-type {\n",
       "        vertical-align: middle;\n",
       "    }\n",
       "\n",
       "    .dataframe tbody tr th {\n",
       "        vertical-align: top;\n",
       "    }\n",
       "\n",
       "    .dataframe thead th {\n",
       "        text-align: right;\n",
       "    }\n",
       "</style>\n",
       "<table border=\"1\" class=\"dataframe\">\n",
       "  <thead>\n",
       "    <tr style=\"text-align: right;\">\n",
       "      <th></th>\n",
       "      <th>order_id</th>\n",
       "      <th>customer_id</th>\n",
       "      <th>order_status</th>\n",
       "      <th>order_purchase_timestamp</th>\n",
       "      <th>order_approved_at</th>\n",
       "      <th>order_delivered_carrier_date</th>\n",
       "      <th>order_delivered_customer_date</th>\n",
       "      <th>order_estimated_delivery_date</th>\n",
       "    </tr>\n",
       "  </thead>\n",
       "  <tbody>\n",
       "    <tr>\n",
       "      <th>0</th>\n",
       "      <td>e481f51cbdc54678b7cc49136f2d6af7</td>\n",
       "      <td>9ef432eb6251297304e76186b10a928d</td>\n",
       "      <td>delivered</td>\n",
       "      <td>2017-10-02 10:56:33</td>\n",
       "      <td>2017-10-02 11:07:15</td>\n",
       "      <td>2017-10-04 19:55:00</td>\n",
       "      <td>2017-10-10 21:25:13</td>\n",
       "      <td>2017-10-18 00:00:00</td>\n",
       "    </tr>\n",
       "    <tr>\n",
       "      <th>1</th>\n",
       "      <td>53cdb2fc8bc7dce0b6741e2150273451</td>\n",
       "      <td>b0830fb4747a6c6d20dea0b8c802d7ef</td>\n",
       "      <td>delivered</td>\n",
       "      <td>2018-07-24 20:41:37</td>\n",
       "      <td>2018-07-26 03:24:27</td>\n",
       "      <td>2018-07-26 14:31:00</td>\n",
       "      <td>2018-08-07 15:27:45</td>\n",
       "      <td>2018-08-13 00:00:00</td>\n",
       "    </tr>\n",
       "    <tr>\n",
       "      <th>2</th>\n",
       "      <td>47770eb9100c2d0c44946d9cf07ec65d</td>\n",
       "      <td>41ce2a54c0b03bf3443c3d931a367089</td>\n",
       "      <td>delivered</td>\n",
       "      <td>2018-08-08 08:38:49</td>\n",
       "      <td>2018-08-08 08:55:23</td>\n",
       "      <td>2018-08-08 13:50:00</td>\n",
       "      <td>2018-08-17 18:06:29</td>\n",
       "      <td>2018-09-04 00:00:00</td>\n",
       "    </tr>\n",
       "  </tbody>\n",
       "</table>\n",
       "</div>"
      ],
      "text/plain": [
       "                           order_id                       customer_id  \\\n",
       "0  e481f51cbdc54678b7cc49136f2d6af7  9ef432eb6251297304e76186b10a928d   \n",
       "1  53cdb2fc8bc7dce0b6741e2150273451  b0830fb4747a6c6d20dea0b8c802d7ef   \n",
       "2  47770eb9100c2d0c44946d9cf07ec65d  41ce2a54c0b03bf3443c3d931a367089   \n",
       "\n",
       "  order_status order_purchase_timestamp    order_approved_at  \\\n",
       "0    delivered      2017-10-02 10:56:33  2017-10-02 11:07:15   \n",
       "1    delivered      2018-07-24 20:41:37  2018-07-26 03:24:27   \n",
       "2    delivered      2018-08-08 08:38:49  2018-08-08 08:55:23   \n",
       "\n",
       "  order_delivered_carrier_date order_delivered_customer_date  \\\n",
       "0          2017-10-04 19:55:00           2017-10-10 21:25:13   \n",
       "1          2018-07-26 14:31:00           2018-08-07 15:27:45   \n",
       "2          2018-08-08 13:50:00           2018-08-17 18:06:29   \n",
       "\n",
       "  order_estimated_delivery_date  \n",
       "0           2017-10-18 00:00:00  \n",
       "1           2018-08-13 00:00:00  \n",
       "2           2018-09-04 00:00:00  "
      ]
     },
     "execution_count": 7,
     "metadata": {},
     "output_type": "execute_result"
    }
   ],
   "source": [
    "# загрузка из папки\n",
    "path_to_file = 'olist_orders_dataset.csv'\n",
    "orders_df = pd.read_csv(path_to_file)\n",
    "orders_df.head(3)"
   ]
  },
  {
   "cell_type": "code",
   "execution_count": 8,
   "metadata": {},
   "outputs": [
    {
     "data": {
      "text/plain": [
       "(99441, 8)"
      ]
     },
     "execution_count": 8,
     "metadata": {},
     "output_type": "execute_result"
    }
   ],
   "source": [
    "orders_df.shape"
   ]
  },
  {
   "cell_type": "markdown",
   "metadata": {},
   "source": [
    "- order_id —  уникальный идентификатор заказа (номер чека)\n",
    "- customer_id —  позаказный идентификатор пользователя\n",
    "- order_status —  статус заказа:\n",
    "  - created —  создан\n",
    "  - approved —  подтверждён\n",
    "  - invoiced —  выставлен счёт\n",
    "  - processing —  в процессе сборки заказа\n",
    "  - shipped —  отгружен со склада\n",
    "  - delivered —  доставлен пользователю\n",
    "  - unavailable —  недоступен\n",
    "  - canceled —  отменён\n",
    "- order_purchase_timestamp —  время создания заказа\n",
    "- order_approved_at —  время подтверждения оплаты заказа\n",
    "- order_delivered_carrier_date —  время передачи заказа в логистическую службу\n",
    "- order_delivered_customer_date —  время доставки заказа\n",
    "- order_estimated_delivery_date —  обещанная дата доставки"
   ]
  },
  {
   "cell_type": "markdown",
   "metadata": {},
   "source": [
    "#### Товарные позиции, входящие в заказы (olist_order_items_dataset.csv) - items_df"
   ]
  },
  {
   "cell_type": "code",
   "execution_count": 9,
   "metadata": {},
   "outputs": [
    {
     "data": {
      "text/html": [
       "<div>\n",
       "<style scoped>\n",
       "    .dataframe tbody tr th:only-of-type {\n",
       "        vertical-align: middle;\n",
       "    }\n",
       "\n",
       "    .dataframe tbody tr th {\n",
       "        vertical-align: top;\n",
       "    }\n",
       "\n",
       "    .dataframe thead th {\n",
       "        text-align: right;\n",
       "    }\n",
       "</style>\n",
       "<table border=\"1\" class=\"dataframe\">\n",
       "  <thead>\n",
       "    <tr style=\"text-align: right;\">\n",
       "      <th></th>\n",
       "      <th>order_id</th>\n",
       "      <th>order_item_id</th>\n",
       "      <th>product_id</th>\n",
       "      <th>seller_id</th>\n",
       "      <th>shipping_limit_date</th>\n",
       "      <th>price</th>\n",
       "      <th>freight_value</th>\n",
       "    </tr>\n",
       "  </thead>\n",
       "  <tbody>\n",
       "    <tr>\n",
       "      <th>0</th>\n",
       "      <td>00010242fe8c5a6d1ba2dd792cb16214</td>\n",
       "      <td>1</td>\n",
       "      <td>4244733e06e7ecb4970a6e2683c13e61</td>\n",
       "      <td>48436dade18ac8b2bce089ec2a041202</td>\n",
       "      <td>2017-09-19 09:45:35</td>\n",
       "      <td>58.9</td>\n",
       "      <td>13.29</td>\n",
       "    </tr>\n",
       "    <tr>\n",
       "      <th>1</th>\n",
       "      <td>00018f77f2f0320c557190d7a144bdd3</td>\n",
       "      <td>1</td>\n",
       "      <td>e5f2d52b802189ee658865ca93d83a8f</td>\n",
       "      <td>dd7ddc04e1b6c2c614352b383efe2d36</td>\n",
       "      <td>2017-05-03 11:05:13</td>\n",
       "      <td>239.9</td>\n",
       "      <td>19.93</td>\n",
       "    </tr>\n",
       "    <tr>\n",
       "      <th>2</th>\n",
       "      <td>000229ec398224ef6ca0657da4fc703e</td>\n",
       "      <td>1</td>\n",
       "      <td>c777355d18b72b67abbeef9df44fd0fd</td>\n",
       "      <td>5b51032eddd242adc84c38acab88f23d</td>\n",
       "      <td>2018-01-18 14:48:30</td>\n",
       "      <td>199.0</td>\n",
       "      <td>17.87</td>\n",
       "    </tr>\n",
       "  </tbody>\n",
       "</table>\n",
       "</div>"
      ],
      "text/plain": [
       "                           order_id  order_item_id  \\\n",
       "0  00010242fe8c5a6d1ba2dd792cb16214              1   \n",
       "1  00018f77f2f0320c557190d7a144bdd3              1   \n",
       "2  000229ec398224ef6ca0657da4fc703e              1   \n",
       "\n",
       "                         product_id                         seller_id  \\\n",
       "0  4244733e06e7ecb4970a6e2683c13e61  48436dade18ac8b2bce089ec2a041202   \n",
       "1  e5f2d52b802189ee658865ca93d83a8f  dd7ddc04e1b6c2c614352b383efe2d36   \n",
       "2  c777355d18b72b67abbeef9df44fd0fd  5b51032eddd242adc84c38acab88f23d   \n",
       "\n",
       "   shipping_limit_date  price  freight_value  \n",
       "0  2017-09-19 09:45:35   58.9          13.29  \n",
       "1  2017-05-03 11:05:13  239.9          19.93  \n",
       "2  2018-01-18 14:48:30  199.0          17.87  "
      ]
     },
     "execution_count": 9,
     "metadata": {},
     "output_type": "execute_result"
    }
   ],
   "source": [
    "# загрузка из папки\n",
    "path_to_file = 'olist_order_items_dataset.csv'\n",
    "items_df = pd.read_csv(path_to_file)\n",
    "items_df.head(3)"
   ]
  },
  {
   "cell_type": "code",
   "execution_count": 10,
   "metadata": {},
   "outputs": [
    {
     "data": {
      "text/plain": [
       "(112650, 7)"
      ]
     },
     "execution_count": 10,
     "metadata": {},
     "output_type": "execute_result"
    }
   ],
   "source": [
    "items_df.shape"
   ]
  },
  {
   "cell_type": "markdown",
   "metadata": {},
   "source": [
    "- order_id —  уникальный идентификатор заказа (номер чека)\n",
    "- order_item_id —  идентификатор товара внутри одного заказа\n",
    "- product_id —  ид товара (аналог штрихкода)\n",
    "- seller_id — ид производителя товара\n",
    "- shipping_limit_date —  максимальная дата доставки продавцом для передачи заказа партнеру по логистике\n",
    "- price —  цена за единицу товара\n",
    "- freight_value —  вес товара"
   ]
  },
  {
   "cell_type": "markdown",
   "metadata": {},
   "source": [
    "----------------------------"
   ]
  },
  {
   "cell_type": "markdown",
   "metadata": {},
   "source": [
    "### Преобразование типов данных"
   ]
  },
  {
   "cell_type": "markdown",
   "metadata": {},
   "source": [
    "**customers_df**"
   ]
  },
  {
   "cell_type": "code",
   "execution_count": 11,
   "metadata": {
    "scrolled": true
   },
   "outputs": [
    {
     "data": {
      "text/html": [
       "<div>\n",
       "<style scoped>\n",
       "    .dataframe tbody tr th:only-of-type {\n",
       "        vertical-align: middle;\n",
       "    }\n",
       "\n",
       "    .dataframe tbody tr th {\n",
       "        vertical-align: top;\n",
       "    }\n",
       "\n",
       "    .dataframe thead th {\n",
       "        text-align: right;\n",
       "    }\n",
       "</style>\n",
       "<table border=\"1\" class=\"dataframe\">\n",
       "  <thead>\n",
       "    <tr style=\"text-align: right;\">\n",
       "      <th></th>\n",
       "      <th>customer_id</th>\n",
       "      <th>customer_unique_id</th>\n",
       "      <th>customer_zip_code_prefix</th>\n",
       "      <th>customer_city</th>\n",
       "      <th>customer_state</th>\n",
       "    </tr>\n",
       "  </thead>\n",
       "  <tbody>\n",
       "    <tr>\n",
       "      <th>0</th>\n",
       "      <td>06b8999e2fba1a1fbc88172c00ba8bc7</td>\n",
       "      <td>861eff4711a542e4b93843c6dd7febb0</td>\n",
       "      <td>14409</td>\n",
       "      <td>franca</td>\n",
       "      <td>SP</td>\n",
       "    </tr>\n",
       "    <tr>\n",
       "      <th>1</th>\n",
       "      <td>18955e83d337fd6b2def6b18a428ac77</td>\n",
       "      <td>290c77bc529b7ac935b93aa66c333dc3</td>\n",
       "      <td>9790</td>\n",
       "      <td>sao bernardo do campo</td>\n",
       "      <td>SP</td>\n",
       "    </tr>\n",
       "    <tr>\n",
       "      <th>2</th>\n",
       "      <td>4e7b3e00288586ebd08712fdd0374a03</td>\n",
       "      <td>060e732b5b29e8181a18229c7b0b2b5e</td>\n",
       "      <td>1151</td>\n",
       "      <td>sao paulo</td>\n",
       "      <td>SP</td>\n",
       "    </tr>\n",
       "  </tbody>\n",
       "</table>\n",
       "</div>"
      ],
      "text/plain": [
       "                        customer_id                customer_unique_id  \\\n",
       "0  06b8999e2fba1a1fbc88172c00ba8bc7  861eff4711a542e4b93843c6dd7febb0   \n",
       "1  18955e83d337fd6b2def6b18a428ac77  290c77bc529b7ac935b93aa66c333dc3   \n",
       "2  4e7b3e00288586ebd08712fdd0374a03  060e732b5b29e8181a18229c7b0b2b5e   \n",
       "\n",
       "   customer_zip_code_prefix          customer_city customer_state  \n",
       "0                     14409                 franca             SP  \n",
       "1                      9790  sao bernardo do campo             SP  \n",
       "2                      1151              sao paulo             SP  "
      ]
     },
     "execution_count": 11,
     "metadata": {},
     "output_type": "execute_result"
    }
   ],
   "source": [
    "customers_df.head(3)"
   ]
  },
  {
   "cell_type": "code",
   "execution_count": 12,
   "metadata": {},
   "outputs": [
    {
     "data": {
      "text/plain": [
       "customer_id                 object\n",
       "customer_unique_id          object\n",
       "customer_zip_code_prefix     int64\n",
       "customer_city               object\n",
       "customer_state              object\n",
       "dtype: object"
      ]
     },
     "execution_count": 12,
     "metadata": {},
     "output_type": "execute_result"
    }
   ],
   "source": [
    "customers_df.dtypes"
   ]
  },
  {
   "cell_type": "markdown",
   "metadata": {},
   "source": [
    "**orders_df**"
   ]
  },
  {
   "cell_type": "code",
   "execution_count": 13,
   "metadata": {},
   "outputs": [
    {
     "data": {
      "text/html": [
       "<div>\n",
       "<style scoped>\n",
       "    .dataframe tbody tr th:only-of-type {\n",
       "        vertical-align: middle;\n",
       "    }\n",
       "\n",
       "    .dataframe tbody tr th {\n",
       "        vertical-align: top;\n",
       "    }\n",
       "\n",
       "    .dataframe thead th {\n",
       "        text-align: right;\n",
       "    }\n",
       "</style>\n",
       "<table border=\"1\" class=\"dataframe\">\n",
       "  <thead>\n",
       "    <tr style=\"text-align: right;\">\n",
       "      <th></th>\n",
       "      <th>order_id</th>\n",
       "      <th>customer_id</th>\n",
       "      <th>order_status</th>\n",
       "      <th>order_purchase_timestamp</th>\n",
       "      <th>order_approved_at</th>\n",
       "      <th>order_delivered_carrier_date</th>\n",
       "      <th>order_delivered_customer_date</th>\n",
       "      <th>order_estimated_delivery_date</th>\n",
       "    </tr>\n",
       "  </thead>\n",
       "  <tbody>\n",
       "    <tr>\n",
       "      <th>0</th>\n",
       "      <td>e481f51cbdc54678b7cc49136f2d6af7</td>\n",
       "      <td>9ef432eb6251297304e76186b10a928d</td>\n",
       "      <td>delivered</td>\n",
       "      <td>2017-10-02 10:56:33</td>\n",
       "      <td>2017-10-02 11:07:15</td>\n",
       "      <td>2017-10-04 19:55:00</td>\n",
       "      <td>2017-10-10 21:25:13</td>\n",
       "      <td>2017-10-18 00:00:00</td>\n",
       "    </tr>\n",
       "    <tr>\n",
       "      <th>1</th>\n",
       "      <td>53cdb2fc8bc7dce0b6741e2150273451</td>\n",
       "      <td>b0830fb4747a6c6d20dea0b8c802d7ef</td>\n",
       "      <td>delivered</td>\n",
       "      <td>2018-07-24 20:41:37</td>\n",
       "      <td>2018-07-26 03:24:27</td>\n",
       "      <td>2018-07-26 14:31:00</td>\n",
       "      <td>2018-08-07 15:27:45</td>\n",
       "      <td>2018-08-13 00:00:00</td>\n",
       "    </tr>\n",
       "    <tr>\n",
       "      <th>2</th>\n",
       "      <td>47770eb9100c2d0c44946d9cf07ec65d</td>\n",
       "      <td>41ce2a54c0b03bf3443c3d931a367089</td>\n",
       "      <td>delivered</td>\n",
       "      <td>2018-08-08 08:38:49</td>\n",
       "      <td>2018-08-08 08:55:23</td>\n",
       "      <td>2018-08-08 13:50:00</td>\n",
       "      <td>2018-08-17 18:06:29</td>\n",
       "      <td>2018-09-04 00:00:00</td>\n",
       "    </tr>\n",
       "  </tbody>\n",
       "</table>\n",
       "</div>"
      ],
      "text/plain": [
       "                           order_id                       customer_id  \\\n",
       "0  e481f51cbdc54678b7cc49136f2d6af7  9ef432eb6251297304e76186b10a928d   \n",
       "1  53cdb2fc8bc7dce0b6741e2150273451  b0830fb4747a6c6d20dea0b8c802d7ef   \n",
       "2  47770eb9100c2d0c44946d9cf07ec65d  41ce2a54c0b03bf3443c3d931a367089   \n",
       "\n",
       "  order_status order_purchase_timestamp    order_approved_at  \\\n",
       "0    delivered      2017-10-02 10:56:33  2017-10-02 11:07:15   \n",
       "1    delivered      2018-07-24 20:41:37  2018-07-26 03:24:27   \n",
       "2    delivered      2018-08-08 08:38:49  2018-08-08 08:55:23   \n",
       "\n",
       "  order_delivered_carrier_date order_delivered_customer_date  \\\n",
       "0          2017-10-04 19:55:00           2017-10-10 21:25:13   \n",
       "1          2018-07-26 14:31:00           2018-08-07 15:27:45   \n",
       "2          2018-08-08 13:50:00           2018-08-17 18:06:29   \n",
       "\n",
       "  order_estimated_delivery_date  \n",
       "0           2017-10-18 00:00:00  \n",
       "1           2018-08-13 00:00:00  \n",
       "2           2018-09-04 00:00:00  "
      ]
     },
     "execution_count": 13,
     "metadata": {},
     "output_type": "execute_result"
    }
   ],
   "source": [
    "orders_df.head(3)"
   ]
  },
  {
   "cell_type": "code",
   "execution_count": 14,
   "metadata": {
    "scrolled": true
   },
   "outputs": [
    {
     "data": {
      "text/plain": [
       "order_id                         object\n",
       "customer_id                      object\n",
       "order_status                     object\n",
       "order_purchase_timestamp         object\n",
       "order_approved_at                object\n",
       "order_delivered_carrier_date     object\n",
       "order_delivered_customer_date    object\n",
       "order_estimated_delivery_date    object\n",
       "dtype: object"
      ]
     },
     "execution_count": 14,
     "metadata": {},
     "output_type": "execute_result"
    }
   ],
   "source": [
    "orders_df.dtypes"
   ]
  },
  {
   "cell_type": "code",
   "execution_count": 15,
   "metadata": {},
   "outputs": [
    {
     "data": {
      "text/plain": [
       "Timestamp('2017-10-02 10:56:33')"
      ]
     },
     "execution_count": 15,
     "metadata": {},
     "output_type": "execute_result"
    }
   ],
   "source": [
    "orders_df.order_purchase_timestamp = pd.to_datetime(orders_df.order_purchase_timestamp)\n",
    "orders_df.order_purchase_timestamp[0]"
   ]
  },
  {
   "cell_type": "code",
   "execution_count": 16,
   "metadata": {},
   "outputs": [],
   "source": [
    "orders_df.order_approved_at = pd.to_datetime(orders_df.order_approved_at)\n",
    "orders_df.order_delivered_carrier_date = pd.to_datetime(orders_df.order_delivered_carrier_date)\n",
    "orders_df.order_delivered_customer_date = pd.to_datetime(orders_df.order_delivered_customer_date)\n",
    "orders_df.order_estimated_delivery_date = pd.to_datetime(orders_df.order_estimated_delivery_date)"
   ]
  },
  {
   "cell_type": "code",
   "execution_count": 17,
   "metadata": {},
   "outputs": [
    {
     "data": {
      "text/plain": [
       "order_id                                 object\n",
       "customer_id                              object\n",
       "order_status                             object\n",
       "order_purchase_timestamp         datetime64[ns]\n",
       "order_approved_at                datetime64[ns]\n",
       "order_delivered_carrier_date     datetime64[ns]\n",
       "order_delivered_customer_date    datetime64[ns]\n",
       "order_estimated_delivery_date    datetime64[ns]\n",
       "dtype: object"
      ]
     },
     "execution_count": 17,
     "metadata": {},
     "output_type": "execute_result"
    }
   ],
   "source": [
    "orders_df.dtypes"
   ]
  },
  {
   "cell_type": "markdown",
   "metadata": {},
   "source": [
    "**items_df**"
   ]
  },
  {
   "cell_type": "code",
   "execution_count": 18,
   "metadata": {
    "scrolled": true
   },
   "outputs": [
    {
     "data": {
      "text/html": [
       "<div>\n",
       "<style scoped>\n",
       "    .dataframe tbody tr th:only-of-type {\n",
       "        vertical-align: middle;\n",
       "    }\n",
       "\n",
       "    .dataframe tbody tr th {\n",
       "        vertical-align: top;\n",
       "    }\n",
       "\n",
       "    .dataframe thead th {\n",
       "        text-align: right;\n",
       "    }\n",
       "</style>\n",
       "<table border=\"1\" class=\"dataframe\">\n",
       "  <thead>\n",
       "    <tr style=\"text-align: right;\">\n",
       "      <th></th>\n",
       "      <th>order_id</th>\n",
       "      <th>order_item_id</th>\n",
       "      <th>product_id</th>\n",
       "      <th>seller_id</th>\n",
       "      <th>shipping_limit_date</th>\n",
       "      <th>price</th>\n",
       "      <th>freight_value</th>\n",
       "    </tr>\n",
       "  </thead>\n",
       "  <tbody>\n",
       "    <tr>\n",
       "      <th>0</th>\n",
       "      <td>00010242fe8c5a6d1ba2dd792cb16214</td>\n",
       "      <td>1</td>\n",
       "      <td>4244733e06e7ecb4970a6e2683c13e61</td>\n",
       "      <td>48436dade18ac8b2bce089ec2a041202</td>\n",
       "      <td>2017-09-19 09:45:35</td>\n",
       "      <td>58.9</td>\n",
       "      <td>13.29</td>\n",
       "    </tr>\n",
       "    <tr>\n",
       "      <th>1</th>\n",
       "      <td>00018f77f2f0320c557190d7a144bdd3</td>\n",
       "      <td>1</td>\n",
       "      <td>e5f2d52b802189ee658865ca93d83a8f</td>\n",
       "      <td>dd7ddc04e1b6c2c614352b383efe2d36</td>\n",
       "      <td>2017-05-03 11:05:13</td>\n",
       "      <td>239.9</td>\n",
       "      <td>19.93</td>\n",
       "    </tr>\n",
       "    <tr>\n",
       "      <th>2</th>\n",
       "      <td>000229ec398224ef6ca0657da4fc703e</td>\n",
       "      <td>1</td>\n",
       "      <td>c777355d18b72b67abbeef9df44fd0fd</td>\n",
       "      <td>5b51032eddd242adc84c38acab88f23d</td>\n",
       "      <td>2018-01-18 14:48:30</td>\n",
       "      <td>199.0</td>\n",
       "      <td>17.87</td>\n",
       "    </tr>\n",
       "  </tbody>\n",
       "</table>\n",
       "</div>"
      ],
      "text/plain": [
       "                           order_id  order_item_id  \\\n",
       "0  00010242fe8c5a6d1ba2dd792cb16214              1   \n",
       "1  00018f77f2f0320c557190d7a144bdd3              1   \n",
       "2  000229ec398224ef6ca0657da4fc703e              1   \n",
       "\n",
       "                         product_id                         seller_id  \\\n",
       "0  4244733e06e7ecb4970a6e2683c13e61  48436dade18ac8b2bce089ec2a041202   \n",
       "1  e5f2d52b802189ee658865ca93d83a8f  dd7ddc04e1b6c2c614352b383efe2d36   \n",
       "2  c777355d18b72b67abbeef9df44fd0fd  5b51032eddd242adc84c38acab88f23d   \n",
       "\n",
       "   shipping_limit_date  price  freight_value  \n",
       "0  2017-09-19 09:45:35   58.9          13.29  \n",
       "1  2017-05-03 11:05:13  239.9          19.93  \n",
       "2  2018-01-18 14:48:30  199.0          17.87  "
      ]
     },
     "execution_count": 18,
     "metadata": {},
     "output_type": "execute_result"
    }
   ],
   "source": [
    "items_df.head(3)"
   ]
  },
  {
   "cell_type": "code",
   "execution_count": 19,
   "metadata": {
    "scrolled": true
   },
   "outputs": [
    {
     "data": {
      "text/plain": [
       "order_id                object\n",
       "order_item_id            int64\n",
       "product_id              object\n",
       "seller_id               object\n",
       "shipping_limit_date     object\n",
       "price                  float64\n",
       "freight_value          float64\n",
       "dtype: object"
      ]
     },
     "execution_count": 19,
     "metadata": {},
     "output_type": "execute_result"
    }
   ],
   "source": [
    "items_df.dtypes"
   ]
  },
  {
   "cell_type": "code",
   "execution_count": 20,
   "metadata": {},
   "outputs": [
    {
     "data": {
      "text/plain": [
       "Timestamp('2017-09-19 09:45:35')"
      ]
     },
     "execution_count": 20,
     "metadata": {},
     "output_type": "execute_result"
    }
   ],
   "source": [
    "items_df.shipping_limit_date = pd.to_datetime(items_df.shipping_limit_date)\n",
    "items_df.shipping_limit_date[0]"
   ]
  },
  {
   "cell_type": "code",
   "execution_count": 21,
   "metadata": {
    "scrolled": false
   },
   "outputs": [
    {
     "data": {
      "text/plain": [
       "order_id                       object\n",
       "order_item_id                   int64\n",
       "product_id                     object\n",
       "seller_id                      object\n",
       "shipping_limit_date    datetime64[ns]\n",
       "price                         float64\n",
       "freight_value                 float64\n",
       "dtype: object"
      ]
     },
     "execution_count": 21,
     "metadata": {},
     "output_type": "execute_result"
    }
   ],
   "source": [
    "items_df.dtypes"
   ]
  },
  {
   "cell_type": "markdown",
   "metadata": {},
   "source": [
    "#### Проверка на корректность данных"
   ]
  },
  {
   "cell_type": "code",
   "execution_count": 22,
   "metadata": {
    "scrolled": true
   },
   "outputs": [
    {
     "name": "stdout",
     "output_type": "stream",
     "text": [
      "<class 'pandas.core.frame.DataFrame'>\n",
      "RangeIndex: 99441 entries, 0 to 99440\n",
      "Data columns (total 5 columns):\n",
      " #   Column                    Non-Null Count  Dtype \n",
      "---  ------                    --------------  ----- \n",
      " 0   customer_id               99441 non-null  object\n",
      " 1   customer_unique_id        99441 non-null  object\n",
      " 2   customer_zip_code_prefix  99441 non-null  int64 \n",
      " 3   customer_city             99441 non-null  object\n",
      " 4   customer_state            99441 non-null  object\n",
      "dtypes: int64(1), object(4)\n",
      "memory usage: 3.8+ MB\n"
     ]
    }
   ],
   "source": [
    "customers_df.info()"
   ]
  },
  {
   "cell_type": "code",
   "execution_count": 23,
   "metadata": {
    "scrolled": true
   },
   "outputs": [
    {
     "name": "stdout",
     "output_type": "stream",
     "text": [
      "<class 'pandas.core.frame.DataFrame'>\n",
      "RangeIndex: 99441 entries, 0 to 99440\n",
      "Data columns (total 8 columns):\n",
      " #   Column                         Non-Null Count  Dtype         \n",
      "---  ------                         --------------  -----         \n",
      " 0   order_id                       99441 non-null  object        \n",
      " 1   customer_id                    99441 non-null  object        \n",
      " 2   order_status                   99441 non-null  object        \n",
      " 3   order_purchase_timestamp       99441 non-null  datetime64[ns]\n",
      " 4   order_approved_at              99281 non-null  datetime64[ns]\n",
      " 5   order_delivered_carrier_date   97658 non-null  datetime64[ns]\n",
      " 6   order_delivered_customer_date  96476 non-null  datetime64[ns]\n",
      " 7   order_estimated_delivery_date  99441 non-null  datetime64[ns]\n",
      "dtypes: datetime64[ns](5), object(3)\n",
      "memory usage: 6.1+ MB\n"
     ]
    }
   ],
   "source": [
    "orders_df.info()"
   ]
  },
  {
   "cell_type": "code",
   "execution_count": 24,
   "metadata": {},
   "outputs": [
    {
     "name": "stdout",
     "output_type": "stream",
     "text": [
      "<class 'pandas.core.frame.DataFrame'>\n",
      "RangeIndex: 112650 entries, 0 to 112649\n",
      "Data columns (total 7 columns):\n",
      " #   Column               Non-Null Count   Dtype         \n",
      "---  ------               --------------   -----         \n",
      " 0   order_id             112650 non-null  object        \n",
      " 1   order_item_id        112650 non-null  int64         \n",
      " 2   product_id           112650 non-null  object        \n",
      " 3   seller_id            112650 non-null  object        \n",
      " 4   shipping_limit_date  112650 non-null  datetime64[ns]\n",
      " 5   price                112650 non-null  float64       \n",
      " 6   freight_value        112650 non-null  float64       \n",
      "dtypes: datetime64[ns](1), float64(2), int64(1), object(3)\n",
      "memory usage: 6.0+ MB\n"
     ]
    }
   ],
   "source": [
    "items_df.info()"
   ]
  },
  {
   "cell_type": "markdown",
   "metadata": {},
   "source": [
    "------------------------------------"
   ]
  },
  {
   "cell_type": "markdown",
   "metadata": {},
   "source": [
    "### 0) Предварительное исследование данных. Что должно считаться покупкой? Обоснование"
   ]
  },
  {
   "cell_type": "markdown",
   "metadata": {},
   "source": [
    "#### Изучение orders_df и items_df"
   ]
  },
  {
   "cell_type": "code",
   "execution_count": 25,
   "metadata": {
    "scrolled": true
   },
   "outputs": [
    {
     "data": {
      "text/plain": [
       "Index(['order_id', 'customer_id', 'order_status', 'order_purchase_timestamp',\n",
       "       'order_approved_at', 'order_delivered_carrier_date',\n",
       "       'order_delivered_customer_date', 'order_estimated_delivery_date',\n",
       "       'order_item_id', 'product_id', 'seller_id', 'shipping_limit_date',\n",
       "       'price', 'freight_value'],\n",
       "      dtype='object')"
      ]
     },
     "execution_count": 25,
     "metadata": {},
     "output_type": "execute_result"
    }
   ],
   "source": [
    "# Таблица с заказами и товарными единицами\n",
    "orders_items_df = pd.merge(left=orders_df, right=items_df, how='left', on='order_id')\n",
    "orders_items_df.columns"
   ]
  },
  {
   "cell_type": "code",
   "execution_count": 26,
   "metadata": {},
   "outputs": [
    {
     "data": {
      "text/html": [
       "<div>\n",
       "<style scoped>\n",
       "    .dataframe tbody tr th:only-of-type {\n",
       "        vertical-align: middle;\n",
       "    }\n",
       "\n",
       "    .dataframe tbody tr th {\n",
       "        vertical-align: top;\n",
       "    }\n",
       "\n",
       "    .dataframe thead th {\n",
       "        text-align: right;\n",
       "    }\n",
       "</style>\n",
       "<table border=\"1\" class=\"dataframe\">\n",
       "  <thead>\n",
       "    <tr style=\"text-align: right;\">\n",
       "      <th></th>\n",
       "      <th>order_id</th>\n",
       "      <th>customer_id</th>\n",
       "      <th>order_status</th>\n",
       "      <th>order_purchase_timestamp</th>\n",
       "      <th>order_approved_at</th>\n",
       "      <th>shipping_limit_date</th>\n",
       "      <th>order_delivered_carrier_date</th>\n",
       "      <th>order_delivered_customer_date</th>\n",
       "      <th>order_estimated_delivery_date</th>\n",
       "      <th>order_item_id</th>\n",
       "      <th>product_id</th>\n",
       "      <th>seller_id</th>\n",
       "      <th>price</th>\n",
       "      <th>freight_value</th>\n",
       "    </tr>\n",
       "  </thead>\n",
       "  <tbody>\n",
       "    <tr>\n",
       "      <th>0</th>\n",
       "      <td>e481f51cbdc54678b7cc49136f2d6af7</td>\n",
       "      <td>9ef432eb6251297304e76186b10a928d</td>\n",
       "      <td>delivered</td>\n",
       "      <td>2017-10-02 10:56:33</td>\n",
       "      <td>2017-10-02 11:07:15</td>\n",
       "      <td>2017-10-06 11:07:15</td>\n",
       "      <td>2017-10-04 19:55:00</td>\n",
       "      <td>2017-10-10 21:25:13</td>\n",
       "      <td>2017-10-18</td>\n",
       "      <td>1.0</td>\n",
       "      <td>87285b34884572647811a353c7ac498a</td>\n",
       "      <td>3504c0cb71d7fa48d967e0e4c94d59d9</td>\n",
       "      <td>29.99</td>\n",
       "      <td>8.72</td>\n",
       "    </tr>\n",
       "    <tr>\n",
       "      <th>1</th>\n",
       "      <td>53cdb2fc8bc7dce0b6741e2150273451</td>\n",
       "      <td>b0830fb4747a6c6d20dea0b8c802d7ef</td>\n",
       "      <td>delivered</td>\n",
       "      <td>2018-07-24 20:41:37</td>\n",
       "      <td>2018-07-26 03:24:27</td>\n",
       "      <td>2018-07-30 03:24:27</td>\n",
       "      <td>2018-07-26 14:31:00</td>\n",
       "      <td>2018-08-07 15:27:45</td>\n",
       "      <td>2018-08-13</td>\n",
       "      <td>1.0</td>\n",
       "      <td>595fac2a385ac33a80bd5114aec74eb8</td>\n",
       "      <td>289cdb325fb7e7f891c38608bf9e0962</td>\n",
       "      <td>118.70</td>\n",
       "      <td>22.76</td>\n",
       "    </tr>\n",
       "    <tr>\n",
       "      <th>2</th>\n",
       "      <td>47770eb9100c2d0c44946d9cf07ec65d</td>\n",
       "      <td>41ce2a54c0b03bf3443c3d931a367089</td>\n",
       "      <td>delivered</td>\n",
       "      <td>2018-08-08 08:38:49</td>\n",
       "      <td>2018-08-08 08:55:23</td>\n",
       "      <td>2018-08-13 08:55:23</td>\n",
       "      <td>2018-08-08 13:50:00</td>\n",
       "      <td>2018-08-17 18:06:29</td>\n",
       "      <td>2018-09-04</td>\n",
       "      <td>1.0</td>\n",
       "      <td>aa4383b373c6aca5d8797843e5594415</td>\n",
       "      <td>4869f7a5dfa277a7dca6462dcf3b52b2</td>\n",
       "      <td>159.90</td>\n",
       "      <td>19.22</td>\n",
       "    </tr>\n",
       "  </tbody>\n",
       "</table>\n",
       "</div>"
      ],
      "text/plain": [
       "                           order_id                       customer_id  \\\n",
       "0  e481f51cbdc54678b7cc49136f2d6af7  9ef432eb6251297304e76186b10a928d   \n",
       "1  53cdb2fc8bc7dce0b6741e2150273451  b0830fb4747a6c6d20dea0b8c802d7ef   \n",
       "2  47770eb9100c2d0c44946d9cf07ec65d  41ce2a54c0b03bf3443c3d931a367089   \n",
       "\n",
       "  order_status order_purchase_timestamp   order_approved_at  \\\n",
       "0    delivered      2017-10-02 10:56:33 2017-10-02 11:07:15   \n",
       "1    delivered      2018-07-24 20:41:37 2018-07-26 03:24:27   \n",
       "2    delivered      2018-08-08 08:38:49 2018-08-08 08:55:23   \n",
       "\n",
       "  shipping_limit_date order_delivered_carrier_date  \\\n",
       "0 2017-10-06 11:07:15          2017-10-04 19:55:00   \n",
       "1 2018-07-30 03:24:27          2018-07-26 14:31:00   \n",
       "2 2018-08-13 08:55:23          2018-08-08 13:50:00   \n",
       "\n",
       "  order_delivered_customer_date order_estimated_delivery_date  order_item_id  \\\n",
       "0           2017-10-10 21:25:13                    2017-10-18            1.0   \n",
       "1           2018-08-07 15:27:45                    2018-08-13            1.0   \n",
       "2           2018-08-17 18:06:29                    2018-09-04            1.0   \n",
       "\n",
       "                         product_id                         seller_id   price  \\\n",
       "0  87285b34884572647811a353c7ac498a  3504c0cb71d7fa48d967e0e4c94d59d9   29.99   \n",
       "1  595fac2a385ac33a80bd5114aec74eb8  289cdb325fb7e7f891c38608bf9e0962  118.70   \n",
       "2  aa4383b373c6aca5d8797843e5594415  4869f7a5dfa277a7dca6462dcf3b52b2  159.90   \n",
       "\n",
       "   freight_value  \n",
       "0           8.72  \n",
       "1          22.76  \n",
       "2          19.22  "
      ]
     },
     "execution_count": 26,
     "metadata": {},
     "output_type": "execute_result"
    }
   ],
   "source": [
    "# Изменение порядка столбцов для удобства\n",
    "orders_items_df = orders_items_df[['order_id', 'customer_id', 'order_status', 'order_purchase_timestamp',\n",
    "                                   'order_approved_at', 'shipping_limit_date', 'order_delivered_carrier_date',\n",
    "                                   'order_delivered_customer_date', 'order_estimated_delivery_date',\n",
    "                                   'order_item_id', 'product_id', 'seller_id',\n",
    "                                   'price', 'freight_value']]\n",
    "orders_items_df.head(3)"
   ]
  },
  {
   "cell_type": "code",
   "execution_count": 27,
   "metadata": {},
   "outputs": [
    {
     "data": {
      "text/plain": [
       "(113425, 14)"
      ]
     },
     "execution_count": 27,
     "metadata": {},
     "output_type": "execute_result"
    }
   ],
   "source": [
    "orders_items_df.shape"
   ]
  },
  {
   "cell_type": "code",
   "execution_count": 28,
   "metadata": {
    "scrolled": false
   },
   "outputs": [
    {
     "data": {
      "text/plain": [
       "(99441, 8)"
      ]
     },
     "execution_count": 28,
     "metadata": {},
     "output_type": "execute_result"
    }
   ],
   "source": [
    "orders_df.shape"
   ]
  },
  {
   "cell_type": "markdown",
   "metadata": {},
   "source": [
    "=> В некоторых заказах несколько товарных позиций"
   ]
  },
  {
   "cell_type": "markdown",
   "metadata": {},
   "source": [
    "- order_id —  уникальный идентификатор заказа (номер чека)\n",
    "- customer_id —  позаказный идентификатор пользователя\n",
    "- order_status —  статус заказа\n",
    "- order_purchase_timestamp —  время создания заказа\n",
    "- order_approved_at —  время подтверждения оплаты заказа\n",
    "- shipping_limit_date —  максимальная дата доставки продавцом для передачи заказа партнеру по логистике\n",
    "- order_delivered_carrier_date —  время передачи заказа в логистическую службу\n",
    "- order_delivered_customer_date —  время доставки заказа\n",
    "- order_estimated_delivery_date —  обещанная дата доставки\n",
    "- order_item_id —  идентификатор товара внутри одного заказа\n",
    "- product_id —  ид товара (аналог штрихкода)\n",
    "- seller_id — ид производителя товара\n",
    "- price —  цена за единицу товара\n",
    "- freight_value —  вес товара"
   ]
  },
  {
   "cell_type": "code",
   "execution_count": 29,
   "metadata": {},
   "outputs": [
    {
     "data": {
      "text/plain": [
       "99441"
      ]
     },
     "execution_count": 29,
     "metadata": {},
     "output_type": "execute_result"
    }
   ],
   "source": [
    "orders_df.order_id.nunique()"
   ]
  },
  {
   "cell_type": "markdown",
   "metadata": {},
   "source": [
    "В df с заказами все id заказов уникальны"
   ]
  },
  {
   "cell_type": "markdown",
   "metadata": {},
   "source": [
    "_Частотность статусов заказов_"
   ]
  },
  {
   "cell_type": "code",
   "execution_count": 30,
   "metadata": {
    "scrolled": true
   },
   "outputs": [
    {
     "data": {
      "text/plain": [
       "delivered      96478\n",
       "shipped         1107\n",
       "canceled         625\n",
       "unavailable      609\n",
       "invoiced         314\n",
       "processing       301\n",
       "created            5\n",
       "approved           2\n",
       "Name: order_status, dtype: int64"
      ]
     },
     "execution_count": 30,
     "metadata": {},
     "output_type": "execute_result"
    }
   ],
   "source": [
    "orders_df.order_status.value_counts()"
   ]
  },
  {
   "cell_type": "markdown",
   "metadata": {},
   "source": [
    "delivered - наиболее частый (можно назвать покупкой?)"
   ]
  },
  {
   "cell_type": "markdown",
   "metadata": {},
   "source": [
    "- delivered —  доставлен пользователю\n",
    "- shipped —  отгружен со склада\n",
    "- canceled —  отменён\n",
    "- unavailable —  недоступен\n",
    "- invoiced —  выставлен счёт\n",
    "- processing —  в процессе сборки заказа\n",
    "- created —  создан\n",
    "- approved —  подтверждён"
   ]
  },
  {
   "cell_type": "markdown",
   "metadata": {},
   "source": [
    "**Анализ статусов заказов**"
   ]
  },
  {
   "cell_type": "markdown",
   "metadata": {},
   "source": [
    "_shipped_ - заказ оплачен, передан в логистическую службу"
   ]
  },
  {
   "cell_type": "code",
   "execution_count": 31,
   "metadata": {},
   "outputs": [
    {
     "data": {
      "text/html": [
       "<div>\n",
       "<style scoped>\n",
       "    .dataframe tbody tr th:only-of-type {\n",
       "        vertical-align: middle;\n",
       "    }\n",
       "\n",
       "    .dataframe tbody tr th {\n",
       "        vertical-align: top;\n",
       "    }\n",
       "\n",
       "    .dataframe thead th {\n",
       "        text-align: right;\n",
       "    }\n",
       "</style>\n",
       "<table border=\"1\" class=\"dataframe\">\n",
       "  <thead>\n",
       "    <tr style=\"text-align: right;\">\n",
       "      <th></th>\n",
       "      <th>order_id</th>\n",
       "      <th>customer_id</th>\n",
       "      <th>order_status</th>\n",
       "      <th>order_purchase_timestamp</th>\n",
       "      <th>order_approved_at</th>\n",
       "      <th>shipping_limit_date</th>\n",
       "      <th>order_delivered_carrier_date</th>\n",
       "      <th>order_delivered_customer_date</th>\n",
       "      <th>order_estimated_delivery_date</th>\n",
       "      <th>order_item_id</th>\n",
       "      <th>product_id</th>\n",
       "      <th>seller_id</th>\n",
       "      <th>price</th>\n",
       "      <th>freight_value</th>\n",
       "    </tr>\n",
       "  </thead>\n",
       "  <tbody>\n",
       "    <tr>\n",
       "      <th>46</th>\n",
       "      <td>ee64d42b8cf066f35eac1cf57de1aa85</td>\n",
       "      <td>caded193e8e47b8362864762a83db3c5</td>\n",
       "      <td>shipped</td>\n",
       "      <td>2018-06-04 16:44:48</td>\n",
       "      <td>2018-06-05 04:31:18</td>\n",
       "      <td>2018-06-13 04:30:33</td>\n",
       "      <td>2018-06-05 14:32:00</td>\n",
       "      <td>NaT</td>\n",
       "      <td>2018-06-28</td>\n",
       "      <td>1.0</td>\n",
       "      <td>c50ca07e9e4db9ea5011f06802c0aea0</td>\n",
       "      <td>e9779976487b77c6d4ac45f75ec7afe9</td>\n",
       "      <td>14.49</td>\n",
       "      <td>7.87</td>\n",
       "    </tr>\n",
       "    <tr>\n",
       "      <th>185</th>\n",
       "      <td>6942b8da583c2f9957e990d028607019</td>\n",
       "      <td>52006a9383bf149a4fb24226b173106f</td>\n",
       "      <td>shipped</td>\n",
       "      <td>2018-01-10 11:33:07</td>\n",
       "      <td>2018-01-11 02:32:30</td>\n",
       "      <td>2018-01-18 02:32:30</td>\n",
       "      <td>2018-01-11 19:39:23</td>\n",
       "      <td>NaT</td>\n",
       "      <td>2018-02-07</td>\n",
       "      <td>1.0</td>\n",
       "      <td>ee0c1cf2fbeae95205b4aa506f1469f0</td>\n",
       "      <td>cc419e0650a3c5ba77189a1882b7556a</td>\n",
       "      <td>53.99</td>\n",
       "      <td>15.13</td>\n",
       "    </tr>\n",
       "    <tr>\n",
       "      <th>193</th>\n",
       "      <td>36530871a5e80138db53bcfd8a104d90</td>\n",
       "      <td>4dafe3c841d2d6cc8a8b6d25b35704b9</td>\n",
       "      <td>shipped</td>\n",
       "      <td>2017-05-09 11:48:37</td>\n",
       "      <td>2017-05-11 11:45:14</td>\n",
       "      <td>2017-05-17 11:45:14</td>\n",
       "      <td>2017-05-11 13:21:47</td>\n",
       "      <td>NaT</td>\n",
       "      <td>2017-06-08</td>\n",
       "      <td>1.0</td>\n",
       "      <td>ba4bfbf74dbe7ab37e263b9326da0523</td>\n",
       "      <td>f8db351d8c4c4c22c6835c19a46f01b0</td>\n",
       "      <td>36.90</td>\n",
       "      <td>26.89</td>\n",
       "    </tr>\n",
       "    <tr>\n",
       "      <th>268</th>\n",
       "      <td>4d630f57194f5aba1a3d12ce23e71cd9</td>\n",
       "      <td>6d491c9fe2f04f6e2af6ec033cd8907c</td>\n",
       "      <td>shipped</td>\n",
       "      <td>2017-11-17 19:53:21</td>\n",
       "      <td>2017-11-18 19:50:31</td>\n",
       "      <td>2017-11-23 19:50:31</td>\n",
       "      <td>2017-11-22 17:28:34</td>\n",
       "      <td>NaT</td>\n",
       "      <td>2017-12-13</td>\n",
       "      <td>1.0</td>\n",
       "      <td>62bf07cdb14270c48cf42ca0312986aa</td>\n",
       "      <td>04e38a233f726ef161074ab1c9b0399a</td>\n",
       "      <td>199.90</td>\n",
       "      <td>40.33</td>\n",
       "    </tr>\n",
       "    <tr>\n",
       "      <th>340</th>\n",
       "      <td>3b4ad687e7e5190db827e1ae5a8989dd</td>\n",
       "      <td>1a87b8517b7d31373b50396eb15cb445</td>\n",
       "      <td>shipped</td>\n",
       "      <td>2018-06-28 12:52:15</td>\n",
       "      <td>2018-06-28 13:11:09</td>\n",
       "      <td>2018-07-04 13:11:09</td>\n",
       "      <td>2018-07-04 15:20:00</td>\n",
       "      <td>NaT</td>\n",
       "      <td>2018-08-03</td>\n",
       "      <td>1.0</td>\n",
       "      <td>6026308f343d15d492324e7e35ba5685</td>\n",
       "      <td>966cb4760537b1404caedd472cc610a5</td>\n",
       "      <td>844.00</td>\n",
       "      <td>21.01</td>\n",
       "    </tr>\n",
       "  </tbody>\n",
       "</table>\n",
       "</div>"
      ],
      "text/plain": [
       "                             order_id                       customer_id  \\\n",
       "46   ee64d42b8cf066f35eac1cf57de1aa85  caded193e8e47b8362864762a83db3c5   \n",
       "185  6942b8da583c2f9957e990d028607019  52006a9383bf149a4fb24226b173106f   \n",
       "193  36530871a5e80138db53bcfd8a104d90  4dafe3c841d2d6cc8a8b6d25b35704b9   \n",
       "268  4d630f57194f5aba1a3d12ce23e71cd9  6d491c9fe2f04f6e2af6ec033cd8907c   \n",
       "340  3b4ad687e7e5190db827e1ae5a8989dd  1a87b8517b7d31373b50396eb15cb445   \n",
       "\n",
       "    order_status order_purchase_timestamp   order_approved_at  \\\n",
       "46       shipped      2018-06-04 16:44:48 2018-06-05 04:31:18   \n",
       "185      shipped      2018-01-10 11:33:07 2018-01-11 02:32:30   \n",
       "193      shipped      2017-05-09 11:48:37 2017-05-11 11:45:14   \n",
       "268      shipped      2017-11-17 19:53:21 2017-11-18 19:50:31   \n",
       "340      shipped      2018-06-28 12:52:15 2018-06-28 13:11:09   \n",
       "\n",
       "    shipping_limit_date order_delivered_carrier_date  \\\n",
       "46  2018-06-13 04:30:33          2018-06-05 14:32:00   \n",
       "185 2018-01-18 02:32:30          2018-01-11 19:39:23   \n",
       "193 2017-05-17 11:45:14          2017-05-11 13:21:47   \n",
       "268 2017-11-23 19:50:31          2017-11-22 17:28:34   \n",
       "340 2018-07-04 13:11:09          2018-07-04 15:20:00   \n",
       "\n",
       "    order_delivered_customer_date order_estimated_delivery_date  \\\n",
       "46                            NaT                    2018-06-28   \n",
       "185                           NaT                    2018-02-07   \n",
       "193                           NaT                    2017-06-08   \n",
       "268                           NaT                    2017-12-13   \n",
       "340                           NaT                    2018-08-03   \n",
       "\n",
       "     order_item_id                        product_id  \\\n",
       "46             1.0  c50ca07e9e4db9ea5011f06802c0aea0   \n",
       "185            1.0  ee0c1cf2fbeae95205b4aa506f1469f0   \n",
       "193            1.0  ba4bfbf74dbe7ab37e263b9326da0523   \n",
       "268            1.0  62bf07cdb14270c48cf42ca0312986aa   \n",
       "340            1.0  6026308f343d15d492324e7e35ba5685   \n",
       "\n",
       "                            seller_id   price  freight_value  \n",
       "46   e9779976487b77c6d4ac45f75ec7afe9   14.49           7.87  \n",
       "185  cc419e0650a3c5ba77189a1882b7556a   53.99          15.13  \n",
       "193  f8db351d8c4c4c22c6835c19a46f01b0   36.90          26.89  \n",
       "268  04e38a233f726ef161074ab1c9b0399a  199.90          40.33  \n",
       "340  966cb4760537b1404caedd472cc610a5  844.00          21.01  "
      ]
     },
     "execution_count": 31,
     "metadata": {},
     "output_type": "execute_result"
    }
   ],
   "source": [
    "orders_items_df.query('order_status == \"shipped\"').head()"
   ]
  },
  {
   "cell_type": "markdown",
   "metadata": {},
   "source": [
    "_unavailable_ - заказ оплачен, НЕ передан в логистическую службу (+ почему-то нет ограничения на дату передачи в логистическую службу)"
   ]
  },
  {
   "cell_type": "code",
   "execution_count": 32,
   "metadata": {},
   "outputs": [
    {
     "data": {
      "text/html": [
       "<div>\n",
       "<style scoped>\n",
       "    .dataframe tbody tr th:only-of-type {\n",
       "        vertical-align: middle;\n",
       "    }\n",
       "\n",
       "    .dataframe tbody tr th {\n",
       "        vertical-align: top;\n",
       "    }\n",
       "\n",
       "    .dataframe thead th {\n",
       "        text-align: right;\n",
       "    }\n",
       "</style>\n",
       "<table border=\"1\" class=\"dataframe\">\n",
       "  <thead>\n",
       "    <tr style=\"text-align: right;\">\n",
       "      <th></th>\n",
       "      <th>order_id</th>\n",
       "      <th>customer_id</th>\n",
       "      <th>order_status</th>\n",
       "      <th>order_purchase_timestamp</th>\n",
       "      <th>order_approved_at</th>\n",
       "      <th>shipping_limit_date</th>\n",
       "      <th>order_delivered_carrier_date</th>\n",
       "      <th>order_delivered_customer_date</th>\n",
       "      <th>order_estimated_delivery_date</th>\n",
       "      <th>order_item_id</th>\n",
       "      <th>product_id</th>\n",
       "      <th>seller_id</th>\n",
       "      <th>price</th>\n",
       "      <th>freight_value</th>\n",
       "    </tr>\n",
       "  </thead>\n",
       "  <tbody>\n",
       "    <tr>\n",
       "      <th>306</th>\n",
       "      <td>8e24261a7e58791d10cb1bf9da94df5c</td>\n",
       "      <td>64a254d30eed42cd0e6c36dddb88adf0</td>\n",
       "      <td>unavailable</td>\n",
       "      <td>2017-11-16 15:09:28</td>\n",
       "      <td>2017-11-16 15:26:57</td>\n",
       "      <td>NaT</td>\n",
       "      <td>NaT</td>\n",
       "      <td>NaT</td>\n",
       "      <td>2017-12-05</td>\n",
       "      <td>NaN</td>\n",
       "      <td>NaN</td>\n",
       "      <td>NaN</td>\n",
       "      <td>NaN</td>\n",
       "      <td>NaN</td>\n",
       "    </tr>\n",
       "    <tr>\n",
       "      <th>671</th>\n",
       "      <td>c272bcd21c287498b4883c7512019702</td>\n",
       "      <td>9582c5bbecc65eb568e2c1d839b5cba1</td>\n",
       "      <td>unavailable</td>\n",
       "      <td>2018-01-31 11:31:37</td>\n",
       "      <td>2018-01-31 14:23:50</td>\n",
       "      <td>NaT</td>\n",
       "      <td>NaT</td>\n",
       "      <td>NaT</td>\n",
       "      <td>2018-02-16</td>\n",
       "      <td>NaN</td>\n",
       "      <td>NaN</td>\n",
       "      <td>NaN</td>\n",
       "      <td>NaN</td>\n",
       "      <td>NaN</td>\n",
       "    </tr>\n",
       "    <tr>\n",
       "      <th>791</th>\n",
       "      <td>37553832a3a89c9b2db59701c357ca67</td>\n",
       "      <td>7607cd563696c27ede287e515812d528</td>\n",
       "      <td>unavailable</td>\n",
       "      <td>2017-08-14 17:38:02</td>\n",
       "      <td>2017-08-17 00:15:18</td>\n",
       "      <td>NaT</td>\n",
       "      <td>NaT</td>\n",
       "      <td>NaT</td>\n",
       "      <td>2017-09-05</td>\n",
       "      <td>NaN</td>\n",
       "      <td>NaN</td>\n",
       "      <td>NaN</td>\n",
       "      <td>NaN</td>\n",
       "      <td>NaN</td>\n",
       "    </tr>\n",
       "    <tr>\n",
       "      <th>850</th>\n",
       "      <td>d57e15fb07fd180f06ab3926b39edcd2</td>\n",
       "      <td>470b93b3f1cde85550fc74cd3a476c78</td>\n",
       "      <td>unavailable</td>\n",
       "      <td>2018-01-08 19:39:03</td>\n",
       "      <td>2018-01-09 07:26:08</td>\n",
       "      <td>NaT</td>\n",
       "      <td>NaT</td>\n",
       "      <td>NaT</td>\n",
       "      <td>2018-02-06</td>\n",
       "      <td>NaN</td>\n",
       "      <td>NaN</td>\n",
       "      <td>NaN</td>\n",
       "      <td>NaN</td>\n",
       "      <td>NaN</td>\n",
       "    </tr>\n",
       "    <tr>\n",
       "      <th>1326</th>\n",
       "      <td>2f634e2cebf8c0283e7ef0989f77d217</td>\n",
       "      <td>7353b0fb8e8d9675e3a704c60ca44ebe</td>\n",
       "      <td>unavailable</td>\n",
       "      <td>2017-09-27 20:55:33</td>\n",
       "      <td>2017-09-28 01:32:50</td>\n",
       "      <td>NaT</td>\n",
       "      <td>NaT</td>\n",
       "      <td>NaT</td>\n",
       "      <td>2017-10-27</td>\n",
       "      <td>NaN</td>\n",
       "      <td>NaN</td>\n",
       "      <td>NaN</td>\n",
       "      <td>NaN</td>\n",
       "      <td>NaN</td>\n",
       "    </tr>\n",
       "  </tbody>\n",
       "</table>\n",
       "</div>"
      ],
      "text/plain": [
       "                              order_id                       customer_id  \\\n",
       "306   8e24261a7e58791d10cb1bf9da94df5c  64a254d30eed42cd0e6c36dddb88adf0   \n",
       "671   c272bcd21c287498b4883c7512019702  9582c5bbecc65eb568e2c1d839b5cba1   \n",
       "791   37553832a3a89c9b2db59701c357ca67  7607cd563696c27ede287e515812d528   \n",
       "850   d57e15fb07fd180f06ab3926b39edcd2  470b93b3f1cde85550fc74cd3a476c78   \n",
       "1326  2f634e2cebf8c0283e7ef0989f77d217  7353b0fb8e8d9675e3a704c60ca44ebe   \n",
       "\n",
       "     order_status order_purchase_timestamp   order_approved_at  \\\n",
       "306   unavailable      2017-11-16 15:09:28 2017-11-16 15:26:57   \n",
       "671   unavailable      2018-01-31 11:31:37 2018-01-31 14:23:50   \n",
       "791   unavailable      2017-08-14 17:38:02 2017-08-17 00:15:18   \n",
       "850   unavailable      2018-01-08 19:39:03 2018-01-09 07:26:08   \n",
       "1326  unavailable      2017-09-27 20:55:33 2017-09-28 01:32:50   \n",
       "\n",
       "     shipping_limit_date order_delivered_carrier_date  \\\n",
       "306                  NaT                          NaT   \n",
       "671                  NaT                          NaT   \n",
       "791                  NaT                          NaT   \n",
       "850                  NaT                          NaT   \n",
       "1326                 NaT                          NaT   \n",
       "\n",
       "     order_delivered_customer_date order_estimated_delivery_date  \\\n",
       "306                            NaT                    2017-12-05   \n",
       "671                            NaT                    2018-02-16   \n",
       "791                            NaT                    2017-09-05   \n",
       "850                            NaT                    2018-02-06   \n",
       "1326                           NaT                    2017-10-27   \n",
       "\n",
       "      order_item_id product_id seller_id  price  freight_value  \n",
       "306             NaN        NaN       NaN    NaN            NaN  \n",
       "671             NaN        NaN       NaN    NaN            NaN  \n",
       "791             NaN        NaN       NaN    NaN            NaN  \n",
       "850             NaN        NaN       NaN    NaN            NaN  \n",
       "1326            NaN        NaN       NaN    NaN            NaN  "
      ]
     },
     "execution_count": 32,
     "metadata": {},
     "output_type": "execute_result"
    }
   ],
   "source": [
    "orders_items_df.query('order_status == \"unavailable\"').head()\n"
   ]
  },
  {
   "cell_type": "code",
   "execution_count": 33,
   "metadata": {},
   "outputs": [
    {
     "data": {
      "text/plain": [
       "0"
      ]
     },
     "execution_count": 33,
     "metadata": {},
     "output_type": "execute_result"
    }
   ],
   "source": [
    "orders_df.query('order_status == \"unavailable\"').order_delivered_carrier_date.nunique()"
   ]
  },
  {
   "cell_type": "markdown",
   "metadata": {},
   "source": [
    "_invoiced_ - заказ оплачен, НЕ передан в логистическую службу"
   ]
  },
  {
   "cell_type": "code",
   "execution_count": 34,
   "metadata": {
    "scrolled": true
   },
   "outputs": [
    {
     "data": {
      "text/html": [
       "<div>\n",
       "<style scoped>\n",
       "    .dataframe tbody tr th:only-of-type {\n",
       "        vertical-align: middle;\n",
       "    }\n",
       "\n",
       "    .dataframe tbody tr th {\n",
       "        vertical-align: top;\n",
       "    }\n",
       "\n",
       "    .dataframe thead th {\n",
       "        text-align: right;\n",
       "    }\n",
       "</style>\n",
       "<table border=\"1\" class=\"dataframe\">\n",
       "  <thead>\n",
       "    <tr style=\"text-align: right;\">\n",
       "      <th></th>\n",
       "      <th>order_id</th>\n",
       "      <th>customer_id</th>\n",
       "      <th>order_status</th>\n",
       "      <th>order_purchase_timestamp</th>\n",
       "      <th>order_approved_at</th>\n",
       "      <th>shipping_limit_date</th>\n",
       "      <th>order_delivered_carrier_date</th>\n",
       "      <th>order_delivered_customer_date</th>\n",
       "      <th>order_estimated_delivery_date</th>\n",
       "      <th>order_item_id</th>\n",
       "      <th>product_id</th>\n",
       "      <th>seller_id</th>\n",
       "      <th>price</th>\n",
       "      <th>freight_value</th>\n",
       "    </tr>\n",
       "  </thead>\n",
       "  <tbody>\n",
       "    <tr>\n",
       "      <th>6</th>\n",
       "      <td>136cce7faa42fdb2cefd53fdc79a6098</td>\n",
       "      <td>ed0271e0b7da060a393796590e7b737a</td>\n",
       "      <td>invoiced</td>\n",
       "      <td>2017-04-11 12:22:08</td>\n",
       "      <td>2017-04-13 13:25:17</td>\n",
       "      <td>2017-04-19 13:25:17</td>\n",
       "      <td>NaT</td>\n",
       "      <td>NaT</td>\n",
       "      <td>2017-05-09</td>\n",
       "      <td>1.0</td>\n",
       "      <td>a1804276d9941ac0733cfd409f5206eb</td>\n",
       "      <td>dc8798cbf453b7e0f98745e396cc5616</td>\n",
       "      <td>49.90</td>\n",
       "      <td>16.05</td>\n",
       "    </tr>\n",
       "    <tr>\n",
       "      <th>118</th>\n",
       "      <td>0760a852e4e9d89eb77bf631eaaf1c84</td>\n",
       "      <td>d2a79636084590b7465af8ab374a8cf5</td>\n",
       "      <td>invoiced</td>\n",
       "      <td>2018-08-03 17:44:42</td>\n",
       "      <td>2018-08-07 06:15:14</td>\n",
       "      <td>2018-08-13 06:15:14</td>\n",
       "      <td>NaT</td>\n",
       "      <td>NaT</td>\n",
       "      <td>2018-08-21</td>\n",
       "      <td>1.0</td>\n",
       "      <td>1522589c64efd46731d3522568e5bc83</td>\n",
       "      <td>28405831a29823802aa22c084cfd0649</td>\n",
       "      <td>35.00</td>\n",
       "      <td>15.35</td>\n",
       "    </tr>\n",
       "    <tr>\n",
       "      <th>515</th>\n",
       "      <td>38b7efdf33dd5561f4f5d4f6e07b0414</td>\n",
       "      <td>021e84751ba0ead75b6d314a6ead88d9</td>\n",
       "      <td>invoiced</td>\n",
       "      <td>2017-08-01 18:17:41</td>\n",
       "      <td>2017-08-01 18:32:30</td>\n",
       "      <td>2017-08-10 18:32:30</td>\n",
       "      <td>NaT</td>\n",
       "      <td>NaT</td>\n",
       "      <td>2017-08-28</td>\n",
       "      <td>1.0</td>\n",
       "      <td>8988d11aace15e3c9e25763c6d87dcf5</td>\n",
       "      <td>891071be6ba827b591264c90c2ae8a63</td>\n",
       "      <td>29.99</td>\n",
       "      <td>14.10</td>\n",
       "    </tr>\n",
       "    <tr>\n",
       "      <th>2083</th>\n",
       "      <td>51b0dccc8596ce37a930dff2d63a10a2</td>\n",
       "      <td>31bf1057b00f14804278590bbac18b1b</td>\n",
       "      <td>invoiced</td>\n",
       "      <td>2017-05-05 22:34:48</td>\n",
       "      <td>2017-05-05 22:45:12</td>\n",
       "      <td>2017-05-11 22:45:12</td>\n",
       "      <td>NaT</td>\n",
       "      <td>NaT</td>\n",
       "      <td>2017-06-06</td>\n",
       "      <td>1.0</td>\n",
       "      <td>bace90a7338e9d31371ad47811cf4c7d</td>\n",
       "      <td>1a3df491d1c4f1589fc2b934ada68bf2</td>\n",
       "      <td>99.90</td>\n",
       "      <td>17.78</td>\n",
       "    </tr>\n",
       "    <tr>\n",
       "      <th>2407</th>\n",
       "      <td>5504eaa5a86eb25fa666cf2e6b96c701</td>\n",
       "      <td>a30be38e1ed0ffb39b318bf1d15e98d9</td>\n",
       "      <td>invoiced</td>\n",
       "      <td>2017-11-29 08:33:06</td>\n",
       "      <td>2017-11-29 08:56:23</td>\n",
       "      <td>2017-12-05 08:56:23</td>\n",
       "      <td>NaT</td>\n",
       "      <td>NaT</td>\n",
       "      <td>2017-12-20</td>\n",
       "      <td>1.0</td>\n",
       "      <td>4a3b0111d9c112251e4732b44d1d118b</td>\n",
       "      <td>3a734b715d333a2588a3d54a0c9b8746</td>\n",
       "      <td>117.00</td>\n",
       "      <td>14.57</td>\n",
       "    </tr>\n",
       "  </tbody>\n",
       "</table>\n",
       "</div>"
      ],
      "text/plain": [
       "                              order_id                       customer_id  \\\n",
       "6     136cce7faa42fdb2cefd53fdc79a6098  ed0271e0b7da060a393796590e7b737a   \n",
       "118   0760a852e4e9d89eb77bf631eaaf1c84  d2a79636084590b7465af8ab374a8cf5   \n",
       "515   38b7efdf33dd5561f4f5d4f6e07b0414  021e84751ba0ead75b6d314a6ead88d9   \n",
       "2083  51b0dccc8596ce37a930dff2d63a10a2  31bf1057b00f14804278590bbac18b1b   \n",
       "2407  5504eaa5a86eb25fa666cf2e6b96c701  a30be38e1ed0ffb39b318bf1d15e98d9   \n",
       "\n",
       "     order_status order_purchase_timestamp   order_approved_at  \\\n",
       "6        invoiced      2017-04-11 12:22:08 2017-04-13 13:25:17   \n",
       "118      invoiced      2018-08-03 17:44:42 2018-08-07 06:15:14   \n",
       "515      invoiced      2017-08-01 18:17:41 2017-08-01 18:32:30   \n",
       "2083     invoiced      2017-05-05 22:34:48 2017-05-05 22:45:12   \n",
       "2407     invoiced      2017-11-29 08:33:06 2017-11-29 08:56:23   \n",
       "\n",
       "     shipping_limit_date order_delivered_carrier_date  \\\n",
       "6    2017-04-19 13:25:17                          NaT   \n",
       "118  2018-08-13 06:15:14                          NaT   \n",
       "515  2017-08-10 18:32:30                          NaT   \n",
       "2083 2017-05-11 22:45:12                          NaT   \n",
       "2407 2017-12-05 08:56:23                          NaT   \n",
       "\n",
       "     order_delivered_customer_date order_estimated_delivery_date  \\\n",
       "6                              NaT                    2017-05-09   \n",
       "118                            NaT                    2018-08-21   \n",
       "515                            NaT                    2017-08-28   \n",
       "2083                           NaT                    2017-06-06   \n",
       "2407                           NaT                    2017-12-20   \n",
       "\n",
       "      order_item_id                        product_id  \\\n",
       "6               1.0  a1804276d9941ac0733cfd409f5206eb   \n",
       "118             1.0  1522589c64efd46731d3522568e5bc83   \n",
       "515             1.0  8988d11aace15e3c9e25763c6d87dcf5   \n",
       "2083            1.0  bace90a7338e9d31371ad47811cf4c7d   \n",
       "2407            1.0  4a3b0111d9c112251e4732b44d1d118b   \n",
       "\n",
       "                             seller_id   price  freight_value  \n",
       "6     dc8798cbf453b7e0f98745e396cc5616   49.90          16.05  \n",
       "118   28405831a29823802aa22c084cfd0649   35.00          15.35  \n",
       "515   891071be6ba827b591264c90c2ae8a63   29.99          14.10  \n",
       "2083  1a3df491d1c4f1589fc2b934ada68bf2   99.90          17.78  \n",
       "2407  3a734b715d333a2588a3d54a0c9b8746  117.00          14.57  "
      ]
     },
     "execution_count": 34,
     "metadata": {},
     "output_type": "execute_result"
    }
   ],
   "source": [
    "orders_items_df.query('order_status == \"invoiced\"').head()"
   ]
  },
  {
   "cell_type": "code",
   "execution_count": 35,
   "metadata": {},
   "outputs": [
    {
     "data": {
      "text/plain": [
       "0"
      ]
     },
     "execution_count": 35,
     "metadata": {},
     "output_type": "execute_result"
    }
   ],
   "source": [
    "orders_df.query('order_status == \"invoiced\"').order_delivered_carrier_date.nunique()"
   ]
  },
  {
   "cell_type": "markdown",
   "metadata": {},
   "source": [
    "_processing_ - заказ оплачен, собирается, ещё не передан в логистическую службу"
   ]
  },
  {
   "cell_type": "code",
   "execution_count": 36,
   "metadata": {
    "scrolled": true
   },
   "outputs": [
    {
     "data": {
      "text/html": [
       "<div>\n",
       "<style scoped>\n",
       "    .dataframe tbody tr th:only-of-type {\n",
       "        vertical-align: middle;\n",
       "    }\n",
       "\n",
       "    .dataframe tbody tr th {\n",
       "        vertical-align: top;\n",
       "    }\n",
       "\n",
       "    .dataframe thead th {\n",
       "        text-align: right;\n",
       "    }\n",
       "</style>\n",
       "<table border=\"1\" class=\"dataframe\">\n",
       "  <thead>\n",
       "    <tr style=\"text-align: right;\">\n",
       "      <th></th>\n",
       "      <th>order_id</th>\n",
       "      <th>customer_id</th>\n",
       "      <th>order_status</th>\n",
       "      <th>order_purchase_timestamp</th>\n",
       "      <th>order_approved_at</th>\n",
       "      <th>shipping_limit_date</th>\n",
       "      <th>order_delivered_carrier_date</th>\n",
       "      <th>order_delivered_customer_date</th>\n",
       "      <th>order_estimated_delivery_date</th>\n",
       "      <th>order_item_id</th>\n",
       "      <th>product_id</th>\n",
       "      <th>seller_id</th>\n",
       "      <th>price</th>\n",
       "      <th>freight_value</th>\n",
       "    </tr>\n",
       "  </thead>\n",
       "  <tbody>\n",
       "    <tr>\n",
       "      <th>148</th>\n",
       "      <td>15bed8e2fec7fdbadb186b57c46c92f2</td>\n",
       "      <td>f3f0e613e0bdb9c7cee75504f0f90679</td>\n",
       "      <td>processing</td>\n",
       "      <td>2017-09-03 14:22:03</td>\n",
       "      <td>2017-09-03 14:30:09</td>\n",
       "      <td>2017-09-20 14:30:09</td>\n",
       "      <td>NaT</td>\n",
       "      <td>NaT</td>\n",
       "      <td>2017-10-03</td>\n",
       "      <td>1.0</td>\n",
       "      <td>61d52f4882421048afd530db53d6f230</td>\n",
       "      <td>fa74b2f3287d296e9fbd2cc80f2d1cf1</td>\n",
       "      <td>125.9</td>\n",
       "      <td>12.38</td>\n",
       "    </tr>\n",
       "    <tr>\n",
       "      <th>369</th>\n",
       "      <td>d3c8851a6651eeff2f73b0e011ac45d0</td>\n",
       "      <td>957f8e082185574de25992dc659ebbc0</td>\n",
       "      <td>processing</td>\n",
       "      <td>2016-10-05 22:44:13</td>\n",
       "      <td>2016-10-06 15:51:05</td>\n",
       "      <td>2016-10-21 16:24:45</td>\n",
       "      <td>NaT</td>\n",
       "      <td>NaT</td>\n",
       "      <td>2016-12-09</td>\n",
       "      <td>1.0</td>\n",
       "      <td>ca17b18b38db6e0d2c33d362322f2a06</td>\n",
       "      <td>4be2e7f96b4fd749d52dff41f80e39dd</td>\n",
       "      <td>267.0</td>\n",
       "      <td>32.84</td>\n",
       "    </tr>\n",
       "    <tr>\n",
       "      <th>854</th>\n",
       "      <td>6a6c7d523fd59eb5bbefc007331af717</td>\n",
       "      <td>d954782ec6c0e911292c8a80757ef28d</td>\n",
       "      <td>processing</td>\n",
       "      <td>2017-11-24 20:09:33</td>\n",
       "      <td>2017-11-24 23:15:15</td>\n",
       "      <td>2017-12-05 23:15:15</td>\n",
       "      <td>NaT</td>\n",
       "      <td>NaT</td>\n",
       "      <td>2017-12-20</td>\n",
       "      <td>1.0</td>\n",
       "      <td>73a6530caef9511c04711d12dcef551c</td>\n",
       "      <td>4e42581f08e8cfc7c090f930bac4552a</td>\n",
       "      <td>129.0</td>\n",
       "      <td>47.61</td>\n",
       "    </tr>\n",
       "    <tr>\n",
       "      <th>1360</th>\n",
       "      <td>745e1d4a7f8c4b548881788d4113bb1d</td>\n",
       "      <td>7198d7088442e4ddfe553353d8ddc957</td>\n",
       "      <td>processing</td>\n",
       "      <td>2017-11-17 06:34:36</td>\n",
       "      <td>2017-11-18 02:15:40</td>\n",
       "      <td>2017-11-24 02:15:40</td>\n",
       "      <td>NaT</td>\n",
       "      <td>NaT</td>\n",
       "      <td>2017-12-12</td>\n",
       "      <td>1.0</td>\n",
       "      <td>4ddea479f39c2acfbde72ff8ddcec134</td>\n",
       "      <td>ec21206b7894c503788a684a7bc822a6</td>\n",
       "      <td>32.9</td>\n",
       "      <td>15.10</td>\n",
       "    </tr>\n",
       "    <tr>\n",
       "      <th>1731</th>\n",
       "      <td>1d52ba7197c7acebbb4f826f6585536f</td>\n",
       "      <td>c9c7fe860d602373a9e93f8bfe9d877a</td>\n",
       "      <td>processing</td>\n",
       "      <td>2017-02-13 18:32:55</td>\n",
       "      <td>2017-02-13 18:43:55</td>\n",
       "      <td>2017-03-04 17:32:55</td>\n",
       "      <td>NaT</td>\n",
       "      <td>NaT</td>\n",
       "      <td>2017-04-04</td>\n",
       "      <td>1.0</td>\n",
       "      <td>4c35791f944cf1550e8ae288b3f9e258</td>\n",
       "      <td>79ee721b6f766066a80264402548d359</td>\n",
       "      <td>269.0</td>\n",
       "      <td>17.09</td>\n",
       "    </tr>\n",
       "  </tbody>\n",
       "</table>\n",
       "</div>"
      ],
      "text/plain": [
       "                              order_id                       customer_id  \\\n",
       "148   15bed8e2fec7fdbadb186b57c46c92f2  f3f0e613e0bdb9c7cee75504f0f90679   \n",
       "369   d3c8851a6651eeff2f73b0e011ac45d0  957f8e082185574de25992dc659ebbc0   \n",
       "854   6a6c7d523fd59eb5bbefc007331af717  d954782ec6c0e911292c8a80757ef28d   \n",
       "1360  745e1d4a7f8c4b548881788d4113bb1d  7198d7088442e4ddfe553353d8ddc957   \n",
       "1731  1d52ba7197c7acebbb4f826f6585536f  c9c7fe860d602373a9e93f8bfe9d877a   \n",
       "\n",
       "     order_status order_purchase_timestamp   order_approved_at  \\\n",
       "148    processing      2017-09-03 14:22:03 2017-09-03 14:30:09   \n",
       "369    processing      2016-10-05 22:44:13 2016-10-06 15:51:05   \n",
       "854    processing      2017-11-24 20:09:33 2017-11-24 23:15:15   \n",
       "1360   processing      2017-11-17 06:34:36 2017-11-18 02:15:40   \n",
       "1731   processing      2017-02-13 18:32:55 2017-02-13 18:43:55   \n",
       "\n",
       "     shipping_limit_date order_delivered_carrier_date  \\\n",
       "148  2017-09-20 14:30:09                          NaT   \n",
       "369  2016-10-21 16:24:45                          NaT   \n",
       "854  2017-12-05 23:15:15                          NaT   \n",
       "1360 2017-11-24 02:15:40                          NaT   \n",
       "1731 2017-03-04 17:32:55                          NaT   \n",
       "\n",
       "     order_delivered_customer_date order_estimated_delivery_date  \\\n",
       "148                            NaT                    2017-10-03   \n",
       "369                            NaT                    2016-12-09   \n",
       "854                            NaT                    2017-12-20   \n",
       "1360                           NaT                    2017-12-12   \n",
       "1731                           NaT                    2017-04-04   \n",
       "\n",
       "      order_item_id                        product_id  \\\n",
       "148             1.0  61d52f4882421048afd530db53d6f230   \n",
       "369             1.0  ca17b18b38db6e0d2c33d362322f2a06   \n",
       "854             1.0  73a6530caef9511c04711d12dcef551c   \n",
       "1360            1.0  4ddea479f39c2acfbde72ff8ddcec134   \n",
       "1731            1.0  4c35791f944cf1550e8ae288b3f9e258   \n",
       "\n",
       "                             seller_id  price  freight_value  \n",
       "148   fa74b2f3287d296e9fbd2cc80f2d1cf1  125.9          12.38  \n",
       "369   4be2e7f96b4fd749d52dff41f80e39dd  267.0          32.84  \n",
       "854   4e42581f08e8cfc7c090f930bac4552a  129.0          47.61  \n",
       "1360  ec21206b7894c503788a684a7bc822a6   32.9          15.10  \n",
       "1731  79ee721b6f766066a80264402548d359  269.0          17.09  "
      ]
     },
     "execution_count": 36,
     "metadata": {},
     "output_type": "execute_result"
    }
   ],
   "source": [
    "orders_items_df.query('order_status == \"processing\"').head()"
   ]
  },
  {
   "cell_type": "markdown",
   "metadata": {},
   "source": [
    "_approved_ - заказ оплачен, НЕ передан в логистическую службу"
   ]
  },
  {
   "cell_type": "code",
   "execution_count": 37,
   "metadata": {
    "scrolled": true
   },
   "outputs": [
    {
     "data": {
      "text/html": [
       "<div>\n",
       "<style scoped>\n",
       "    .dataframe tbody tr th:only-of-type {\n",
       "        vertical-align: middle;\n",
       "    }\n",
       "\n",
       "    .dataframe tbody tr th {\n",
       "        vertical-align: top;\n",
       "    }\n",
       "\n",
       "    .dataframe thead th {\n",
       "        text-align: right;\n",
       "    }\n",
       "</style>\n",
       "<table border=\"1\" class=\"dataframe\">\n",
       "  <thead>\n",
       "    <tr style=\"text-align: right;\">\n",
       "      <th></th>\n",
       "      <th>order_id</th>\n",
       "      <th>customer_id</th>\n",
       "      <th>order_status</th>\n",
       "      <th>order_purchase_timestamp</th>\n",
       "      <th>order_approved_at</th>\n",
       "      <th>shipping_limit_date</th>\n",
       "      <th>order_delivered_carrier_date</th>\n",
       "      <th>order_delivered_customer_date</th>\n",
       "      <th>order_estimated_delivery_date</th>\n",
       "      <th>order_item_id</th>\n",
       "      <th>product_id</th>\n",
       "      <th>seller_id</th>\n",
       "      <th>price</th>\n",
       "      <th>freight_value</th>\n",
       "    </tr>\n",
       "  </thead>\n",
       "  <tbody>\n",
       "    <tr>\n",
       "      <th>51158</th>\n",
       "      <td>a2e4c44360b4a57bdff22f3a4630c173</td>\n",
       "      <td>8886130db0ea6e9e70ba0b03d7c0d286</td>\n",
       "      <td>approved</td>\n",
       "      <td>2017-02-06 20:18:17</td>\n",
       "      <td>2017-02-06 20:30:19</td>\n",
       "      <td>2017-02-10 20:18:17</td>\n",
       "      <td>NaT</td>\n",
       "      <td>NaT</td>\n",
       "      <td>2017-03-01</td>\n",
       "      <td>1.0</td>\n",
       "      <td>dcecb611ba878d5d8c7853585b285c12</td>\n",
       "      <td>8cc6a0e5738e61a87b03c78b2ba9db4b</td>\n",
       "      <td>19.85</td>\n",
       "      <td>10.96</td>\n",
       "    </tr>\n",
       "    <tr>\n",
       "      <th>51159</th>\n",
       "      <td>a2e4c44360b4a57bdff22f3a4630c173</td>\n",
       "      <td>8886130db0ea6e9e70ba0b03d7c0d286</td>\n",
       "      <td>approved</td>\n",
       "      <td>2017-02-06 20:18:17</td>\n",
       "      <td>2017-02-06 20:30:19</td>\n",
       "      <td>2017-02-10 20:18:17</td>\n",
       "      <td>NaT</td>\n",
       "      <td>NaT</td>\n",
       "      <td>2017-03-01</td>\n",
       "      <td>2.0</td>\n",
       "      <td>dcecb611ba878d5d8c7853585b285c12</td>\n",
       "      <td>8cc6a0e5738e61a87b03c78b2ba9db4b</td>\n",
       "      <td>19.85</td>\n",
       "      <td>10.96</td>\n",
       "    </tr>\n",
       "    <tr>\n",
       "      <th>100774</th>\n",
       "      <td>132f1e724165a07f6362532bfb97486e</td>\n",
       "      <td>b2191912d8ad6eac2e4dc3b6e1459515</td>\n",
       "      <td>approved</td>\n",
       "      <td>2017-04-25 01:25:34</td>\n",
       "      <td>2017-04-30 20:32:41</td>\n",
       "      <td>2017-05-08 20:32:41</td>\n",
       "      <td>NaT</td>\n",
       "      <td>NaT</td>\n",
       "      <td>2017-05-22</td>\n",
       "      <td>1.0</td>\n",
       "      <td>c4a1c4638fa9e2e4861d141d6e0259e7</td>\n",
       "      <td>5444b12c82f21c923f2639ebc722c1ea</td>\n",
       "      <td>169.90</td>\n",
       "      <td>9.56</td>\n",
       "    </tr>\n",
       "  </tbody>\n",
       "</table>\n",
       "</div>"
      ],
      "text/plain": [
       "                                order_id                       customer_id  \\\n",
       "51158   a2e4c44360b4a57bdff22f3a4630c173  8886130db0ea6e9e70ba0b03d7c0d286   \n",
       "51159   a2e4c44360b4a57bdff22f3a4630c173  8886130db0ea6e9e70ba0b03d7c0d286   \n",
       "100774  132f1e724165a07f6362532bfb97486e  b2191912d8ad6eac2e4dc3b6e1459515   \n",
       "\n",
       "       order_status order_purchase_timestamp   order_approved_at  \\\n",
       "51158      approved      2017-02-06 20:18:17 2017-02-06 20:30:19   \n",
       "51159      approved      2017-02-06 20:18:17 2017-02-06 20:30:19   \n",
       "100774     approved      2017-04-25 01:25:34 2017-04-30 20:32:41   \n",
       "\n",
       "       shipping_limit_date order_delivered_carrier_date  \\\n",
       "51158  2017-02-10 20:18:17                          NaT   \n",
       "51159  2017-02-10 20:18:17                          NaT   \n",
       "100774 2017-05-08 20:32:41                          NaT   \n",
       "\n",
       "       order_delivered_customer_date order_estimated_delivery_date  \\\n",
       "51158                            NaT                    2017-03-01   \n",
       "51159                            NaT                    2017-03-01   \n",
       "100774                           NaT                    2017-05-22   \n",
       "\n",
       "        order_item_id                        product_id  \\\n",
       "51158             1.0  dcecb611ba878d5d8c7853585b285c12   \n",
       "51159             2.0  dcecb611ba878d5d8c7853585b285c12   \n",
       "100774            1.0  c4a1c4638fa9e2e4861d141d6e0259e7   \n",
       "\n",
       "                               seller_id   price  freight_value  \n",
       "51158   8cc6a0e5738e61a87b03c78b2ba9db4b   19.85          10.96  \n",
       "51159   8cc6a0e5738e61a87b03c78b2ba9db4b   19.85          10.96  \n",
       "100774  5444b12c82f21c923f2639ebc722c1ea  169.90           9.56  "
      ]
     },
     "execution_count": 37,
     "metadata": {},
     "output_type": "execute_result"
    }
   ],
   "source": [
    "orders_items_df.query('order_status == \"approved\"').head()"
   ]
  },
  {
   "cell_type": "markdown",
   "metadata": {},
   "source": [
    "    "
   ]
  },
  {
   "cell_type": "markdown",
   "metadata": {},
   "source": [
    "Заказы, для которых не указано время оплаты (все отменённые?)"
   ]
  },
  {
   "cell_type": "code",
   "execution_count": 38,
   "metadata": {},
   "outputs": [
    {
     "data": {
      "text/plain": [
       "160"
      ]
     },
     "execution_count": 38,
     "metadata": {},
     "output_type": "execute_result"
    }
   ],
   "source": [
    "orders_df.order_approved_at.isna().sum()"
   ]
  },
  {
   "cell_type": "markdown",
   "metadata": {},
   "source": [
    "Статусы неопаченных заказов"
   ]
  },
  {
   "cell_type": "code",
   "execution_count": 39,
   "metadata": {},
   "outputs": [
    {
     "data": {
      "text/plain": [
       "canceled     141\n",
       "delivered     14\n",
       "created        5\n",
       "Name: order_status, dtype: int64"
      ]
     },
     "execution_count": 39,
     "metadata": {},
     "output_type": "execute_result"
    }
   ],
   "source": [
    "orders_df.loc[orders_df.order_approved_at.isna()].order_status.value_counts()"
   ]
  },
  {
   "cell_type": "markdown",
   "metadata": {},
   "source": [
    "- canceled - не оплачен и отменён\n",
    "- delivered - похоже на аномалию!\n",
    "- created - заказ только сформирован пользователем, не успел дойти до оплаты"
   ]
  },
  {
   "cell_type": "markdown",
   "metadata": {},
   "source": [
    "#### Рассмотрение предполагаемой аномалии с доставкой заказа без указания времени оплаты"
   ]
  },
  {
   "cell_type": "code",
   "execution_count": 40,
   "metadata": {
    "scrolled": false
   },
   "outputs": [
    {
     "data": {
      "text/html": [
       "<div>\n",
       "<style scoped>\n",
       "    .dataframe tbody tr th:only-of-type {\n",
       "        vertical-align: middle;\n",
       "    }\n",
       "\n",
       "    .dataframe tbody tr th {\n",
       "        vertical-align: top;\n",
       "    }\n",
       "\n",
       "    .dataframe thead th {\n",
       "        text-align: right;\n",
       "    }\n",
       "</style>\n",
       "<table border=\"1\" class=\"dataframe\">\n",
       "  <thead>\n",
       "    <tr style=\"text-align: right;\">\n",
       "      <th></th>\n",
       "      <th>order_id</th>\n",
       "      <th>customer_id</th>\n",
       "      <th>order_status</th>\n",
       "      <th>order_purchase_timestamp</th>\n",
       "      <th>order_approved_at</th>\n",
       "      <th>order_delivered_carrier_date</th>\n",
       "      <th>order_delivered_customer_date</th>\n",
       "      <th>order_estimated_delivery_date</th>\n",
       "    </tr>\n",
       "  </thead>\n",
       "  <tbody>\n",
       "    <tr>\n",
       "      <th>5323</th>\n",
       "      <td>e04abd8149ef81b95221e88f6ed9ab6a</td>\n",
       "      <td>2127dc6603ac33544953ef05ec155771</td>\n",
       "      <td>delivered</td>\n",
       "      <td>2017-02-18 14:40:00</td>\n",
       "      <td>NaT</td>\n",
       "      <td>2017-02-23 12:04:47</td>\n",
       "      <td>2017-03-01 13:25:33</td>\n",
       "      <td>2017-03-17</td>\n",
       "    </tr>\n",
       "    <tr>\n",
       "      <th>16567</th>\n",
       "      <td>8a9adc69528e1001fc68dd0aaebbb54a</td>\n",
       "      <td>4c1ccc74e00993733742a3c786dc3c1f</td>\n",
       "      <td>delivered</td>\n",
       "      <td>2017-02-18 12:45:31</td>\n",
       "      <td>NaT</td>\n",
       "      <td>2017-02-23 09:01:52</td>\n",
       "      <td>2017-03-02 10:05:06</td>\n",
       "      <td>2017-03-21</td>\n",
       "    </tr>\n",
       "    <tr>\n",
       "      <th>19031</th>\n",
       "      <td>7013bcfc1c97fe719a7b5e05e61c12db</td>\n",
       "      <td>2941af76d38100e0f8740a374f1a5dc3</td>\n",
       "      <td>delivered</td>\n",
       "      <td>2017-02-18 13:29:47</td>\n",
       "      <td>NaT</td>\n",
       "      <td>2017-02-22 16:25:25</td>\n",
       "      <td>2017-03-01 08:07:38</td>\n",
       "      <td>2017-03-17</td>\n",
       "    </tr>\n",
       "    <tr>\n",
       "      <th>22663</th>\n",
       "      <td>5cf925b116421afa85ee25e99b4c34fb</td>\n",
       "      <td>29c35fc91fc13fb5073c8f30505d860d</td>\n",
       "      <td>delivered</td>\n",
       "      <td>2017-02-18 16:48:35</td>\n",
       "      <td>NaT</td>\n",
       "      <td>2017-02-22 11:23:10</td>\n",
       "      <td>2017-03-09 07:28:47</td>\n",
       "      <td>2017-03-31</td>\n",
       "    </tr>\n",
       "    <tr>\n",
       "      <th>23156</th>\n",
       "      <td>12a95a3c06dbaec84bcfb0e2da5d228a</td>\n",
       "      <td>1e101e0daffaddce8159d25a8e53f2b2</td>\n",
       "      <td>delivered</td>\n",
       "      <td>2017-02-17 13:05:55</td>\n",
       "      <td>NaT</td>\n",
       "      <td>2017-02-22 11:23:11</td>\n",
       "      <td>2017-03-02 11:09:19</td>\n",
       "      <td>2017-03-20</td>\n",
       "    </tr>\n",
       "    <tr>\n",
       "      <th>26800</th>\n",
       "      <td>c1d4211b3dae76144deccd6c74144a88</td>\n",
       "      <td>684cb238dc5b5d6366244e0e0776b450</td>\n",
       "      <td>delivered</td>\n",
       "      <td>2017-01-19 12:48:08</td>\n",
       "      <td>NaT</td>\n",
       "      <td>2017-01-25 14:56:50</td>\n",
       "      <td>2017-01-30 18:16:01</td>\n",
       "      <td>2017-03-01</td>\n",
       "    </tr>\n",
       "    <tr>\n",
       "      <th>38290</th>\n",
       "      <td>d69e5d356402adc8cf17e08b5033acfb</td>\n",
       "      <td>68d081753ad4fe22fc4d410a9eb1ca01</td>\n",
       "      <td>delivered</td>\n",
       "      <td>2017-02-19 01:28:47</td>\n",
       "      <td>NaT</td>\n",
       "      <td>2017-02-23 03:11:48</td>\n",
       "      <td>2017-03-02 03:41:58</td>\n",
       "      <td>2017-03-27</td>\n",
       "    </tr>\n",
       "    <tr>\n",
       "      <th>39334</th>\n",
       "      <td>d77031d6a3c8a52f019764e68f211c69</td>\n",
       "      <td>0bf35cac6cc7327065da879e2d90fae8</td>\n",
       "      <td>delivered</td>\n",
       "      <td>2017-02-18 11:04:19</td>\n",
       "      <td>NaT</td>\n",
       "      <td>2017-02-23 07:23:36</td>\n",
       "      <td>2017-03-02 16:15:23</td>\n",
       "      <td>2017-03-22</td>\n",
       "    </tr>\n",
       "    <tr>\n",
       "      <th>48401</th>\n",
       "      <td>7002a78c79c519ac54022d4f8a65e6e8</td>\n",
       "      <td>d5de688c321096d15508faae67a27051</td>\n",
       "      <td>delivered</td>\n",
       "      <td>2017-01-19 22:26:59</td>\n",
       "      <td>NaT</td>\n",
       "      <td>2017-01-27 11:08:05</td>\n",
       "      <td>2017-02-06 14:22:19</td>\n",
       "      <td>2017-03-16</td>\n",
       "    </tr>\n",
       "    <tr>\n",
       "      <th>61743</th>\n",
       "      <td>2eecb0d85f281280f79fa00f9cec1a95</td>\n",
       "      <td>a3d3c38e58b9d2dfb9207cab690b6310</td>\n",
       "      <td>delivered</td>\n",
       "      <td>2017-02-17 17:21:55</td>\n",
       "      <td>NaT</td>\n",
       "      <td>2017-02-22 11:42:51</td>\n",
       "      <td>2017-03-03 12:16:03</td>\n",
       "      <td>2017-03-20</td>\n",
       "    </tr>\n",
       "    <tr>\n",
       "      <th>63052</th>\n",
       "      <td>51eb2eebd5d76a24625b31c33dd41449</td>\n",
       "      <td>07a2a7e0f63fd8cb757ed77d4245623c</td>\n",
       "      <td>delivered</td>\n",
       "      <td>2017-02-18 15:52:27</td>\n",
       "      <td>NaT</td>\n",
       "      <td>2017-02-23 03:09:14</td>\n",
       "      <td>2017-03-07 13:57:47</td>\n",
       "      <td>2017-03-29</td>\n",
       "    </tr>\n",
       "    <tr>\n",
       "      <th>67697</th>\n",
       "      <td>88083e8f64d95b932164187484d90212</td>\n",
       "      <td>f67cd1a215aae2a1074638bbd35a223a</td>\n",
       "      <td>delivered</td>\n",
       "      <td>2017-02-18 22:49:19</td>\n",
       "      <td>NaT</td>\n",
       "      <td>2017-02-22 11:31:06</td>\n",
       "      <td>2017-03-02 12:06:06</td>\n",
       "      <td>2017-03-21</td>\n",
       "    </tr>\n",
       "    <tr>\n",
       "      <th>72407</th>\n",
       "      <td>3c0b8706b065f9919d0505d3b3343881</td>\n",
       "      <td>d85919cb3c0529589c6fa617f5f43281</td>\n",
       "      <td>delivered</td>\n",
       "      <td>2017-02-17 15:53:27</td>\n",
       "      <td>NaT</td>\n",
       "      <td>2017-02-22 11:31:30</td>\n",
       "      <td>2017-03-03 11:47:47</td>\n",
       "      <td>2017-03-23</td>\n",
       "    </tr>\n",
       "    <tr>\n",
       "      <th>84999</th>\n",
       "      <td>2babbb4b15e6d2dfe95e2de765c97bce</td>\n",
       "      <td>74bebaf46603f9340e3b50c6b086f992</td>\n",
       "      <td>delivered</td>\n",
       "      <td>2017-02-18 17:15:03</td>\n",
       "      <td>NaT</td>\n",
       "      <td>2017-02-22 11:23:11</td>\n",
       "      <td>2017-03-03 18:43:43</td>\n",
       "      <td>2017-03-31</td>\n",
       "    </tr>\n",
       "  </tbody>\n",
       "</table>\n",
       "</div>"
      ],
      "text/plain": [
       "                               order_id                       customer_id  \\\n",
       "5323   e04abd8149ef81b95221e88f6ed9ab6a  2127dc6603ac33544953ef05ec155771   \n",
       "16567  8a9adc69528e1001fc68dd0aaebbb54a  4c1ccc74e00993733742a3c786dc3c1f   \n",
       "19031  7013bcfc1c97fe719a7b5e05e61c12db  2941af76d38100e0f8740a374f1a5dc3   \n",
       "22663  5cf925b116421afa85ee25e99b4c34fb  29c35fc91fc13fb5073c8f30505d860d   \n",
       "23156  12a95a3c06dbaec84bcfb0e2da5d228a  1e101e0daffaddce8159d25a8e53f2b2   \n",
       "26800  c1d4211b3dae76144deccd6c74144a88  684cb238dc5b5d6366244e0e0776b450   \n",
       "38290  d69e5d356402adc8cf17e08b5033acfb  68d081753ad4fe22fc4d410a9eb1ca01   \n",
       "39334  d77031d6a3c8a52f019764e68f211c69  0bf35cac6cc7327065da879e2d90fae8   \n",
       "48401  7002a78c79c519ac54022d4f8a65e6e8  d5de688c321096d15508faae67a27051   \n",
       "61743  2eecb0d85f281280f79fa00f9cec1a95  a3d3c38e58b9d2dfb9207cab690b6310   \n",
       "63052  51eb2eebd5d76a24625b31c33dd41449  07a2a7e0f63fd8cb757ed77d4245623c   \n",
       "67697  88083e8f64d95b932164187484d90212  f67cd1a215aae2a1074638bbd35a223a   \n",
       "72407  3c0b8706b065f9919d0505d3b3343881  d85919cb3c0529589c6fa617f5f43281   \n",
       "84999  2babbb4b15e6d2dfe95e2de765c97bce  74bebaf46603f9340e3b50c6b086f992   \n",
       "\n",
       "      order_status order_purchase_timestamp order_approved_at  \\\n",
       "5323     delivered      2017-02-18 14:40:00               NaT   \n",
       "16567    delivered      2017-02-18 12:45:31               NaT   \n",
       "19031    delivered      2017-02-18 13:29:47               NaT   \n",
       "22663    delivered      2017-02-18 16:48:35               NaT   \n",
       "23156    delivered      2017-02-17 13:05:55               NaT   \n",
       "26800    delivered      2017-01-19 12:48:08               NaT   \n",
       "38290    delivered      2017-02-19 01:28:47               NaT   \n",
       "39334    delivered      2017-02-18 11:04:19               NaT   \n",
       "48401    delivered      2017-01-19 22:26:59               NaT   \n",
       "61743    delivered      2017-02-17 17:21:55               NaT   \n",
       "63052    delivered      2017-02-18 15:52:27               NaT   \n",
       "67697    delivered      2017-02-18 22:49:19               NaT   \n",
       "72407    delivered      2017-02-17 15:53:27               NaT   \n",
       "84999    delivered      2017-02-18 17:15:03               NaT   \n",
       "\n",
       "      order_delivered_carrier_date order_delivered_customer_date  \\\n",
       "5323           2017-02-23 12:04:47           2017-03-01 13:25:33   \n",
       "16567          2017-02-23 09:01:52           2017-03-02 10:05:06   \n",
       "19031          2017-02-22 16:25:25           2017-03-01 08:07:38   \n",
       "22663          2017-02-22 11:23:10           2017-03-09 07:28:47   \n",
       "23156          2017-02-22 11:23:11           2017-03-02 11:09:19   \n",
       "26800          2017-01-25 14:56:50           2017-01-30 18:16:01   \n",
       "38290          2017-02-23 03:11:48           2017-03-02 03:41:58   \n",
       "39334          2017-02-23 07:23:36           2017-03-02 16:15:23   \n",
       "48401          2017-01-27 11:08:05           2017-02-06 14:22:19   \n",
       "61743          2017-02-22 11:42:51           2017-03-03 12:16:03   \n",
       "63052          2017-02-23 03:09:14           2017-03-07 13:57:47   \n",
       "67697          2017-02-22 11:31:06           2017-03-02 12:06:06   \n",
       "72407          2017-02-22 11:31:30           2017-03-03 11:47:47   \n",
       "84999          2017-02-22 11:23:11           2017-03-03 18:43:43   \n",
       "\n",
       "      order_estimated_delivery_date  \n",
       "5323                     2017-03-17  \n",
       "16567                    2017-03-21  \n",
       "19031                    2017-03-17  \n",
       "22663                    2017-03-31  \n",
       "23156                    2017-03-20  \n",
       "26800                    2017-03-01  \n",
       "38290                    2017-03-27  \n",
       "39334                    2017-03-22  \n",
       "48401                    2017-03-16  \n",
       "61743                    2017-03-20  \n",
       "63052                    2017-03-29  \n",
       "67697                    2017-03-21  \n",
       "72407                    2017-03-23  \n",
       "84999                    2017-03-31  "
      ]
     },
     "execution_count": 40,
     "metadata": {},
     "output_type": "execute_result"
    }
   ],
   "source": [
    "orders_df.query('order_status == \"delivered\" and order_approved_at == \"NaT\"')"
   ]
  },
  {
   "cell_type": "markdown",
   "metadata": {},
   "source": [
    "Закономерности:\n",
    "- имеется дата передачи заказа в логистическую службу => похоже, заказ действительно был совершён\n",
    "- заказ доставлен ощутимо раньше предполагаемого срока"
   ]
  },
  {
   "cell_type": "markdown",
   "metadata": {},
   "source": [
    "_Среднее время опережения сроков доставки по данной таблице_"
   ]
  },
  {
   "cell_type": "code",
   "execution_count": 41,
   "metadata": {},
   "outputs": [
    {
     "data": {
      "text/plain": [
       "21.142857142857142"
      ]
     },
     "execution_count": 41,
     "metadata": {},
     "output_type": "execute_result"
    }
   ],
   "source": [
    "(orders_df.query('order_status == \"delivered\" and order_approved_at == \"NaT\"').order_estimated_delivery_date - orders_df.query('order_status == \"delivered\" and order_approved_at == \"NaT\"').order_delivered_customer_date).dt.days.mean()"
   ]
  },
  {
   "cell_type": "markdown",
   "metadata": {},
   "source": [
    "_Среднее время опережения сроков доставки по df_"
   ]
  },
  {
   "cell_type": "code",
   "execution_count": 42,
   "metadata": {},
   "outputs": [
    {
     "data": {
      "text/plain": [
       "10.875888877371203"
      ]
     },
     "execution_count": 42,
     "metadata": {},
     "output_type": "execute_result"
    }
   ],
   "source": [
    "(orders_df.query('order_status == \"delivered\"').order_estimated_delivery_date - orders_df.query('order_status == \"delivered\"').order_delivered_customer_date).dt.days.mean()"
   ]
  },
  {
   "cell_type": "markdown",
   "metadata": {},
   "source": [
    "Действительно, время опережения сроков доставки превышает среднее, но разница не слишком значительна"
   ]
  },
  {
   "cell_type": "markdown",
   "metadata": {},
   "source": [
    "_Возможно, отсутствие даты оплаты - следствие какой-то акции на определённые товары?_"
   ]
  },
  {
   "cell_type": "code",
   "execution_count": 43,
   "metadata": {},
   "outputs": [
    {
     "data": {
      "text/html": [
       "<div>\n",
       "<style scoped>\n",
       "    .dataframe tbody tr th:only-of-type {\n",
       "        vertical-align: middle;\n",
       "    }\n",
       "\n",
       "    .dataframe tbody tr th {\n",
       "        vertical-align: top;\n",
       "    }\n",
       "\n",
       "    .dataframe thead th {\n",
       "        text-align: right;\n",
       "    }\n",
       "</style>\n",
       "<table border=\"1\" class=\"dataframe\">\n",
       "  <thead>\n",
       "    <tr style=\"text-align: right;\">\n",
       "      <th></th>\n",
       "      <th>order_id</th>\n",
       "      <th>customer_id</th>\n",
       "      <th>order_status</th>\n",
       "      <th>order_purchase_timestamp</th>\n",
       "      <th>order_approved_at</th>\n",
       "      <th>shipping_limit_date</th>\n",
       "      <th>order_delivered_carrier_date</th>\n",
       "      <th>order_delivered_customer_date</th>\n",
       "      <th>order_estimated_delivery_date</th>\n",
       "      <th>order_item_id</th>\n",
       "      <th>product_id</th>\n",
       "      <th>seller_id</th>\n",
       "      <th>price</th>\n",
       "      <th>freight_value</th>\n",
       "    </tr>\n",
       "  </thead>\n",
       "  <tbody>\n",
       "    <tr>\n",
       "      <th>44820</th>\n",
       "      <td>d77031d6a3c8a52f019764e68f211c69</td>\n",
       "      <td>0bf35cac6cc7327065da879e2d90fae8</td>\n",
       "      <td>delivered</td>\n",
       "      <td>2017-02-18 11:04:19</td>\n",
       "      <td>NaT</td>\n",
       "      <td>2017-02-25 10:04:19</td>\n",
       "      <td>2017-02-23 07:23:36</td>\n",
       "      <td>2017-03-02 16:15:23</td>\n",
       "      <td>2017-03-22</td>\n",
       "      <td>1.0</td>\n",
       "      <td>02a79d79e818ad0be36cfc843a6af7ad</td>\n",
       "      <td>cb3dd9ce66268c7a3ca7241ac70ab58c</td>\n",
       "      <td>28.99</td>\n",
       "      <td>10.96</td>\n",
       "    </tr>\n",
       "    <tr>\n",
       "      <th>6009</th>\n",
       "      <td>e04abd8149ef81b95221e88f6ed9ab6a</td>\n",
       "      <td>2127dc6603ac33544953ef05ec155771</td>\n",
       "      <td>delivered</td>\n",
       "      <td>2017-02-18 14:40:00</td>\n",
       "      <td>NaT</td>\n",
       "      <td>2017-02-22 13:40:00</td>\n",
       "      <td>2017-02-23 12:04:47</td>\n",
       "      <td>2017-03-01 13:25:33</td>\n",
       "      <td>2017-03-17</td>\n",
       "      <td>1.0</td>\n",
       "      <td>0e20a07ca1714df21f9b07ca3bf7c682</td>\n",
       "      <td>4e7c18b98d84e05cbae3ff0ff03846c2</td>\n",
       "      <td>309.90</td>\n",
       "      <td>39.11</td>\n",
       "    </tr>\n",
       "    <tr>\n",
       "      <th>18860</th>\n",
       "      <td>8a9adc69528e1001fc68dd0aaebbb54a</td>\n",
       "      <td>4c1ccc74e00993733742a3c786dc3c1f</td>\n",
       "      <td>delivered</td>\n",
       "      <td>2017-02-18 12:45:31</td>\n",
       "      <td>NaT</td>\n",
       "      <td>2017-02-22 11:45:31</td>\n",
       "      <td>2017-02-23 09:01:52</td>\n",
       "      <td>2017-03-02 10:05:06</td>\n",
       "      <td>2017-03-21</td>\n",
       "      <td>1.0</td>\n",
       "      <td>2c2b6a28924791234bd386bddb17512e</td>\n",
       "      <td>a4b6b9b992b46e9ef863637af96e04bc</td>\n",
       "      <td>379.00</td>\n",
       "      <td>17.86</td>\n",
       "    </tr>\n",
       "    <tr>\n",
       "      <th>70281</th>\n",
       "      <td>2eecb0d85f281280f79fa00f9cec1a95</td>\n",
       "      <td>a3d3c38e58b9d2dfb9207cab690b6310</td>\n",
       "      <td>delivered</td>\n",
       "      <td>2017-02-17 17:21:55</td>\n",
       "      <td>NaT</td>\n",
       "      <td>2017-02-21 16:21:55</td>\n",
       "      <td>2017-02-22 11:42:51</td>\n",
       "      <td>2017-03-03 12:16:03</td>\n",
       "      <td>2017-03-20</td>\n",
       "      <td>1.0</td>\n",
       "      <td>4fd676d9c4723d475026e40aeae56957</td>\n",
       "      <td>5fd924b4836098a5be0ecf81ba054ce0</td>\n",
       "      <td>135.00</td>\n",
       "      <td>19.23</td>\n",
       "    </tr>\n",
       "    <tr>\n",
       "      <th>21661</th>\n",
       "      <td>7013bcfc1c97fe719a7b5e05e61c12db</td>\n",
       "      <td>2941af76d38100e0f8740a374f1a5dc3</td>\n",
       "      <td>delivered</td>\n",
       "      <td>2017-02-18 13:29:47</td>\n",
       "      <td>NaT</td>\n",
       "      <td>2017-02-22 12:29:47</td>\n",
       "      <td>2017-02-22 16:25:25</td>\n",
       "      <td>2017-03-01 08:07:38</td>\n",
       "      <td>2017-03-17</td>\n",
       "      <td>1.0</td>\n",
       "      <td>583916a5dae918f5e89baec139141c54</td>\n",
       "      <td>3481aa57cd91f9f9d3fa1fa12d9a3bf7</td>\n",
       "      <td>49.99</td>\n",
       "      <td>15.53</td>\n",
       "    </tr>\n",
       "    <tr>\n",
       "      <th>30541</th>\n",
       "      <td>c1d4211b3dae76144deccd6c74144a88</td>\n",
       "      <td>684cb238dc5b5d6366244e0e0776b450</td>\n",
       "      <td>delivered</td>\n",
       "      <td>2017-01-19 12:48:08</td>\n",
       "      <td>NaT</td>\n",
       "      <td>2017-01-23 12:48:08</td>\n",
       "      <td>2017-01-25 14:56:50</td>\n",
       "      <td>2017-01-30 18:16:01</td>\n",
       "      <td>2017-03-01</td>\n",
       "      <td>1.0</td>\n",
       "      <td>5ab02ca028398131a5ae91401eb49788</td>\n",
       "      <td>80e6699fe29150b372a0c8a1ebf7dcc8</td>\n",
       "      <td>39.99</td>\n",
       "      <td>14.52</td>\n",
       "    </tr>\n",
       "    <tr>\n",
       "      <th>71794</th>\n",
       "      <td>51eb2eebd5d76a24625b31c33dd41449</td>\n",
       "      <td>07a2a7e0f63fd8cb757ed77d4245623c</td>\n",
       "      <td>delivered</td>\n",
       "      <td>2017-02-18 15:52:27</td>\n",
       "      <td>NaT</td>\n",
       "      <td>2017-02-28 14:52:27</td>\n",
       "      <td>2017-02-23 03:09:14</td>\n",
       "      <td>2017-03-07 13:57:47</td>\n",
       "      <td>2017-03-29</td>\n",
       "      <td>1.0</td>\n",
       "      <td>7868a64aa111bbb4f41f8e1146c0becb</td>\n",
       "      <td>cca3071e3e9bb7d12640c9fbe2301306</td>\n",
       "      <td>59.90</td>\n",
       "      <td>17.16</td>\n",
       "    </tr>\n",
       "    <tr>\n",
       "      <th>77167</th>\n",
       "      <td>88083e8f64d95b932164187484d90212</td>\n",
       "      <td>f67cd1a215aae2a1074638bbd35a223a</td>\n",
       "      <td>delivered</td>\n",
       "      <td>2017-02-18 22:49:19</td>\n",
       "      <td>NaT</td>\n",
       "      <td>2017-02-22 21:49:19</td>\n",
       "      <td>2017-02-22 11:31:06</td>\n",
       "      <td>2017-03-02 12:06:06</td>\n",
       "      <td>2017-03-21</td>\n",
       "      <td>1.0</td>\n",
       "      <td>8c5876b1c7768217964f353bc7e64393</td>\n",
       "      <td>0db783cfcd3b73998abc6e10e59a102f</td>\n",
       "      <td>49.00</td>\n",
       "      <td>14.52</td>\n",
       "    </tr>\n",
       "    <tr>\n",
       "      <th>77168</th>\n",
       "      <td>88083e8f64d95b932164187484d90212</td>\n",
       "      <td>f67cd1a215aae2a1074638bbd35a223a</td>\n",
       "      <td>delivered</td>\n",
       "      <td>2017-02-18 22:49:19</td>\n",
       "      <td>NaT</td>\n",
       "      <td>2017-02-22 21:49:19</td>\n",
       "      <td>2017-02-22 11:31:06</td>\n",
       "      <td>2017-03-02 12:06:06</td>\n",
       "      <td>2017-03-21</td>\n",
       "      <td>2.0</td>\n",
       "      <td>8c5876b1c7768217964f353bc7e64393</td>\n",
       "      <td>0db783cfcd3b73998abc6e10e59a102f</td>\n",
       "      <td>49.00</td>\n",
       "      <td>14.52</td>\n",
       "    </tr>\n",
       "    <tr>\n",
       "      <th>55152</th>\n",
       "      <td>7002a78c79c519ac54022d4f8a65e6e8</td>\n",
       "      <td>d5de688c321096d15508faae67a27051</td>\n",
       "      <td>delivered</td>\n",
       "      <td>2017-01-19 22:26:59</td>\n",
       "      <td>NaT</td>\n",
       "      <td>2017-01-29 22:26:59</td>\n",
       "      <td>2017-01-27 11:08:05</td>\n",
       "      <td>2017-02-06 14:22:19</td>\n",
       "      <td>2017-03-16</td>\n",
       "      <td>1.0</td>\n",
       "      <td>c3b271f47e73d0c9ccf1b43b7606c705</td>\n",
       "      <td>cca3071e3e9bb7d12640c9fbe2301306</td>\n",
       "      <td>45.90</td>\n",
       "      <td>14.52</td>\n",
       "    </tr>\n",
       "    <tr>\n",
       "      <th>25796</th>\n",
       "      <td>5cf925b116421afa85ee25e99b4c34fb</td>\n",
       "      <td>29c35fc91fc13fb5073c8f30505d860d</td>\n",
       "      <td>delivered</td>\n",
       "      <td>2017-02-18 16:48:35</td>\n",
       "      <td>NaT</td>\n",
       "      <td>2017-02-22 15:48:35</td>\n",
       "      <td>2017-02-22 11:23:10</td>\n",
       "      <td>2017-03-09 07:28:47</td>\n",
       "      <td>2017-03-31</td>\n",
       "      <td>1.0</td>\n",
       "      <td>c6dd917a0be2a704582055949915ab32</td>\n",
       "      <td>7a67c85e85bb2ce8582c35f2203ad736</td>\n",
       "      <td>79.99</td>\n",
       "      <td>26.82</td>\n",
       "    </tr>\n",
       "    <tr>\n",
       "      <th>26359</th>\n",
       "      <td>12a95a3c06dbaec84bcfb0e2da5d228a</td>\n",
       "      <td>1e101e0daffaddce8159d25a8e53f2b2</td>\n",
       "      <td>delivered</td>\n",
       "      <td>2017-02-17 13:05:55</td>\n",
       "      <td>NaT</td>\n",
       "      <td>2017-02-21 12:05:55</td>\n",
       "      <td>2017-02-22 11:23:11</td>\n",
       "      <td>2017-03-02 11:09:19</td>\n",
       "      <td>2017-03-20</td>\n",
       "      <td>1.0</td>\n",
       "      <td>c6dd917a0be2a704582055949915ab32</td>\n",
       "      <td>7a67c85e85bb2ce8582c35f2203ad736</td>\n",
       "      <td>79.99</td>\n",
       "      <td>15.77</td>\n",
       "    </tr>\n",
       "    <tr>\n",
       "      <th>96838</th>\n",
       "      <td>2babbb4b15e6d2dfe95e2de765c97bce</td>\n",
       "      <td>74bebaf46603f9340e3b50c6b086f992</td>\n",
       "      <td>delivered</td>\n",
       "      <td>2017-02-18 17:15:03</td>\n",
       "      <td>NaT</td>\n",
       "      <td>2017-02-22 16:15:03</td>\n",
       "      <td>2017-02-22 11:23:11</td>\n",
       "      <td>2017-03-03 18:43:43</td>\n",
       "      <td>2017-03-31</td>\n",
       "      <td>1.0</td>\n",
       "      <td>c6dd917a0be2a704582055949915ab32</td>\n",
       "      <td>7a67c85e85bb2ce8582c35f2203ad736</td>\n",
       "      <td>79.99</td>\n",
       "      <td>26.82</td>\n",
       "    </tr>\n",
       "    <tr>\n",
       "      <th>43631</th>\n",
       "      <td>d69e5d356402adc8cf17e08b5033acfb</td>\n",
       "      <td>68d081753ad4fe22fc4d410a9eb1ca01</td>\n",
       "      <td>delivered</td>\n",
       "      <td>2017-02-19 01:28:47</td>\n",
       "      <td>NaT</td>\n",
       "      <td>2017-02-26 01:28:47</td>\n",
       "      <td>2017-02-23 03:11:48</td>\n",
       "      <td>2017-03-02 03:41:58</td>\n",
       "      <td>2017-03-27</td>\n",
       "      <td>1.0</td>\n",
       "      <td>cae2e38942c8489d9d7a87a3f525c06b</td>\n",
       "      <td>cca3071e3e9bb7d12640c9fbe2301306</td>\n",
       "      <td>149.80</td>\n",
       "      <td>13.63</td>\n",
       "    </tr>\n",
       "    <tr>\n",
       "      <th>82544</th>\n",
       "      <td>3c0b8706b065f9919d0505d3b3343881</td>\n",
       "      <td>d85919cb3c0529589c6fa617f5f43281</td>\n",
       "      <td>delivered</td>\n",
       "      <td>2017-02-17 15:53:27</td>\n",
       "      <td>NaT</td>\n",
       "      <td>2017-02-22 14:53:27</td>\n",
       "      <td>2017-02-22 11:31:30</td>\n",
       "      <td>2017-03-03 11:47:47</td>\n",
       "      <td>2017-03-23</td>\n",
       "      <td>1.0</td>\n",
       "      <td>db8ed3d08891d16a2438a67ab3acb740</td>\n",
       "      <td>004c9cd9d87a3c30c522c48c4fc07416</td>\n",
       "      <td>133.99</td>\n",
       "      <td>23.20</td>\n",
       "    </tr>\n",
       "  </tbody>\n",
       "</table>\n",
       "</div>"
      ],
      "text/plain": [
       "                               order_id                       customer_id  \\\n",
       "44820  d77031d6a3c8a52f019764e68f211c69  0bf35cac6cc7327065da879e2d90fae8   \n",
       "6009   e04abd8149ef81b95221e88f6ed9ab6a  2127dc6603ac33544953ef05ec155771   \n",
       "18860  8a9adc69528e1001fc68dd0aaebbb54a  4c1ccc74e00993733742a3c786dc3c1f   \n",
       "70281  2eecb0d85f281280f79fa00f9cec1a95  a3d3c38e58b9d2dfb9207cab690b6310   \n",
       "21661  7013bcfc1c97fe719a7b5e05e61c12db  2941af76d38100e0f8740a374f1a5dc3   \n",
       "30541  c1d4211b3dae76144deccd6c74144a88  684cb238dc5b5d6366244e0e0776b450   \n",
       "71794  51eb2eebd5d76a24625b31c33dd41449  07a2a7e0f63fd8cb757ed77d4245623c   \n",
       "77167  88083e8f64d95b932164187484d90212  f67cd1a215aae2a1074638bbd35a223a   \n",
       "77168  88083e8f64d95b932164187484d90212  f67cd1a215aae2a1074638bbd35a223a   \n",
       "55152  7002a78c79c519ac54022d4f8a65e6e8  d5de688c321096d15508faae67a27051   \n",
       "25796  5cf925b116421afa85ee25e99b4c34fb  29c35fc91fc13fb5073c8f30505d860d   \n",
       "26359  12a95a3c06dbaec84bcfb0e2da5d228a  1e101e0daffaddce8159d25a8e53f2b2   \n",
       "96838  2babbb4b15e6d2dfe95e2de765c97bce  74bebaf46603f9340e3b50c6b086f992   \n",
       "43631  d69e5d356402adc8cf17e08b5033acfb  68d081753ad4fe22fc4d410a9eb1ca01   \n",
       "82544  3c0b8706b065f9919d0505d3b3343881  d85919cb3c0529589c6fa617f5f43281   \n",
       "\n",
       "      order_status order_purchase_timestamp order_approved_at  \\\n",
       "44820    delivered      2017-02-18 11:04:19               NaT   \n",
       "6009     delivered      2017-02-18 14:40:00               NaT   \n",
       "18860    delivered      2017-02-18 12:45:31               NaT   \n",
       "70281    delivered      2017-02-17 17:21:55               NaT   \n",
       "21661    delivered      2017-02-18 13:29:47               NaT   \n",
       "30541    delivered      2017-01-19 12:48:08               NaT   \n",
       "71794    delivered      2017-02-18 15:52:27               NaT   \n",
       "77167    delivered      2017-02-18 22:49:19               NaT   \n",
       "77168    delivered      2017-02-18 22:49:19               NaT   \n",
       "55152    delivered      2017-01-19 22:26:59               NaT   \n",
       "25796    delivered      2017-02-18 16:48:35               NaT   \n",
       "26359    delivered      2017-02-17 13:05:55               NaT   \n",
       "96838    delivered      2017-02-18 17:15:03               NaT   \n",
       "43631    delivered      2017-02-19 01:28:47               NaT   \n",
       "82544    delivered      2017-02-17 15:53:27               NaT   \n",
       "\n",
       "      shipping_limit_date order_delivered_carrier_date  \\\n",
       "44820 2017-02-25 10:04:19          2017-02-23 07:23:36   \n",
       "6009  2017-02-22 13:40:00          2017-02-23 12:04:47   \n",
       "18860 2017-02-22 11:45:31          2017-02-23 09:01:52   \n",
       "70281 2017-02-21 16:21:55          2017-02-22 11:42:51   \n",
       "21661 2017-02-22 12:29:47          2017-02-22 16:25:25   \n",
       "30541 2017-01-23 12:48:08          2017-01-25 14:56:50   \n",
       "71794 2017-02-28 14:52:27          2017-02-23 03:09:14   \n",
       "77167 2017-02-22 21:49:19          2017-02-22 11:31:06   \n",
       "77168 2017-02-22 21:49:19          2017-02-22 11:31:06   \n",
       "55152 2017-01-29 22:26:59          2017-01-27 11:08:05   \n",
       "25796 2017-02-22 15:48:35          2017-02-22 11:23:10   \n",
       "26359 2017-02-21 12:05:55          2017-02-22 11:23:11   \n",
       "96838 2017-02-22 16:15:03          2017-02-22 11:23:11   \n",
       "43631 2017-02-26 01:28:47          2017-02-23 03:11:48   \n",
       "82544 2017-02-22 14:53:27          2017-02-22 11:31:30   \n",
       "\n",
       "      order_delivered_customer_date order_estimated_delivery_date  \\\n",
       "44820           2017-03-02 16:15:23                    2017-03-22   \n",
       "6009            2017-03-01 13:25:33                    2017-03-17   \n",
       "18860           2017-03-02 10:05:06                    2017-03-21   \n",
       "70281           2017-03-03 12:16:03                    2017-03-20   \n",
       "21661           2017-03-01 08:07:38                    2017-03-17   \n",
       "30541           2017-01-30 18:16:01                    2017-03-01   \n",
       "71794           2017-03-07 13:57:47                    2017-03-29   \n",
       "77167           2017-03-02 12:06:06                    2017-03-21   \n",
       "77168           2017-03-02 12:06:06                    2017-03-21   \n",
       "55152           2017-02-06 14:22:19                    2017-03-16   \n",
       "25796           2017-03-09 07:28:47                    2017-03-31   \n",
       "26359           2017-03-02 11:09:19                    2017-03-20   \n",
       "96838           2017-03-03 18:43:43                    2017-03-31   \n",
       "43631           2017-03-02 03:41:58                    2017-03-27   \n",
       "82544           2017-03-03 11:47:47                    2017-03-23   \n",
       "\n",
       "       order_item_id                        product_id  \\\n",
       "44820            1.0  02a79d79e818ad0be36cfc843a6af7ad   \n",
       "6009             1.0  0e20a07ca1714df21f9b07ca3bf7c682   \n",
       "18860            1.0  2c2b6a28924791234bd386bddb17512e   \n",
       "70281            1.0  4fd676d9c4723d475026e40aeae56957   \n",
       "21661            1.0  583916a5dae918f5e89baec139141c54   \n",
       "30541            1.0  5ab02ca028398131a5ae91401eb49788   \n",
       "71794            1.0  7868a64aa111bbb4f41f8e1146c0becb   \n",
       "77167            1.0  8c5876b1c7768217964f353bc7e64393   \n",
       "77168            2.0  8c5876b1c7768217964f353bc7e64393   \n",
       "55152            1.0  c3b271f47e73d0c9ccf1b43b7606c705   \n",
       "25796            1.0  c6dd917a0be2a704582055949915ab32   \n",
       "26359            1.0  c6dd917a0be2a704582055949915ab32   \n",
       "96838            1.0  c6dd917a0be2a704582055949915ab32   \n",
       "43631            1.0  cae2e38942c8489d9d7a87a3f525c06b   \n",
       "82544            1.0  db8ed3d08891d16a2438a67ab3acb740   \n",
       "\n",
       "                              seller_id   price  freight_value  \n",
       "44820  cb3dd9ce66268c7a3ca7241ac70ab58c   28.99          10.96  \n",
       "6009   4e7c18b98d84e05cbae3ff0ff03846c2  309.90          39.11  \n",
       "18860  a4b6b9b992b46e9ef863637af96e04bc  379.00          17.86  \n",
       "70281  5fd924b4836098a5be0ecf81ba054ce0  135.00          19.23  \n",
       "21661  3481aa57cd91f9f9d3fa1fa12d9a3bf7   49.99          15.53  \n",
       "30541  80e6699fe29150b372a0c8a1ebf7dcc8   39.99          14.52  \n",
       "71794  cca3071e3e9bb7d12640c9fbe2301306   59.90          17.16  \n",
       "77167  0db783cfcd3b73998abc6e10e59a102f   49.00          14.52  \n",
       "77168  0db783cfcd3b73998abc6e10e59a102f   49.00          14.52  \n",
       "55152  cca3071e3e9bb7d12640c9fbe2301306   45.90          14.52  \n",
       "25796  7a67c85e85bb2ce8582c35f2203ad736   79.99          26.82  \n",
       "26359  7a67c85e85bb2ce8582c35f2203ad736   79.99          15.77  \n",
       "96838  7a67c85e85bb2ce8582c35f2203ad736   79.99          26.82  \n",
       "43631  cca3071e3e9bb7d12640c9fbe2301306  149.80          13.63  \n",
       "82544  004c9cd9d87a3c30c522c48c4fc07416  133.99          23.20  "
      ]
     },
     "execution_count": 43,
     "metadata": {},
     "output_type": "execute_result"
    }
   ],
   "source": [
    "orders_items_df.query('order_status == \"delivered\" and order_approved_at == \"NaT\"').sort_values('product_id')"
   ]
  },
  {
   "cell_type": "markdown",
   "metadata": {},
   "source": [
    "Интересно, что в некоторых записях имеется несоблюдение ограничения на дату поставки в логистическую службу\n",
    "\n",
    "\n",
    "Цена у товаров есть, причём немаленькая (слабо верится, что возможно сбить её до нуля акцией)"
   ]
  },
  {
   "cell_type": "markdown",
   "metadata": {},
   "source": [
    "Заключение по аномалии:\n",
    "- За исключением преждевременности доставки данные выглядят достаточно адекватно, так что больше похоже на сбой в системе записи времени подтверждения оплаты.  \n",
    "- В версию оплаты заказа после доставки верится слабо - в силу малого числа подобных записей\n",
    "\n",
    "В любом случае число подобных заказов мало => аномалия не принесёт серьёзных последствий даже в случае неправильного предположения об их природе"
   ]
  },
  {
   "cell_type": "markdown",
   "metadata": {},
   "source": [
    "#### Итоги\n",
    "Предполагается, что схема последовательности обработки заказа выглядит следующим образом (статус заказа):\n",
    "1. created - отдельные товарные позиции помещены пользователем в корзину\n",
    "2. invoiced / approved  - заказ оплачен, данные передаются для сбора товарных позиций\n",
    "3. processing - сборка заказа\n",
    "4. shipped - собранный заказ в пути к пользователю\n",
    "5. delivered - пользователь получил заказ  \n",
    "  \n",
    "При этом возможны проблемы следующего рода:  \n",
    "- unavailable - возникли проблемы со сборкой заказа (мб товар закончился)  \n",
    "- canceled - отмена заказа"
   ]
  },
  {
   "cell_type": "markdown",
   "metadata": {},
   "source": [
    "Под покупкой будем подразумевать успешную покупку, тк только в этом случае магазин получает прибыль. Признаком успешной покупки считается то, что пользователь получил заказ (и при этом его не отменил) - статус заказа delivered.\\\n",
    "В зависимости от контекста под единицей покупки можно понимать заказ / товарную позицию\\\n",
    "Момент покупки - момент совершения транзакции (её подтверждения)\\\n",
    "**Покупка - успешный (статус delivered) заказ (товарной позиции)**"
   ]
  },
  {
   "cell_type": "markdown",
   "metadata": {},
   "source": [
    "-------------"
   ]
  },
  {
   "cell_type": "markdown",
   "metadata": {},
   "source": [
    "### 1) Сколько пользователей, которые совершили покупку только один раз?"
   ]
  },
  {
   "cell_type": "code",
   "execution_count": 44,
   "metadata": {
    "scrolled": false
   },
   "outputs": [
    {
     "data": {
      "text/html": [
       "<div>\n",
       "<style scoped>\n",
       "    .dataframe tbody tr th:only-of-type {\n",
       "        vertical-align: middle;\n",
       "    }\n",
       "\n",
       "    .dataframe tbody tr th {\n",
       "        vertical-align: top;\n",
       "    }\n",
       "\n",
       "    .dataframe thead th {\n",
       "        text-align: right;\n",
       "    }\n",
       "</style>\n",
       "<table border=\"1\" class=\"dataframe\">\n",
       "  <thead>\n",
       "    <tr style=\"text-align: right;\">\n",
       "      <th></th>\n",
       "      <th>order_id</th>\n",
       "      <th>customer_id</th>\n",
       "      <th>order_status</th>\n",
       "      <th>order_purchase_timestamp</th>\n",
       "      <th>order_approved_at</th>\n",
       "      <th>order_delivered_carrier_date</th>\n",
       "      <th>order_delivered_customer_date</th>\n",
       "      <th>order_estimated_delivery_date</th>\n",
       "    </tr>\n",
       "  </thead>\n",
       "  <tbody>\n",
       "    <tr>\n",
       "      <th>0</th>\n",
       "      <td>e481f51cbdc54678b7cc49136f2d6af7</td>\n",
       "      <td>9ef432eb6251297304e76186b10a928d</td>\n",
       "      <td>delivered</td>\n",
       "      <td>2017-10-02 10:56:33</td>\n",
       "      <td>2017-10-02 11:07:15</td>\n",
       "      <td>2017-10-04 19:55:00</td>\n",
       "      <td>2017-10-10 21:25:13</td>\n",
       "      <td>2017-10-18</td>\n",
       "    </tr>\n",
       "    <tr>\n",
       "      <th>1</th>\n",
       "      <td>53cdb2fc8bc7dce0b6741e2150273451</td>\n",
       "      <td>b0830fb4747a6c6d20dea0b8c802d7ef</td>\n",
       "      <td>delivered</td>\n",
       "      <td>2018-07-24 20:41:37</td>\n",
       "      <td>2018-07-26 03:24:27</td>\n",
       "      <td>2018-07-26 14:31:00</td>\n",
       "      <td>2018-08-07 15:27:45</td>\n",
       "      <td>2018-08-13</td>\n",
       "    </tr>\n",
       "    <tr>\n",
       "      <th>2</th>\n",
       "      <td>47770eb9100c2d0c44946d9cf07ec65d</td>\n",
       "      <td>41ce2a54c0b03bf3443c3d931a367089</td>\n",
       "      <td>delivered</td>\n",
       "      <td>2018-08-08 08:38:49</td>\n",
       "      <td>2018-08-08 08:55:23</td>\n",
       "      <td>2018-08-08 13:50:00</td>\n",
       "      <td>2018-08-17 18:06:29</td>\n",
       "      <td>2018-09-04</td>\n",
       "    </tr>\n",
       "  </tbody>\n",
       "</table>\n",
       "</div>"
      ],
      "text/plain": [
       "                           order_id                       customer_id  \\\n",
       "0  e481f51cbdc54678b7cc49136f2d6af7  9ef432eb6251297304e76186b10a928d   \n",
       "1  53cdb2fc8bc7dce0b6741e2150273451  b0830fb4747a6c6d20dea0b8c802d7ef   \n",
       "2  47770eb9100c2d0c44946d9cf07ec65d  41ce2a54c0b03bf3443c3d931a367089   \n",
       "\n",
       "  order_status order_purchase_timestamp   order_approved_at  \\\n",
       "0    delivered      2017-10-02 10:56:33 2017-10-02 11:07:15   \n",
       "1    delivered      2018-07-24 20:41:37 2018-07-26 03:24:27   \n",
       "2    delivered      2018-08-08 08:38:49 2018-08-08 08:55:23   \n",
       "\n",
       "  order_delivered_carrier_date order_delivered_customer_date  \\\n",
       "0          2017-10-04 19:55:00           2017-10-10 21:25:13   \n",
       "1          2018-07-26 14:31:00           2018-08-07 15:27:45   \n",
       "2          2018-08-08 13:50:00           2018-08-17 18:06:29   \n",
       "\n",
       "  order_estimated_delivery_date  \n",
       "0                    2017-10-18  \n",
       "1                    2018-08-13  \n",
       "2                    2018-09-04  "
      ]
     },
     "execution_count": 44,
     "metadata": {},
     "output_type": "execute_result"
    }
   ],
   "source": [
    "orders_df.head(3)"
   ]
  },
  {
   "cell_type": "code",
   "execution_count": 45,
   "metadata": {},
   "outputs": [
    {
     "data": {
      "text/plain": [
       "(99441, 8)"
      ]
     },
     "execution_count": 45,
     "metadata": {},
     "output_type": "execute_result"
    }
   ],
   "source": [
    "orders_df.shape"
   ]
  },
  {
   "cell_type": "code",
   "execution_count": 46,
   "metadata": {},
   "outputs": [
    {
     "data": {
      "text/plain": [
       "99441"
      ]
     },
     "execution_count": 46,
     "metadata": {},
     "output_type": "execute_result"
    }
   ],
   "source": [
    "orders_df.customer_id.nunique()"
   ]
  },
  {
   "cell_type": "markdown",
   "metadata": {},
   "source": [
    "=> все customer_id уникальные  \n",
    "Видимо, это поле используется для сокрытия информации о реальном пользователе  \n",
    "Реальный id пользователя можно получить из таблицы customers_df"
   ]
  },
  {
   "cell_type": "code",
   "execution_count": 47,
   "metadata": {
    "scrolled": true
   },
   "outputs": [
    {
     "data": {
      "text/html": [
       "<div>\n",
       "<style scoped>\n",
       "    .dataframe tbody tr th:only-of-type {\n",
       "        vertical-align: middle;\n",
       "    }\n",
       "\n",
       "    .dataframe tbody tr th {\n",
       "        vertical-align: top;\n",
       "    }\n",
       "\n",
       "    .dataframe thead th {\n",
       "        text-align: right;\n",
       "    }\n",
       "</style>\n",
       "<table border=\"1\" class=\"dataframe\">\n",
       "  <thead>\n",
       "    <tr style=\"text-align: right;\">\n",
       "      <th></th>\n",
       "      <th>order_id</th>\n",
       "      <th>customer_id</th>\n",
       "      <th>order_status</th>\n",
       "      <th>order_purchase_timestamp</th>\n",
       "      <th>order_approved_at</th>\n",
       "      <th>order_delivered_carrier_date</th>\n",
       "      <th>order_delivered_customer_date</th>\n",
       "      <th>order_estimated_delivery_date</th>\n",
       "      <th>customer_unique_id</th>\n",
       "      <th>customer_zip_code_prefix</th>\n",
       "      <th>customer_city</th>\n",
       "      <th>customer_state</th>\n",
       "    </tr>\n",
       "  </thead>\n",
       "  <tbody>\n",
       "    <tr>\n",
       "      <th>0</th>\n",
       "      <td>e481f51cbdc54678b7cc49136f2d6af7</td>\n",
       "      <td>9ef432eb6251297304e76186b10a928d</td>\n",
       "      <td>delivered</td>\n",
       "      <td>2017-10-02 10:56:33</td>\n",
       "      <td>2017-10-02 11:07:15</td>\n",
       "      <td>2017-10-04 19:55:00</td>\n",
       "      <td>2017-10-10 21:25:13</td>\n",
       "      <td>2017-10-18</td>\n",
       "      <td>7c396fd4830fd04220f754e42b4e5bff</td>\n",
       "      <td>3149</td>\n",
       "      <td>sao paulo</td>\n",
       "      <td>SP</td>\n",
       "    </tr>\n",
       "    <tr>\n",
       "      <th>1</th>\n",
       "      <td>53cdb2fc8bc7dce0b6741e2150273451</td>\n",
       "      <td>b0830fb4747a6c6d20dea0b8c802d7ef</td>\n",
       "      <td>delivered</td>\n",
       "      <td>2018-07-24 20:41:37</td>\n",
       "      <td>2018-07-26 03:24:27</td>\n",
       "      <td>2018-07-26 14:31:00</td>\n",
       "      <td>2018-08-07 15:27:45</td>\n",
       "      <td>2018-08-13</td>\n",
       "      <td>af07308b275d755c9edb36a90c618231</td>\n",
       "      <td>47813</td>\n",
       "      <td>barreiras</td>\n",
       "      <td>BA</td>\n",
       "    </tr>\n",
       "    <tr>\n",
       "      <th>2</th>\n",
       "      <td>47770eb9100c2d0c44946d9cf07ec65d</td>\n",
       "      <td>41ce2a54c0b03bf3443c3d931a367089</td>\n",
       "      <td>delivered</td>\n",
       "      <td>2018-08-08 08:38:49</td>\n",
       "      <td>2018-08-08 08:55:23</td>\n",
       "      <td>2018-08-08 13:50:00</td>\n",
       "      <td>2018-08-17 18:06:29</td>\n",
       "      <td>2018-09-04</td>\n",
       "      <td>3a653a41f6f9fc3d2a113cf8398680e8</td>\n",
       "      <td>75265</td>\n",
       "      <td>vianopolis</td>\n",
       "      <td>GO</td>\n",
       "    </tr>\n",
       "  </tbody>\n",
       "</table>\n",
       "</div>"
      ],
      "text/plain": [
       "                           order_id                       customer_id  \\\n",
       "0  e481f51cbdc54678b7cc49136f2d6af7  9ef432eb6251297304e76186b10a928d   \n",
       "1  53cdb2fc8bc7dce0b6741e2150273451  b0830fb4747a6c6d20dea0b8c802d7ef   \n",
       "2  47770eb9100c2d0c44946d9cf07ec65d  41ce2a54c0b03bf3443c3d931a367089   \n",
       "\n",
       "  order_status order_purchase_timestamp   order_approved_at  \\\n",
       "0    delivered      2017-10-02 10:56:33 2017-10-02 11:07:15   \n",
       "1    delivered      2018-07-24 20:41:37 2018-07-26 03:24:27   \n",
       "2    delivered      2018-08-08 08:38:49 2018-08-08 08:55:23   \n",
       "\n",
       "  order_delivered_carrier_date order_delivered_customer_date  \\\n",
       "0          2017-10-04 19:55:00           2017-10-10 21:25:13   \n",
       "1          2018-07-26 14:31:00           2018-08-07 15:27:45   \n",
       "2          2018-08-08 13:50:00           2018-08-17 18:06:29   \n",
       "\n",
       "  order_estimated_delivery_date                customer_unique_id  \\\n",
       "0                    2017-10-18  7c396fd4830fd04220f754e42b4e5bff   \n",
       "1                    2018-08-13  af07308b275d755c9edb36a90c618231   \n",
       "2                    2018-09-04  3a653a41f6f9fc3d2a113cf8398680e8   \n",
       "\n",
       "   customer_zip_code_prefix customer_city customer_state  \n",
       "0                      3149     sao paulo             SP  \n",
       "1                     47813     barreiras             BA  \n",
       "2                     75265    vianopolis             GO  "
      ]
     },
     "execution_count": 47,
     "metadata": {},
     "output_type": "execute_result"
    }
   ],
   "source": [
    "orders_customers_df = pd.merge(left=orders_df, right=customers_df, how='left', on='customer_id')\n",
    "orders_customers_df.head(3)"
   ]
  },
  {
   "cell_type": "code",
   "execution_count": 48,
   "metadata": {},
   "outputs": [
    {
     "data": {
      "text/plain": [
       "(99441, 12)"
      ]
     },
     "execution_count": 48,
     "metadata": {},
     "output_type": "execute_result"
    }
   ],
   "source": [
    "orders_customers_df.shape"
   ]
  },
  {
   "cell_type": "code",
   "execution_count": 49,
   "metadata": {},
   "outputs": [
    {
     "data": {
      "text/plain": [
       "0"
      ]
     },
     "execution_count": 49,
     "metadata": {},
     "output_type": "execute_result"
    }
   ],
   "source": [
    "orders_customers_df.customer_unique_id.isna().sum()"
   ]
  },
  {
   "cell_type": "markdown",
   "metadata": {},
   "source": [
    "=> соответствие нашлось для каждого customer_id"
   ]
  },
  {
   "cell_type": "markdown",
   "metadata": {},
   "source": [
    "Под единицей покупки полагается заказ (т.к. продакт менеджера скорее всего интересуют пользователи, воспользовавшиеся магазином лишь раз, нежели пользователи, которые приобрели единственный товар)"
   ]
  },
  {
   "cell_type": "code",
   "execution_count": 50,
   "metadata": {},
   "outputs": [
    {
     "data": {
      "text/plain": [
       "90557"
      ]
     },
     "execution_count": 50,
     "metadata": {},
     "output_type": "execute_result"
    }
   ],
   "source": [
    "sum(orders_customers_df.query('order_status == \"delivered\"').customer_unique_id.value_counts() == 1)"
   ]
  },
  {
   "cell_type": "markdown",
   "metadata": {},
   "source": [
    "#### Ответ: всего 90557 пользователей, совершивших единственную покупку"
   ]
  },
  {
   "cell_type": "markdown",
   "metadata": {},
   "source": [
    "Всего пользователей"
   ]
  },
  {
   "cell_type": "code",
   "execution_count": 51,
   "metadata": {},
   "outputs": [
    {
     "data": {
      "text/plain": [
       "96096"
      ]
     },
     "execution_count": 51,
     "metadata": {},
     "output_type": "execute_result"
    }
   ],
   "source": [
    "orders_customers_df.customer_unique_id.nunique()"
   ]
  },
  {
   "cell_type": "markdown",
   "metadata": {},
   "source": [
    "=> пользователей с единственной покупкой достаточно много"
   ]
  },
  {
   "cell_type": "markdown",
   "metadata": {},
   "source": [
    "-------------------------"
   ]
  },
  {
   "cell_type": "markdown",
   "metadata": {},
   "source": [
    "### 2) Сколько заказов в месяц в среднем не доставляется? Детализация причин"
   ]
  },
  {
   "cell_type": "markdown",
   "metadata": {},
   "source": [
    "#### Подсчёт числа заказов по месяцам"
   ]
  },
  {
   "cell_type": "markdown",
   "metadata": {},
   "source": [
    "Месяц используем тот, в который был создан заказ  \n",
    "_Заказов НЕ доставлено_"
   ]
  },
  {
   "cell_type": "code",
   "execution_count": 52,
   "metadata": {},
   "outputs": [],
   "source": [
    "orders_status_df = pd.DataFrame()\n",
    "orders_status_df['not_delivered'] = (\n",
    "    orders_df.set_index('order_purchase_timestamp')\n",
    "    .query('order_status != \"delivered\"')\n",
    "    .resample(rule='M').order_id.count()\n",
    ")"
   ]
  },
  {
   "cell_type": "code",
   "execution_count": 53,
   "metadata": {},
   "outputs": [
    {
     "data": {
      "text/html": [
       "<div>\n",
       "<style scoped>\n",
       "    .dataframe tbody tr th:only-of-type {\n",
       "        vertical-align: middle;\n",
       "    }\n",
       "\n",
       "    .dataframe tbody tr th {\n",
       "        vertical-align: top;\n",
       "    }\n",
       "\n",
       "    .dataframe thead th {\n",
       "        text-align: right;\n",
       "    }\n",
       "</style>\n",
       "<table border=\"1\" class=\"dataframe\">\n",
       "  <thead>\n",
       "    <tr style=\"text-align: right;\">\n",
       "      <th></th>\n",
       "      <th>not_delivered</th>\n",
       "    </tr>\n",
       "    <tr>\n",
       "      <th>order_purchase_timestamp</th>\n",
       "      <th></th>\n",
       "    </tr>\n",
       "  </thead>\n",
       "  <tbody>\n",
       "    <tr>\n",
       "      <th>2016-09-30</th>\n",
       "      <td>3</td>\n",
       "    </tr>\n",
       "    <tr>\n",
       "      <th>2016-10-31</th>\n",
       "      <td>59</td>\n",
       "    </tr>\n",
       "    <tr>\n",
       "      <th>2016-11-30</th>\n",
       "      <td>0</td>\n",
       "    </tr>\n",
       "    <tr>\n",
       "      <th>2016-12-31</th>\n",
       "      <td>0</td>\n",
       "    </tr>\n",
       "    <tr>\n",
       "      <th>2017-01-31</th>\n",
       "      <td>50</td>\n",
       "    </tr>\n",
       "  </tbody>\n",
       "</table>\n",
       "</div>"
      ],
      "text/plain": [
       "                          not_delivered\n",
       "order_purchase_timestamp               \n",
       "2016-09-30                            3\n",
       "2016-10-31                           59\n",
       "2016-11-30                            0\n",
       "2016-12-31                            0\n",
       "2017-01-31                           50"
      ]
     },
     "execution_count": 53,
     "metadata": {},
     "output_type": "execute_result"
    }
   ],
   "source": [
    "orders_status_df.head()"
   ]
  },
  {
   "cell_type": "markdown",
   "metadata": {},
   "source": [
    "_Заказов доставлено_"
   ]
  },
  {
   "cell_type": "code",
   "execution_count": 54,
   "metadata": {},
   "outputs": [],
   "source": [
    "orders_status_df['delivered'] = (\n",
    "    orders_df.set_index('order_purchase_timestamp')\n",
    "    .query('order_status == \"delivered\"')\n",
    "    .resample(rule='M').order_id.count()\n",
    ")"
   ]
  },
  {
   "cell_type": "code",
   "execution_count": 55,
   "metadata": {},
   "outputs": [
    {
     "data": {
      "text/html": [
       "<div>\n",
       "<style scoped>\n",
       "    .dataframe tbody tr th:only-of-type {\n",
       "        vertical-align: middle;\n",
       "    }\n",
       "\n",
       "    .dataframe tbody tr th {\n",
       "        vertical-align: top;\n",
       "    }\n",
       "\n",
       "    .dataframe thead th {\n",
       "        text-align: right;\n",
       "    }\n",
       "</style>\n",
       "<table border=\"1\" class=\"dataframe\">\n",
       "  <thead>\n",
       "    <tr style=\"text-align: right;\">\n",
       "      <th></th>\n",
       "      <th>not_delivered</th>\n",
       "      <th>delivered</th>\n",
       "    </tr>\n",
       "    <tr>\n",
       "      <th>order_purchase_timestamp</th>\n",
       "      <th></th>\n",
       "      <th></th>\n",
       "    </tr>\n",
       "  </thead>\n",
       "  <tbody>\n",
       "    <tr>\n",
       "      <th>2016-09-30</th>\n",
       "      <td>3</td>\n",
       "      <td>1.0</td>\n",
       "    </tr>\n",
       "    <tr>\n",
       "      <th>2016-10-31</th>\n",
       "      <td>59</td>\n",
       "      <td>265.0</td>\n",
       "    </tr>\n",
       "    <tr>\n",
       "      <th>2016-11-30</th>\n",
       "      <td>0</td>\n",
       "      <td>0.0</td>\n",
       "    </tr>\n",
       "    <tr>\n",
       "      <th>2016-12-31</th>\n",
       "      <td>0</td>\n",
       "      <td>1.0</td>\n",
       "    </tr>\n",
       "    <tr>\n",
       "      <th>2017-01-31</th>\n",
       "      <td>50</td>\n",
       "      <td>750.0</td>\n",
       "    </tr>\n",
       "  </tbody>\n",
       "</table>\n",
       "</div>"
      ],
      "text/plain": [
       "                          not_delivered  delivered\n",
       "order_purchase_timestamp                          \n",
       "2016-09-30                            3        1.0\n",
       "2016-10-31                           59      265.0\n",
       "2016-11-30                            0        0.0\n",
       "2016-12-31                            0        1.0\n",
       "2017-01-31                           50      750.0"
      ]
     },
     "execution_count": 55,
     "metadata": {},
     "output_type": "execute_result"
    }
   ],
   "source": [
    "orders_status_df.head()"
   ]
  },
  {
   "cell_type": "markdown",
   "metadata": {},
   "source": [
    "Всего заказов на основании доставленных и недоставленных"
   ]
  },
  {
   "cell_type": "code",
   "execution_count": 56,
   "metadata": {},
   "outputs": [],
   "source": [
    "orders_status_df['sum'] = orders_status_df.not_delivered + orders_status_df.delivered"
   ]
  },
  {
   "cell_type": "code",
   "execution_count": 57,
   "metadata": {},
   "outputs": [
    {
     "data": {
      "text/html": [
       "<div>\n",
       "<style scoped>\n",
       "    .dataframe tbody tr th:only-of-type {\n",
       "        vertical-align: middle;\n",
       "    }\n",
       "\n",
       "    .dataframe tbody tr th {\n",
       "        vertical-align: top;\n",
       "    }\n",
       "\n",
       "    .dataframe thead th {\n",
       "        text-align: right;\n",
       "    }\n",
       "</style>\n",
       "<table border=\"1\" class=\"dataframe\">\n",
       "  <thead>\n",
       "    <tr style=\"text-align: right;\">\n",
       "      <th></th>\n",
       "      <th>not_delivered</th>\n",
       "      <th>delivered</th>\n",
       "      <th>sum</th>\n",
       "    </tr>\n",
       "    <tr>\n",
       "      <th>order_purchase_timestamp</th>\n",
       "      <th></th>\n",
       "      <th></th>\n",
       "      <th></th>\n",
       "    </tr>\n",
       "  </thead>\n",
       "  <tbody>\n",
       "    <tr>\n",
       "      <th>2016-09-30</th>\n",
       "      <td>3</td>\n",
       "      <td>1.0</td>\n",
       "      <td>4.0</td>\n",
       "    </tr>\n",
       "    <tr>\n",
       "      <th>2016-10-31</th>\n",
       "      <td>59</td>\n",
       "      <td>265.0</td>\n",
       "      <td>324.0</td>\n",
       "    </tr>\n",
       "    <tr>\n",
       "      <th>2016-11-30</th>\n",
       "      <td>0</td>\n",
       "      <td>0.0</td>\n",
       "      <td>0.0</td>\n",
       "    </tr>\n",
       "    <tr>\n",
       "      <th>2016-12-31</th>\n",
       "      <td>0</td>\n",
       "      <td>1.0</td>\n",
       "      <td>1.0</td>\n",
       "    </tr>\n",
       "    <tr>\n",
       "      <th>2017-01-31</th>\n",
       "      <td>50</td>\n",
       "      <td>750.0</td>\n",
       "      <td>800.0</td>\n",
       "    </tr>\n",
       "  </tbody>\n",
       "</table>\n",
       "</div>"
      ],
      "text/plain": [
       "                          not_delivered  delivered    sum\n",
       "order_purchase_timestamp                                 \n",
       "2016-09-30                            3        1.0    4.0\n",
       "2016-10-31                           59      265.0  324.0\n",
       "2016-11-30                            0        0.0    0.0\n",
       "2016-12-31                            0        1.0    1.0\n",
       "2017-01-31                           50      750.0  800.0"
      ]
     },
     "execution_count": 57,
     "metadata": {},
     "output_type": "execute_result"
    }
   ],
   "source": [
    "orders_status_df.head()"
   ]
  },
  {
   "cell_type": "markdown",
   "metadata": {},
   "source": [
    "Всего заказов по исходному df"
   ]
  },
  {
   "cell_type": "code",
   "execution_count": 58,
   "metadata": {},
   "outputs": [],
   "source": [
    "orders_status_df['all'] = (\n",
    "    orders_df.set_index('order_purchase_timestamp')\n",
    "    .resample(rule='M').order_id.count()\n",
    ")"
   ]
  },
  {
   "cell_type": "code",
   "execution_count": 59,
   "metadata": {},
   "outputs": [
    {
     "data": {
      "text/html": [
       "<div>\n",
       "<style scoped>\n",
       "    .dataframe tbody tr th:only-of-type {\n",
       "        vertical-align: middle;\n",
       "    }\n",
       "\n",
       "    .dataframe tbody tr th {\n",
       "        vertical-align: top;\n",
       "    }\n",
       "\n",
       "    .dataframe thead th {\n",
       "        text-align: right;\n",
       "    }\n",
       "</style>\n",
       "<table border=\"1\" class=\"dataframe\">\n",
       "  <thead>\n",
       "    <tr style=\"text-align: right;\">\n",
       "      <th></th>\n",
       "      <th>not_delivered</th>\n",
       "      <th>delivered</th>\n",
       "      <th>sum</th>\n",
       "      <th>all</th>\n",
       "    </tr>\n",
       "    <tr>\n",
       "      <th>order_purchase_timestamp</th>\n",
       "      <th></th>\n",
       "      <th></th>\n",
       "      <th></th>\n",
       "      <th></th>\n",
       "    </tr>\n",
       "  </thead>\n",
       "  <tbody>\n",
       "    <tr>\n",
       "      <th>2016-09-30</th>\n",
       "      <td>3</td>\n",
       "      <td>1.0</td>\n",
       "      <td>4.0</td>\n",
       "      <td>4</td>\n",
       "    </tr>\n",
       "    <tr>\n",
       "      <th>2016-10-31</th>\n",
       "      <td>59</td>\n",
       "      <td>265.0</td>\n",
       "      <td>324.0</td>\n",
       "      <td>324</td>\n",
       "    </tr>\n",
       "    <tr>\n",
       "      <th>2016-11-30</th>\n",
       "      <td>0</td>\n",
       "      <td>0.0</td>\n",
       "      <td>0.0</td>\n",
       "      <td>0</td>\n",
       "    </tr>\n",
       "    <tr>\n",
       "      <th>2016-12-31</th>\n",
       "      <td>0</td>\n",
       "      <td>1.0</td>\n",
       "      <td>1.0</td>\n",
       "      <td>1</td>\n",
       "    </tr>\n",
       "    <tr>\n",
       "      <th>2017-01-31</th>\n",
       "      <td>50</td>\n",
       "      <td>750.0</td>\n",
       "      <td>800.0</td>\n",
       "      <td>800</td>\n",
       "    </tr>\n",
       "  </tbody>\n",
       "</table>\n",
       "</div>"
      ],
      "text/plain": [
       "                          not_delivered  delivered    sum  all\n",
       "order_purchase_timestamp                                      \n",
       "2016-09-30                            3        1.0    4.0    4\n",
       "2016-10-31                           59      265.0  324.0  324\n",
       "2016-11-30                            0        0.0    0.0    0\n",
       "2016-12-31                            0        1.0    1.0    1\n",
       "2017-01-31                           50      750.0  800.0  800"
      ]
     },
     "execution_count": 59,
     "metadata": {},
     "output_type": "execute_result"
    }
   ],
   "source": [
    "orders_status_df.head()"
   ]
  },
  {
   "cell_type": "markdown",
   "metadata": {},
   "source": [
    "Разница между получившимся количеством заказов и их исходным значением"
   ]
  },
  {
   "cell_type": "code",
   "execution_count": 60,
   "metadata": {},
   "outputs": [
    {
     "data": {
      "text/plain": [
       "0.0"
      ]
     },
     "execution_count": 60,
     "metadata": {},
     "output_type": "execute_result"
    }
   ],
   "source": [
    "(orders_status_df['sum'] - orders_status_df['all']).sum()"
   ]
  },
  {
   "cell_type": "markdown",
   "metadata": {},
   "source": [
    "=> расчёт корректен"
   ]
  },
  {
   "cell_type": "markdown",
   "metadata": {},
   "source": [
    "_График по количеству недоставленных товаров_"
   ]
  },
  {
   "cell_type": "code",
   "execution_count": 61,
   "metadata": {},
   "outputs": [
    {
     "data": {
      "image/png": "[encoded data removed]",
      "text/plain": [
       "<Figure size 1000x600 with 1 Axes>"
      ]
     },
     "metadata": {},
     "output_type": "display_data"
    }
   ],
   "source": [
    "orders_status_df.not_delivered.plot();"
   ]
  },
  {
   "cell_type": "markdown",
   "metadata": {},
   "source": [
    "При этом стоит учитывать, что заказ мб не доставлен по причине того, что он ещё готовится/доставляется. Скорее всего это не то, что интересует продакт-менеджера"
   ]
  },
  {
   "cell_type": "markdown",
   "metadata": {},
   "source": [
    "**Среднее количество недоставленных заказов в месяц по статусам**"
   ]
  },
  {
   "cell_type": "code",
   "execution_count": 62,
   "metadata": {},
   "outputs": [
    {
     "data": {
      "text/plain": [
       "0       2017-10-01\n",
       "1       2018-07-01\n",
       "2       2018-08-01\n",
       "3       2017-11-01\n",
       "4       2018-02-01\n",
       "           ...    \n",
       "99436   2017-03-01\n",
       "99437   2018-02-01\n",
       "99438   2017-08-01\n",
       "99439   2018-01-01\n",
       "99440   2018-03-01\n",
       "Name: order_purchase_timestamp, Length: 99441, dtype: datetime64[ns]"
      ]
     },
     "execution_count": 62,
     "metadata": {},
     "output_type": "execute_result"
    }
   ],
   "source": [
    "orders_df.order_purchase_timestamp.dt.to_period('M').dt.to_timestamp()"
   ]
  },
  {
   "cell_type": "code",
   "execution_count": 63,
   "metadata": {},
   "outputs": [
    {
     "data": {
      "text/html": [
       "<div>\n",
       "<style scoped>\n",
       "    .dataframe tbody tr th:only-of-type {\n",
       "        vertical-align: middle;\n",
       "    }\n",
       "\n",
       "    .dataframe tbody tr th {\n",
       "        vertical-align: top;\n",
       "    }\n",
       "\n",
       "    .dataframe thead th {\n",
       "        text-align: right;\n",
       "    }\n",
       "</style>\n",
       "<table border=\"1\" class=\"dataframe\">\n",
       "  <thead>\n",
       "    <tr style=\"text-align: right;\">\n",
       "      <th></th>\n",
       "      <th>order_status</th>\n",
       "      <th>order_count</th>\n",
       "    </tr>\n",
       "  </thead>\n",
       "  <tbody>\n",
       "    <tr>\n",
       "      <th>5</th>\n",
       "      <td>shipped</td>\n",
       "      <td>46.1</td>\n",
       "    </tr>\n",
       "    <tr>\n",
       "      <th>1</th>\n",
       "      <td>canceled</td>\n",
       "      <td>26.0</td>\n",
       "    </tr>\n",
       "    <tr>\n",
       "      <th>6</th>\n",
       "      <td>unavailable</td>\n",
       "      <td>25.4</td>\n",
       "    </tr>\n",
       "    <tr>\n",
       "      <th>3</th>\n",
       "      <td>invoiced</td>\n",
       "      <td>13.1</td>\n",
       "    </tr>\n",
       "    <tr>\n",
       "      <th>4</th>\n",
       "      <td>processing</td>\n",
       "      <td>12.5</td>\n",
       "    </tr>\n",
       "    <tr>\n",
       "      <th>2</th>\n",
       "      <td>created</td>\n",
       "      <td>0.2</td>\n",
       "    </tr>\n",
       "    <tr>\n",
       "      <th>0</th>\n",
       "      <td>approved</td>\n",
       "      <td>0.1</td>\n",
       "    </tr>\n",
       "  </tbody>\n",
       "</table>\n",
       "</div>"
      ],
      "text/plain": [
       "  order_status  order_count\n",
       "5      shipped         46.1\n",
       "1     canceled         26.0\n",
       "6  unavailable         25.4\n",
       "3     invoiced         13.1\n",
       "4   processing         12.5\n",
       "2      created          0.2\n",
       "0     approved          0.1"
      ]
     },
     "execution_count": 63,
     "metadata": {},
     "output_type": "execute_result"
    }
   ],
   "source": [
    "order_status_stats = (\n",
    "orders_df\n",
    "    .assign(purchase_month = orders_df.order_purchase_timestamp.dt.to_period('M').dt.to_timestamp())\n",
    "    .query('order_status != \"delivered\"')\n",
    "    # Категории для учёта градаций order_status, которые могут отсутствовать для текущего месяца\n",
    "    .astype({'order_status': 'category'})  \n",
    "    .groupby(['purchase_month', 'order_status'], as_index=False).order_id.count()\n",
    "    .rename(columns={'order_id': 'order_count'})\n",
    ")\n",
    "order_status_stats.order_count.fillna(0, inplace=True)\n",
    "order_status_stats = (\n",
    "    order_status_stats\n",
    "    .groupby('order_status', as_index=False).order_count.mean()\n",
    "    .round(1)\n",
    "    .sort_values('order_count', ascending=False)\n",
    ")\n",
    "order_status_stats"
   ]
  },
  {
   "cell_type": "markdown",
   "metadata": {},
   "source": [
    "По статусам, которые скорее всего интересуют продакт-менеджера"
   ]
  },
  {
   "cell_type": "markdown",
   "metadata": {},
   "source": [
    "- created —  создан\n",
    "- approved —  подтверждён\n",
    "- invoiced —  выставлен счёт\n",
    "- processing —  в процессе сборки заказа\n",
    "- shipped —  отгружен со склада\n",
    "- delivered —  доставлен пользователю\n",
    "- unavailable —  недоступен\n",
    "- canceled —  отменён"
   ]
  },
  {
   "cell_type": "code",
   "execution_count": 64,
   "metadata": {},
   "outputs": [
    {
     "data": {
      "text/plain": [
       "['shipped',\n",
       " 'canceled',\n",
       " 'unavailable',\n",
       " 'invoiced',\n",
       " 'processing',\n",
       " 'created',\n",
       " 'approved']"
      ]
     },
     "execution_count": 64,
     "metadata": {},
     "output_type": "execute_result"
    }
   ],
   "source": [
    "list(order_status_stats.order_status.unique())"
   ]
  },
  {
   "cell_type": "code",
   "execution_count": 65,
   "metadata": {},
   "outputs": [],
   "source": [
    "interest_statuses = ['canceled', 'unavailable']"
   ]
  },
  {
   "cell_type": "code",
   "execution_count": 66,
   "metadata": {},
   "outputs": [
    {
     "data": {
      "text/html": [
       "<div>\n",
       "<style scoped>\n",
       "    .dataframe tbody tr th:only-of-type {\n",
       "        vertical-align: middle;\n",
       "    }\n",
       "\n",
       "    .dataframe tbody tr th {\n",
       "        vertical-align: top;\n",
       "    }\n",
       "\n",
       "    .dataframe thead th {\n",
       "        text-align: right;\n",
       "    }\n",
       "</style>\n",
       "<table border=\"1\" class=\"dataframe\">\n",
       "  <thead>\n",
       "    <tr style=\"text-align: right;\">\n",
       "      <th></th>\n",
       "      <th>order_status</th>\n",
       "      <th>order_count</th>\n",
       "    </tr>\n",
       "  </thead>\n",
       "  <tbody>\n",
       "    <tr>\n",
       "      <th>1</th>\n",
       "      <td>canceled</td>\n",
       "      <td>26.0</td>\n",
       "    </tr>\n",
       "    <tr>\n",
       "      <th>6</th>\n",
       "      <td>unavailable</td>\n",
       "      <td>25.4</td>\n",
       "    </tr>\n",
       "  </tbody>\n",
       "</table>\n",
       "</div>"
      ],
      "text/plain": [
       "  order_status  order_count\n",
       "1     canceled         26.0\n",
       "6  unavailable         25.4"
      ]
     },
     "execution_count": 66,
     "metadata": {},
     "output_type": "execute_result"
    }
   ],
   "source": [
    "order_status_stats.query('order_status in @interest_statuses')"
   ]
  },
  {
   "cell_type": "markdown",
   "metadata": {},
   "source": [
    "**Среднее число недоставленных заказов в месяц**"
   ]
  },
  {
   "cell_type": "code",
   "execution_count": 67,
   "metadata": {},
   "outputs": [
    {
     "data": {
      "text/plain": [
       "51.4"
      ]
     },
     "execution_count": 67,
     "metadata": {},
     "output_type": "execute_result"
    }
   ],
   "source": [
    "order_status_stats.query('order_status in @interest_statuses').order_count.sum()"
   ]
  },
  {
   "cell_type": "markdown",
   "metadata": {},
   "source": [
    "#### Выводы:\n",
    "- в месяц в среднем не доставляется ~51 заказ\n",
    "- наиболее частая причина недоставки груза в месяц заказа - отмена заказа"
   ]
  },
  {
   "cell_type": "markdown",
   "metadata": {},
   "source": [
    "---------------------------------"
   ]
  },
  {
   "cell_type": "markdown",
   "metadata": {},
   "source": [
    "### 3) По каждому товару определить, в какой день недели товар чаще всего покупается."
   ]
  },
  {
   "cell_type": "markdown",
   "metadata": {},
   "source": [
    "df с детализацией заказов по товарам"
   ]
  },
  {
   "cell_type": "code",
   "execution_count": 68,
   "metadata": {},
   "outputs": [
    {
     "data": {
      "text/html": [
       "<div>\n",
       "<style scoped>\n",
       "    .dataframe tbody tr th:only-of-type {\n",
       "        vertical-align: middle;\n",
       "    }\n",
       "\n",
       "    .dataframe tbody tr th {\n",
       "        vertical-align: top;\n",
       "    }\n",
       "\n",
       "    .dataframe thead th {\n",
       "        text-align: right;\n",
       "    }\n",
       "</style>\n",
       "<table border=\"1\" class=\"dataframe\">\n",
       "  <thead>\n",
       "    <tr style=\"text-align: right;\">\n",
       "      <th></th>\n",
       "      <th>order_id</th>\n",
       "      <th>customer_id</th>\n",
       "      <th>order_status</th>\n",
       "      <th>order_purchase_timestamp</th>\n",
       "      <th>order_approved_at</th>\n",
       "      <th>order_delivered_carrier_date</th>\n",
       "      <th>order_delivered_customer_date</th>\n",
       "      <th>order_estimated_delivery_date</th>\n",
       "      <th>order_item_id</th>\n",
       "      <th>product_id</th>\n",
       "      <th>seller_id</th>\n",
       "      <th>shipping_limit_date</th>\n",
       "      <th>price</th>\n",
       "      <th>freight_value</th>\n",
       "    </tr>\n",
       "  </thead>\n",
       "  <tbody>\n",
       "    <tr>\n",
       "      <th>0</th>\n",
       "      <td>e481f51cbdc54678b7cc49136f2d6af7</td>\n",
       "      <td>9ef432eb6251297304e76186b10a928d</td>\n",
       "      <td>delivered</td>\n",
       "      <td>2017-10-02 10:56:33</td>\n",
       "      <td>2017-10-02 11:07:15</td>\n",
       "      <td>2017-10-04 19:55:00</td>\n",
       "      <td>2017-10-10 21:25:13</td>\n",
       "      <td>2017-10-18</td>\n",
       "      <td>1</td>\n",
       "      <td>87285b34884572647811a353c7ac498a</td>\n",
       "      <td>3504c0cb71d7fa48d967e0e4c94d59d9</td>\n",
       "      <td>2017-10-06 11:07:15</td>\n",
       "      <td>29.99</td>\n",
       "      <td>8.72</td>\n",
       "    </tr>\n",
       "    <tr>\n",
       "      <th>1</th>\n",
       "      <td>53cdb2fc8bc7dce0b6741e2150273451</td>\n",
       "      <td>b0830fb4747a6c6d20dea0b8c802d7ef</td>\n",
       "      <td>delivered</td>\n",
       "      <td>2018-07-24 20:41:37</td>\n",
       "      <td>2018-07-26 03:24:27</td>\n",
       "      <td>2018-07-26 14:31:00</td>\n",
       "      <td>2018-08-07 15:27:45</td>\n",
       "      <td>2018-08-13</td>\n",
       "      <td>1</td>\n",
       "      <td>595fac2a385ac33a80bd5114aec74eb8</td>\n",
       "      <td>289cdb325fb7e7f891c38608bf9e0962</td>\n",
       "      <td>2018-07-30 03:24:27</td>\n",
       "      <td>118.70</td>\n",
       "      <td>22.76</td>\n",
       "    </tr>\n",
       "    <tr>\n",
       "      <th>2</th>\n",
       "      <td>47770eb9100c2d0c44946d9cf07ec65d</td>\n",
       "      <td>41ce2a54c0b03bf3443c3d931a367089</td>\n",
       "      <td>delivered</td>\n",
       "      <td>2018-08-08 08:38:49</td>\n",
       "      <td>2018-08-08 08:55:23</td>\n",
       "      <td>2018-08-08 13:50:00</td>\n",
       "      <td>2018-08-17 18:06:29</td>\n",
       "      <td>2018-09-04</td>\n",
       "      <td>1</td>\n",
       "      <td>aa4383b373c6aca5d8797843e5594415</td>\n",
       "      <td>4869f7a5dfa277a7dca6462dcf3b52b2</td>\n",
       "      <td>2018-08-13 08:55:23</td>\n",
       "      <td>159.90</td>\n",
       "      <td>19.22</td>\n",
       "    </tr>\n",
       "  </tbody>\n",
       "</table>\n",
       "</div>"
      ],
      "text/plain": [
       "                           order_id                       customer_id  \\\n",
       "0  e481f51cbdc54678b7cc49136f2d6af7  9ef432eb6251297304e76186b10a928d   \n",
       "1  53cdb2fc8bc7dce0b6741e2150273451  b0830fb4747a6c6d20dea0b8c802d7ef   \n",
       "2  47770eb9100c2d0c44946d9cf07ec65d  41ce2a54c0b03bf3443c3d931a367089   \n",
       "\n",
       "  order_status order_purchase_timestamp   order_approved_at  \\\n",
       "0    delivered      2017-10-02 10:56:33 2017-10-02 11:07:15   \n",
       "1    delivered      2018-07-24 20:41:37 2018-07-26 03:24:27   \n",
       "2    delivered      2018-08-08 08:38:49 2018-08-08 08:55:23   \n",
       "\n",
       "  order_delivered_carrier_date order_delivered_customer_date  \\\n",
       "0          2017-10-04 19:55:00           2017-10-10 21:25:13   \n",
       "1          2018-07-26 14:31:00           2018-08-07 15:27:45   \n",
       "2          2018-08-08 13:50:00           2018-08-17 18:06:29   \n",
       "\n",
       "  order_estimated_delivery_date  order_item_id  \\\n",
       "0                    2017-10-18              1   \n",
       "1                    2018-08-13              1   \n",
       "2                    2018-09-04              1   \n",
       "\n",
       "                         product_id                         seller_id  \\\n",
       "0  87285b34884572647811a353c7ac498a  3504c0cb71d7fa48d967e0e4c94d59d9   \n",
       "1  595fac2a385ac33a80bd5114aec74eb8  289cdb325fb7e7f891c38608bf9e0962   \n",
       "2  aa4383b373c6aca5d8797843e5594415  4869f7a5dfa277a7dca6462dcf3b52b2   \n",
       "\n",
       "  shipping_limit_date   price  freight_value  \n",
       "0 2017-10-06 11:07:15   29.99           8.72  \n",
       "1 2018-07-30 03:24:27  118.70          22.76  \n",
       "2 2018-08-13 08:55:23  159.90          19.22  "
      ]
     },
     "execution_count": 68,
     "metadata": {},
     "output_type": "execute_result"
    }
   ],
   "source": [
    "orders_items_df = pd.merge(left=orders_df, right=items_df, on='order_id')\n",
    "orders_items_df.head(3)"
   ]
  },
  {
   "cell_type": "code",
   "execution_count": 69,
   "metadata": {},
   "outputs": [
    {
     "data": {
      "text/plain": [
       "(112650, 14)"
      ]
     },
     "execution_count": 69,
     "metadata": {},
     "output_type": "execute_result"
    }
   ],
   "source": [
    "orders_items_df.shape"
   ]
  },
  {
   "cell_type": "markdown",
   "metadata": {},
   "source": [
    "Успешные заказы"
   ]
  },
  {
   "cell_type": "code",
   "execution_count": 70,
   "metadata": {},
   "outputs": [
    {
     "data": {
      "text/plain": [
       "(110197, 14)"
      ]
     },
     "execution_count": 70,
     "metadata": {},
     "output_type": "execute_result"
    }
   ],
   "source": [
    "# sx - success\n",
    "orders_items_sx_df = orders_items_df[orders_items_df.order_status == 'delivered']\n",
    "orders_items_sx_df.shape"
   ]
  },
  {
   "cell_type": "markdown",
   "metadata": {},
   "source": [
    "Под датой покупки понимается дата совершения транзакции (=> она должна быть)"
   ]
  },
  {
   "cell_type": "code",
   "execution_count": 71,
   "metadata": {},
   "outputs": [
    {
     "data": {
      "text/plain": [
       "(110182, 14)"
      ]
     },
     "execution_count": 71,
     "metadata": {},
     "output_type": "execute_result"
    }
   ],
   "source": [
    "orders_items_sx_df = orders_items_sx_df.query('order_approved_at != \"NaT\"')\n",
    "orders_items_sx_df.shape"
   ]
  },
  {
   "cell_type": "code",
   "execution_count": 72,
   "metadata": {},
   "outputs": [
    {
     "data": {
      "text/plain": [
       "0"
      ]
     },
     "execution_count": 72,
     "metadata": {},
     "output_type": "execute_result"
    }
   ],
   "source": [
    "# Проверка\n",
    "orders_items_sx_df.order_approved_at.isna().sum()"
   ]
  },
  {
   "cell_type": "markdown",
   "metadata": {},
   "source": [
    "Добавляем поле с днём недели подтверждения оплаты"
   ]
  },
  {
   "cell_type": "code",
   "execution_count": 73,
   "metadata": {
    "scrolled": true
   },
   "outputs": [
    {
     "data": {
      "text/html": [
       "<div>\n",
       "<style scoped>\n",
       "    .dataframe tbody tr th:only-of-type {\n",
       "        vertical-align: middle;\n",
       "    }\n",
       "\n",
       "    .dataframe tbody tr th {\n",
       "        vertical-align: top;\n",
       "    }\n",
       "\n",
       "    .dataframe thead th {\n",
       "        text-align: right;\n",
       "    }\n",
       "</style>\n",
       "<table border=\"1\" class=\"dataframe\">\n",
       "  <thead>\n",
       "    <tr style=\"text-align: right;\">\n",
       "      <th></th>\n",
       "      <th>order_id</th>\n",
       "      <th>customer_id</th>\n",
       "      <th>order_status</th>\n",
       "      <th>order_purchase_timestamp</th>\n",
       "      <th>order_approved_at</th>\n",
       "      <th>order_delivered_carrier_date</th>\n",
       "      <th>order_delivered_customer_date</th>\n",
       "      <th>order_estimated_delivery_date</th>\n",
       "      <th>order_item_id</th>\n",
       "      <th>product_id</th>\n",
       "      <th>seller_id</th>\n",
       "      <th>shipping_limit_date</th>\n",
       "      <th>price</th>\n",
       "      <th>freight_value</th>\n",
       "      <th>purchase_weekday</th>\n",
       "    </tr>\n",
       "  </thead>\n",
       "  <tbody>\n",
       "    <tr>\n",
       "      <th>0</th>\n",
       "      <td>e481f51cbdc54678b7cc49136f2d6af7</td>\n",
       "      <td>9ef432eb6251297304e76186b10a928d</td>\n",
       "      <td>delivered</td>\n",
       "      <td>2017-10-02 10:56:33</td>\n",
       "      <td>2017-10-02 11:07:15</td>\n",
       "      <td>2017-10-04 19:55:00</td>\n",
       "      <td>2017-10-10 21:25:13</td>\n",
       "      <td>2017-10-18</td>\n",
       "      <td>1</td>\n",
       "      <td>87285b34884572647811a353c7ac498a</td>\n",
       "      <td>3504c0cb71d7fa48d967e0e4c94d59d9</td>\n",
       "      <td>2017-10-06 11:07:15</td>\n",
       "      <td>29.99</td>\n",
       "      <td>8.72</td>\n",
       "      <td>Monday</td>\n",
       "    </tr>\n",
       "    <tr>\n",
       "      <th>1</th>\n",
       "      <td>53cdb2fc8bc7dce0b6741e2150273451</td>\n",
       "      <td>b0830fb4747a6c6d20dea0b8c802d7ef</td>\n",
       "      <td>delivered</td>\n",
       "      <td>2018-07-24 20:41:37</td>\n",
       "      <td>2018-07-26 03:24:27</td>\n",
       "      <td>2018-07-26 14:31:00</td>\n",
       "      <td>2018-08-07 15:27:45</td>\n",
       "      <td>2018-08-13</td>\n",
       "      <td>1</td>\n",
       "      <td>595fac2a385ac33a80bd5114aec74eb8</td>\n",
       "      <td>289cdb325fb7e7f891c38608bf9e0962</td>\n",
       "      <td>2018-07-30 03:24:27</td>\n",
       "      <td>118.70</td>\n",
       "      <td>22.76</td>\n",
       "      <td>Thursday</td>\n",
       "    </tr>\n",
       "    <tr>\n",
       "      <th>2</th>\n",
       "      <td>47770eb9100c2d0c44946d9cf07ec65d</td>\n",
       "      <td>41ce2a54c0b03bf3443c3d931a367089</td>\n",
       "      <td>delivered</td>\n",
       "      <td>2018-08-08 08:38:49</td>\n",
       "      <td>2018-08-08 08:55:23</td>\n",
       "      <td>2018-08-08 13:50:00</td>\n",
       "      <td>2018-08-17 18:06:29</td>\n",
       "      <td>2018-09-04</td>\n",
       "      <td>1</td>\n",
       "      <td>aa4383b373c6aca5d8797843e5594415</td>\n",
       "      <td>4869f7a5dfa277a7dca6462dcf3b52b2</td>\n",
       "      <td>2018-08-13 08:55:23</td>\n",
       "      <td>159.90</td>\n",
       "      <td>19.22</td>\n",
       "      <td>Wednesday</td>\n",
       "    </tr>\n",
       "  </tbody>\n",
       "</table>\n",
       "</div>"
      ],
      "text/plain": [
       "                           order_id                       customer_id  \\\n",
       "0  e481f51cbdc54678b7cc49136f2d6af7  9ef432eb6251297304e76186b10a928d   \n",
       "1  53cdb2fc8bc7dce0b6741e2150273451  b0830fb4747a6c6d20dea0b8c802d7ef   \n",
       "2  47770eb9100c2d0c44946d9cf07ec65d  41ce2a54c0b03bf3443c3d931a367089   \n",
       "\n",
       "  order_status order_purchase_timestamp   order_approved_at  \\\n",
       "0    delivered      2017-10-02 10:56:33 2017-10-02 11:07:15   \n",
       "1    delivered      2018-07-24 20:41:37 2018-07-26 03:24:27   \n",
       "2    delivered      2018-08-08 08:38:49 2018-08-08 08:55:23   \n",
       "\n",
       "  order_delivered_carrier_date order_delivered_customer_date  \\\n",
       "0          2017-10-04 19:55:00           2017-10-10 21:25:13   \n",
       "1          2018-07-26 14:31:00           2018-08-07 15:27:45   \n",
       "2          2018-08-08 13:50:00           2018-08-17 18:06:29   \n",
       "\n",
       "  order_estimated_delivery_date  order_item_id  \\\n",
       "0                    2017-10-18              1   \n",
       "1                    2018-08-13              1   \n",
       "2                    2018-09-04              1   \n",
       "\n",
       "                         product_id                         seller_id  \\\n",
       "0  87285b34884572647811a353c7ac498a  3504c0cb71d7fa48d967e0e4c94d59d9   \n",
       "1  595fac2a385ac33a80bd5114aec74eb8  289cdb325fb7e7f891c38608bf9e0962   \n",
       "2  aa4383b373c6aca5d8797843e5594415  4869f7a5dfa277a7dca6462dcf3b52b2   \n",
       "\n",
       "  shipping_limit_date   price  freight_value purchase_weekday  \n",
       "0 2017-10-06 11:07:15   29.99           8.72           Monday  \n",
       "1 2018-07-30 03:24:27  118.70          22.76         Thursday  \n",
       "2 2018-08-13 08:55:23  159.90          19.22        Wednesday  "
      ]
     },
     "execution_count": 73,
     "metadata": {},
     "output_type": "execute_result"
    }
   ],
   "source": [
    "orders_items_sx_df['purchase_weekday'] = orders_items_sx_df.order_approved_at.dt.day_name()\n",
    "orders_items_sx_df.head(3)"
   ]
  },
  {
   "cell_type": "code",
   "execution_count": 74,
   "metadata": {},
   "outputs": [
    {
     "data": {
      "text/plain": [
       "32213"
      ]
     },
     "execution_count": 74,
     "metadata": {},
     "output_type": "execute_result"
    }
   ],
   "source": [
    "# Сколько уникальных товаров должно получится при определении их излюбленного дня покупки\n",
    "orders_items_sx_df.product_id.nunique()"
   ]
  },
  {
   "cell_type": "markdown",
   "metadata": {},
   "source": [
    "#### Расчёт самых популярных дней недели для покупки каждого товара"
   ]
  },
  {
   "cell_type": "markdown",
   "metadata": {},
   "source": [
    "Частота покупок товаров по дням"
   ]
  },
  {
   "cell_type": "code",
   "execution_count": 75,
   "metadata": {},
   "outputs": [
    {
     "data": {
      "text/html": [
       "<div>\n",
       "<style scoped>\n",
       "    .dataframe tbody tr th:only-of-type {\n",
       "        vertical-align: middle;\n",
       "    }\n",
       "\n",
       "    .dataframe tbody tr th {\n",
       "        vertical-align: top;\n",
       "    }\n",
       "\n",
       "    .dataframe thead th {\n",
       "        text-align: right;\n",
       "    }\n",
       "</style>\n",
       "<table border=\"1\" class=\"dataframe\">\n",
       "  <thead>\n",
       "    <tr style=\"text-align: right;\">\n",
       "      <th></th>\n",
       "      <th>product_id</th>\n",
       "      <th>max_freq</th>\n",
       "      <th>purchase_weekday</th>\n",
       "    </tr>\n",
       "  </thead>\n",
       "  <tbody>\n",
       "    <tr>\n",
       "      <th>0</th>\n",
       "      <td>00066f42aeeb9f3007548bb9d3f33c38</td>\n",
       "      <td>1</td>\n",
       "      <td>[Sunday]</td>\n",
       "    </tr>\n",
       "    <tr>\n",
       "      <th>1</th>\n",
       "      <td>00088930e925c41fd95ebfe695fd2655</td>\n",
       "      <td>1</td>\n",
       "      <td>[Tuesday]</td>\n",
       "    </tr>\n",
       "    <tr>\n",
       "      <th>2</th>\n",
       "      <td>0009406fd7479715e4bef61dd91f2462</td>\n",
       "      <td>1</td>\n",
       "      <td>[Friday]</td>\n",
       "    </tr>\n",
       "    <tr>\n",
       "      <th>3</th>\n",
       "      <td>000b8f95fcb9e0096488278317764d19</td>\n",
       "      <td>1</td>\n",
       "      <td>[Friday, Wednesday]</td>\n",
       "    </tr>\n",
       "    <tr>\n",
       "      <th>4</th>\n",
       "      <td>000d9be29b5207b54e86aa1b1ac54872</td>\n",
       "      <td>1</td>\n",
       "      <td>[Tuesday]</td>\n",
       "    </tr>\n",
       "    <tr>\n",
       "      <th>...</th>\n",
       "      <td>...</td>\n",
       "      <td>...</td>\n",
       "      <td>...</td>\n",
       "    </tr>\n",
       "    <tr>\n",
       "      <th>32208</th>\n",
       "      <td>fff6177642830a9a94a0f2cba5e476d1</td>\n",
       "      <td>1</td>\n",
       "      <td>[Monday, Saturday]</td>\n",
       "    </tr>\n",
       "    <tr>\n",
       "      <th>32209</th>\n",
       "      <td>fff81cc3158d2725c0655ab9ba0f712c</td>\n",
       "      <td>1</td>\n",
       "      <td>[Monday]</td>\n",
       "    </tr>\n",
       "    <tr>\n",
       "      <th>32210</th>\n",
       "      <td>fff9553ac224cec9d15d49f5a263411f</td>\n",
       "      <td>1</td>\n",
       "      <td>[Saturday]</td>\n",
       "    </tr>\n",
       "    <tr>\n",
       "      <th>32211</th>\n",
       "      <td>fffdb2d0ec8d6a61f0a0a0db3f25b441</td>\n",
       "      <td>3</td>\n",
       "      <td>[Tuesday]</td>\n",
       "    </tr>\n",
       "    <tr>\n",
       "      <th>32212</th>\n",
       "      <td>fffe9eeff12fcbd74a2f2b007dde0c58</td>\n",
       "      <td>1</td>\n",
       "      <td>[Wednesday]</td>\n",
       "    </tr>\n",
       "  </tbody>\n",
       "</table>\n",
       "<p>32213 rows × 3 columns</p>\n",
       "</div>"
      ],
      "text/plain": [
       "                             product_id  max_freq     purchase_weekday\n",
       "0      00066f42aeeb9f3007548bb9d3f33c38         1             [Sunday]\n",
       "1      00088930e925c41fd95ebfe695fd2655         1            [Tuesday]\n",
       "2      0009406fd7479715e4bef61dd91f2462         1             [Friday]\n",
       "3      000b8f95fcb9e0096488278317764d19         1  [Friday, Wednesday]\n",
       "4      000d9be29b5207b54e86aa1b1ac54872         1            [Tuesday]\n",
       "...                                 ...       ...                  ...\n",
       "32208  fff6177642830a9a94a0f2cba5e476d1         1   [Monday, Saturday]\n",
       "32209  fff81cc3158d2725c0655ab9ba0f712c         1             [Monday]\n",
       "32210  fff9553ac224cec9d15d49f5a263411f         1           [Saturday]\n",
       "32211  fffdb2d0ec8d6a61f0a0a0db3f25b441         3            [Tuesday]\n",
       "32212  fffe9eeff12fcbd74a2f2b007dde0c58         1          [Wednesday]\n",
       "\n",
       "[32213 rows x 3 columns]"
      ]
     },
     "execution_count": 75,
     "metadata": {},
     "output_type": "execute_result"
    }
   ],
   "source": [
    "# Частота покупок продуктов по дням недели\n",
    "product_days_df = (\n",
    "    orders_items_sx_df\n",
    "    .groupby('product_id').purchase_weekday.value_counts()\n",
    "    .to_frame().rename(columns={'purchase_weekday': 'freq'}).reset_index()\n",
    ")\n",
    "# Упорядочивание дней недели\n",
    "product_days_df.purchase_weekday = pd.Categorical(\n",
    "    product_days_df.purchase_weekday,\n",
    "    categories=['Monday', \n",
    "                'Tuesday', \n",
    "                'Wednesday', \n",
    "                'Thursday', \n",
    "                'Friday', \n",
    "                'Saturday',\n",
    "                'Sunday']\n",
    ")\n",
    "# Наибольшая частота покупок продукта\n",
    "max_freq = (\n",
    "    product_days_df\n",
    "    .groupby('product_id', as_index=False).freq.max()\n",
    "    .rename(columns={'freq': 'max_freq'})\n",
    ")\n",
    "product_days_df = product_days_df.merge(max_freq, on='product_id')\n",
    "# Оставить для товаров лишь дни недели с наибольшимм количеством товаров\n",
    "product_days_df.query('freq == max_freq', inplace=True)\n",
    "# Обернуть дни недели для товара в список\n",
    "product_days_view_df = (\n",
    "    product_days_df\n",
    "    .groupby('product_id')\n",
    "    .purchase_weekday.apply(list)\n",
    "    .to_frame()\n",
    "    .merge(max_freq, on='product_id')\n",
    ")[['product_id', 'max_freq', 'purchase_weekday']]\n",
    "    \n",
    "product_days_view_df  "
   ]
  },
  {
   "cell_type": "markdown",
   "metadata": {},
   "source": [
    "Топ дней для покупки товаров"
   ]
  },
  {
   "cell_type": "code",
   "execution_count": 76,
   "metadata": {
    "scrolled": true
   },
   "outputs": [
    {
     "data": {
      "text/plain": [
       "Tuesday      8141\n",
       "Wednesday    6574\n",
       "Thursday     6517\n",
       "Friday       6122\n",
       "Monday       5482\n",
       "Saturday     5066\n",
       "Sunday       3715\n",
       "Name: purchase_weekday, dtype: int64"
      ]
     },
     "execution_count": 76,
     "metadata": {},
     "output_type": "execute_result"
    }
   ],
   "source": [
    "product_days_df.purchase_weekday.value_counts().sort_values(ascending=False)"
   ]
  },
  {
   "cell_type": "markdown",
   "metadata": {},
   "source": [
    "Интересно, что меньше всего покупок производится на выходных"
   ]
  },
  {
   "cell_type": "markdown",
   "metadata": {},
   "source": [
    "-----------------------"
   ]
  },
  {
   "cell_type": "markdown",
   "metadata": {},
   "source": [
    "### 4) Сколько у каждого из пользователей в среднем покупок в неделю (по месяцам)? Учесть в метрике, что в месяце мб нецелое количество недель\n",
    "Расчёт производится относительно месяцев, когда пользователь активен"
   ]
  },
  {
   "cell_type": "code",
   "execution_count": 77,
   "metadata": {},
   "outputs": [
    {
     "data": {
      "text/plain": [
       "Index(['order_id', 'customer_id', 'order_status', 'order_purchase_timestamp',\n",
       "       'order_approved_at', 'order_delivered_carrier_date',\n",
       "       'order_delivered_customer_date', 'order_estimated_delivery_date'],\n",
       "      dtype='object')"
      ]
     },
     "execution_count": 77,
     "metadata": {},
     "output_type": "execute_result"
    }
   ],
   "source": [
    "orders_df.columns"
   ]
  },
  {
   "cell_type": "markdown",
   "metadata": {},
   "source": [
    "Единица покупки - заказ"
   ]
  },
  {
   "cell_type": "markdown",
   "metadata": {},
   "source": [
    "_Успешные покупки_"
   ]
  },
  {
   "cell_type": "code",
   "execution_count": 78,
   "metadata": {},
   "outputs": [
    {
     "data": {
      "text/html": [
       "<div>\n",
       "<style scoped>\n",
       "    .dataframe tbody tr th:only-of-type {\n",
       "        vertical-align: middle;\n",
       "    }\n",
       "\n",
       "    .dataframe tbody tr th {\n",
       "        vertical-align: top;\n",
       "    }\n",
       "\n",
       "    .dataframe thead th {\n",
       "        text-align: right;\n",
       "    }\n",
       "</style>\n",
       "<table border=\"1\" class=\"dataframe\">\n",
       "  <thead>\n",
       "    <tr style=\"text-align: right;\">\n",
       "      <th></th>\n",
       "      <th>order_id</th>\n",
       "      <th>customer_id</th>\n",
       "      <th>order_status</th>\n",
       "      <th>order_purchase_timestamp</th>\n",
       "      <th>order_approved_at</th>\n",
       "      <th>order_delivered_carrier_date</th>\n",
       "      <th>order_delivered_customer_date</th>\n",
       "      <th>order_estimated_delivery_date</th>\n",
       "      <th>customer_unique_id</th>\n",
       "      <th>customer_zip_code_prefix</th>\n",
       "      <th>customer_city</th>\n",
       "      <th>customer_state</th>\n",
       "    </tr>\n",
       "  </thead>\n",
       "  <tbody>\n",
       "    <tr>\n",
       "      <th>0</th>\n",
       "      <td>e481f51cbdc54678b7cc49136f2d6af7</td>\n",
       "      <td>9ef432eb6251297304e76186b10a928d</td>\n",
       "      <td>delivered</td>\n",
       "      <td>2017-10-02 10:56:33</td>\n",
       "      <td>2017-10-02 11:07:15</td>\n",
       "      <td>2017-10-04 19:55:00</td>\n",
       "      <td>2017-10-10 21:25:13</td>\n",
       "      <td>2017-10-18</td>\n",
       "      <td>7c396fd4830fd04220f754e42b4e5bff</td>\n",
       "      <td>3149</td>\n",
       "      <td>sao paulo</td>\n",
       "      <td>SP</td>\n",
       "    </tr>\n",
       "    <tr>\n",
       "      <th>1</th>\n",
       "      <td>53cdb2fc8bc7dce0b6741e2150273451</td>\n",
       "      <td>b0830fb4747a6c6d20dea0b8c802d7ef</td>\n",
       "      <td>delivered</td>\n",
       "      <td>2018-07-24 20:41:37</td>\n",
       "      <td>2018-07-26 03:24:27</td>\n",
       "      <td>2018-07-26 14:31:00</td>\n",
       "      <td>2018-08-07 15:27:45</td>\n",
       "      <td>2018-08-13</td>\n",
       "      <td>af07308b275d755c9edb36a90c618231</td>\n",
       "      <td>47813</td>\n",
       "      <td>barreiras</td>\n",
       "      <td>BA</td>\n",
       "    </tr>\n",
       "    <tr>\n",
       "      <th>2</th>\n",
       "      <td>47770eb9100c2d0c44946d9cf07ec65d</td>\n",
       "      <td>41ce2a54c0b03bf3443c3d931a367089</td>\n",
       "      <td>delivered</td>\n",
       "      <td>2018-08-08 08:38:49</td>\n",
       "      <td>2018-08-08 08:55:23</td>\n",
       "      <td>2018-08-08 13:50:00</td>\n",
       "      <td>2018-08-17 18:06:29</td>\n",
       "      <td>2018-09-04</td>\n",
       "      <td>3a653a41f6f9fc3d2a113cf8398680e8</td>\n",
       "      <td>75265</td>\n",
       "      <td>vianopolis</td>\n",
       "      <td>GO</td>\n",
       "    </tr>\n",
       "    <tr>\n",
       "      <th>3</th>\n",
       "      <td>949d5b44dbf5de918fe9c16f97b45f8a</td>\n",
       "      <td>f88197465ea7920adcdbec7375364d82</td>\n",
       "      <td>delivered</td>\n",
       "      <td>2017-11-18 19:28:06</td>\n",
       "      <td>2017-11-18 19:45:59</td>\n",
       "      <td>2017-11-22 13:39:59</td>\n",
       "      <td>2017-12-02 00:28:42</td>\n",
       "      <td>2017-12-15</td>\n",
       "      <td>7c142cf63193a1473d2e66489a9ae977</td>\n",
       "      <td>59296</td>\n",
       "      <td>sao goncalo do amarante</td>\n",
       "      <td>RN</td>\n",
       "    </tr>\n",
       "    <tr>\n",
       "      <th>4</th>\n",
       "      <td>ad21c59c0840e6cb83a9ceb5573f8159</td>\n",
       "      <td>8ab97904e6daea8866dbdbc4fb7aad2c</td>\n",
       "      <td>delivered</td>\n",
       "      <td>2018-02-13 21:18:39</td>\n",
       "      <td>2018-02-13 22:20:29</td>\n",
       "      <td>2018-02-14 19:46:34</td>\n",
       "      <td>2018-02-16 18:17:02</td>\n",
       "      <td>2018-02-26</td>\n",
       "      <td>72632f0f9dd73dfee390c9b22eb56dd6</td>\n",
       "      <td>9195</td>\n",
       "      <td>santo andre</td>\n",
       "      <td>SP</td>\n",
       "    </tr>\n",
       "  </tbody>\n",
       "</table>\n",
       "</div>"
      ],
      "text/plain": [
       "                           order_id                       customer_id  \\\n",
       "0  e481f51cbdc54678b7cc49136f2d6af7  9ef432eb6251297304e76186b10a928d   \n",
       "1  53cdb2fc8bc7dce0b6741e2150273451  b0830fb4747a6c6d20dea0b8c802d7ef   \n",
       "2  47770eb9100c2d0c44946d9cf07ec65d  41ce2a54c0b03bf3443c3d931a367089   \n",
       "3  949d5b44dbf5de918fe9c16f97b45f8a  f88197465ea7920adcdbec7375364d82   \n",
       "4  ad21c59c0840e6cb83a9ceb5573f8159  8ab97904e6daea8866dbdbc4fb7aad2c   \n",
       "\n",
       "  order_status order_purchase_timestamp   order_approved_at  \\\n",
       "0    delivered      2017-10-02 10:56:33 2017-10-02 11:07:15   \n",
       "1    delivered      2018-07-24 20:41:37 2018-07-26 03:24:27   \n",
       "2    delivered      2018-08-08 08:38:49 2018-08-08 08:55:23   \n",
       "3    delivered      2017-11-18 19:28:06 2017-11-18 19:45:59   \n",
       "4    delivered      2018-02-13 21:18:39 2018-02-13 22:20:29   \n",
       "\n",
       "  order_delivered_carrier_date order_delivered_customer_date  \\\n",
       "0          2017-10-04 19:55:00           2017-10-10 21:25:13   \n",
       "1          2018-07-26 14:31:00           2018-08-07 15:27:45   \n",
       "2          2018-08-08 13:50:00           2018-08-17 18:06:29   \n",
       "3          2017-11-22 13:39:59           2017-12-02 00:28:42   \n",
       "4          2018-02-14 19:46:34           2018-02-16 18:17:02   \n",
       "\n",
       "  order_estimated_delivery_date                customer_unique_id  \\\n",
       "0                    2017-10-18  7c396fd4830fd04220f754e42b4e5bff   \n",
       "1                    2018-08-13  af07308b275d755c9edb36a90c618231   \n",
       "2                    2018-09-04  3a653a41f6f9fc3d2a113cf8398680e8   \n",
       "3                    2017-12-15  7c142cf63193a1473d2e66489a9ae977   \n",
       "4                    2018-02-26  72632f0f9dd73dfee390c9b22eb56dd6   \n",
       "\n",
       "   customer_zip_code_prefix            customer_city customer_state  \n",
       "0                      3149                sao paulo             SP  \n",
       "1                     47813                barreiras             BA  \n",
       "2                     75265               vianopolis             GO  \n",
       "3                     59296  sao goncalo do amarante             RN  \n",
       "4                      9195              santo andre             SP  "
      ]
     },
     "execution_count": 78,
     "metadata": {},
     "output_type": "execute_result"
    }
   ],
   "source": [
    "customers_orders_sx_df = (\n",
    "    orders_customers_df\n",
    "    .query('order_status == \"delivered\"')\n",
    ")\n",
    "customers_orders_sx_df.head()"
   ]
  },
  {
   "cell_type": "code",
   "execution_count": 79,
   "metadata": {},
   "outputs": [
    {
     "data": {
      "text/plain": [
       "(96478, 12)"
      ]
     },
     "execution_count": 79,
     "metadata": {},
     "output_type": "execute_result"
    }
   ],
   "source": [
    "customers_orders_sx_df.shape"
   ]
  },
  {
   "cell_type": "code",
   "execution_count": 80,
   "metadata": {},
   "outputs": [
    {
     "data": {
      "text/plain": [
       "(99441, 12)"
      ]
     },
     "execution_count": 80,
     "metadata": {},
     "output_type": "execute_result"
    }
   ],
   "source": [
    "orders_customers_df.shape"
   ]
  },
  {
   "cell_type": "markdown",
   "metadata": {},
   "source": [
    "_Cтолбец с месяцем покупки_"
   ]
  },
  {
   "cell_type": "code",
   "execution_count": 81,
   "metadata": {},
   "outputs": [
    {
     "data": {
      "text/html": [
       "<div>\n",
       "<style scoped>\n",
       "    .dataframe tbody tr th:only-of-type {\n",
       "        vertical-align: middle;\n",
       "    }\n",
       "\n",
       "    .dataframe tbody tr th {\n",
       "        vertical-align: top;\n",
       "    }\n",
       "\n",
       "    .dataframe thead th {\n",
       "        text-align: right;\n",
       "    }\n",
       "</style>\n",
       "<table border=\"1\" class=\"dataframe\">\n",
       "  <thead>\n",
       "    <tr style=\"text-align: right;\">\n",
       "      <th></th>\n",
       "      <th>order_id</th>\n",
       "      <th>customer_id</th>\n",
       "      <th>order_status</th>\n",
       "      <th>order_purchase_timestamp</th>\n",
       "      <th>order_approved_at</th>\n",
       "      <th>order_delivered_carrier_date</th>\n",
       "      <th>order_delivered_customer_date</th>\n",
       "      <th>order_estimated_delivery_date</th>\n",
       "      <th>customer_unique_id</th>\n",
       "      <th>customer_zip_code_prefix</th>\n",
       "      <th>customer_city</th>\n",
       "      <th>customer_state</th>\n",
       "      <th>order_approved_at_month</th>\n",
       "    </tr>\n",
       "  </thead>\n",
       "  <tbody>\n",
       "    <tr>\n",
       "      <th>0</th>\n",
       "      <td>e481f51cbdc54678b7cc49136f2d6af7</td>\n",
       "      <td>9ef432eb6251297304e76186b10a928d</td>\n",
       "      <td>delivered</td>\n",
       "      <td>2017-10-02 10:56:33</td>\n",
       "      <td>2017-10-02 11:07:15</td>\n",
       "      <td>2017-10-04 19:55:00</td>\n",
       "      <td>2017-10-10 21:25:13</td>\n",
       "      <td>2017-10-18</td>\n",
       "      <td>7c396fd4830fd04220f754e42b4e5bff</td>\n",
       "      <td>3149</td>\n",
       "      <td>sao paulo</td>\n",
       "      <td>SP</td>\n",
       "      <td>2017-10</td>\n",
       "    </tr>\n",
       "    <tr>\n",
       "      <th>1</th>\n",
       "      <td>53cdb2fc8bc7dce0b6741e2150273451</td>\n",
       "      <td>b0830fb4747a6c6d20dea0b8c802d7ef</td>\n",
       "      <td>delivered</td>\n",
       "      <td>2018-07-24 20:41:37</td>\n",
       "      <td>2018-07-26 03:24:27</td>\n",
       "      <td>2018-07-26 14:31:00</td>\n",
       "      <td>2018-08-07 15:27:45</td>\n",
       "      <td>2018-08-13</td>\n",
       "      <td>af07308b275d755c9edb36a90c618231</td>\n",
       "      <td>47813</td>\n",
       "      <td>barreiras</td>\n",
       "      <td>BA</td>\n",
       "      <td>2018-07</td>\n",
       "    </tr>\n",
       "    <tr>\n",
       "      <th>2</th>\n",
       "      <td>47770eb9100c2d0c44946d9cf07ec65d</td>\n",
       "      <td>41ce2a54c0b03bf3443c3d931a367089</td>\n",
       "      <td>delivered</td>\n",
       "      <td>2018-08-08 08:38:49</td>\n",
       "      <td>2018-08-08 08:55:23</td>\n",
       "      <td>2018-08-08 13:50:00</td>\n",
       "      <td>2018-08-17 18:06:29</td>\n",
       "      <td>2018-09-04</td>\n",
       "      <td>3a653a41f6f9fc3d2a113cf8398680e8</td>\n",
       "      <td>75265</td>\n",
       "      <td>vianopolis</td>\n",
       "      <td>GO</td>\n",
       "      <td>2018-08</td>\n",
       "    </tr>\n",
       "    <tr>\n",
       "      <th>3</th>\n",
       "      <td>949d5b44dbf5de918fe9c16f97b45f8a</td>\n",
       "      <td>f88197465ea7920adcdbec7375364d82</td>\n",
       "      <td>delivered</td>\n",
       "      <td>2017-11-18 19:28:06</td>\n",
       "      <td>2017-11-18 19:45:59</td>\n",
       "      <td>2017-11-22 13:39:59</td>\n",
       "      <td>2017-12-02 00:28:42</td>\n",
       "      <td>2017-12-15</td>\n",
       "      <td>7c142cf63193a1473d2e66489a9ae977</td>\n",
       "      <td>59296</td>\n",
       "      <td>sao goncalo do amarante</td>\n",
       "      <td>RN</td>\n",
       "      <td>2017-11</td>\n",
       "    </tr>\n",
       "    <tr>\n",
       "      <th>4</th>\n",
       "      <td>ad21c59c0840e6cb83a9ceb5573f8159</td>\n",
       "      <td>8ab97904e6daea8866dbdbc4fb7aad2c</td>\n",
       "      <td>delivered</td>\n",
       "      <td>2018-02-13 21:18:39</td>\n",
       "      <td>2018-02-13 22:20:29</td>\n",
       "      <td>2018-02-14 19:46:34</td>\n",
       "      <td>2018-02-16 18:17:02</td>\n",
       "      <td>2018-02-26</td>\n",
       "      <td>72632f0f9dd73dfee390c9b22eb56dd6</td>\n",
       "      <td>9195</td>\n",
       "      <td>santo andre</td>\n",
       "      <td>SP</td>\n",
       "      <td>2018-02</td>\n",
       "    </tr>\n",
       "  </tbody>\n",
       "</table>\n",
       "</div>"
      ],
      "text/plain": [
       "                           order_id                       customer_id  \\\n",
       "0  e481f51cbdc54678b7cc49136f2d6af7  9ef432eb6251297304e76186b10a928d   \n",
       "1  53cdb2fc8bc7dce0b6741e2150273451  b0830fb4747a6c6d20dea0b8c802d7ef   \n",
       "2  47770eb9100c2d0c44946d9cf07ec65d  41ce2a54c0b03bf3443c3d931a367089   \n",
       "3  949d5b44dbf5de918fe9c16f97b45f8a  f88197465ea7920adcdbec7375364d82   \n",
       "4  ad21c59c0840e6cb83a9ceb5573f8159  8ab97904e6daea8866dbdbc4fb7aad2c   \n",
       "\n",
       "  order_status order_purchase_timestamp   order_approved_at  \\\n",
       "0    delivered      2017-10-02 10:56:33 2017-10-02 11:07:15   \n",
       "1    delivered      2018-07-24 20:41:37 2018-07-26 03:24:27   \n",
       "2    delivered      2018-08-08 08:38:49 2018-08-08 08:55:23   \n",
       "3    delivered      2017-11-18 19:28:06 2017-11-18 19:45:59   \n",
       "4    delivered      2018-02-13 21:18:39 2018-02-13 22:20:29   \n",
       "\n",
       "  order_delivered_carrier_date order_delivered_customer_date  \\\n",
       "0          2017-10-04 19:55:00           2017-10-10 21:25:13   \n",
       "1          2018-07-26 14:31:00           2018-08-07 15:27:45   \n",
       "2          2018-08-08 13:50:00           2018-08-17 18:06:29   \n",
       "3          2017-11-22 13:39:59           2017-12-02 00:28:42   \n",
       "4          2018-02-14 19:46:34           2018-02-16 18:17:02   \n",
       "\n",
       "  order_estimated_delivery_date                customer_unique_id  \\\n",
       "0                    2017-10-18  7c396fd4830fd04220f754e42b4e5bff   \n",
       "1                    2018-08-13  af07308b275d755c9edb36a90c618231   \n",
       "2                    2018-09-04  3a653a41f6f9fc3d2a113cf8398680e8   \n",
       "3                    2017-12-15  7c142cf63193a1473d2e66489a9ae977   \n",
       "4                    2018-02-26  72632f0f9dd73dfee390c9b22eb56dd6   \n",
       "\n",
       "   customer_zip_code_prefix            customer_city customer_state  \\\n",
       "0                      3149                sao paulo             SP   \n",
       "1                     47813                barreiras             BA   \n",
       "2                     75265               vianopolis             GO   \n",
       "3                     59296  sao goncalo do amarante             RN   \n",
       "4                      9195              santo andre             SP   \n",
       "\n",
       "  order_approved_at_month  \n",
       "0                 2017-10  \n",
       "1                 2018-07  \n",
       "2                 2018-08  \n",
       "3                 2017-11  \n",
       "4                 2018-02  "
      ]
     },
     "execution_count": 81,
     "metadata": {},
     "output_type": "execute_result"
    }
   ],
   "source": [
    "customers_orders_sx_df = (\n",
    "    customers_orders_sx_df\n",
    "    .assign(order_approved_at_month=\n",
    "            customers_orders_sx_df['order_approved_at']\n",
    "            .dt.to_period('M')\n",
    "           )\n",
    ")\n",
    "customers_orders_sx_df.head()"
   ]
  },
  {
   "cell_type": "markdown",
   "metadata": {},
   "source": [
    "Количество покупок для каждого пользователя по месяцам"
   ]
  },
  {
   "cell_type": "code",
   "execution_count": 82,
   "metadata": {},
   "outputs": [
    {
     "data": {
      "text/html": [
       "<div>\n",
       "<style scoped>\n",
       "    .dataframe tbody tr th:only-of-type {\n",
       "        vertical-align: middle;\n",
       "    }\n",
       "\n",
       "    .dataframe tbody tr th {\n",
       "        vertical-align: top;\n",
       "    }\n",
       "\n",
       "    .dataframe thead th {\n",
       "        text-align: right;\n",
       "    }\n",
       "</style>\n",
       "<table border=\"1\" class=\"dataframe\">\n",
       "  <thead>\n",
       "    <tr style=\"text-align: right;\">\n",
       "      <th></th>\n",
       "      <th>customer_unique_id</th>\n",
       "      <th>month</th>\n",
       "      <th>orders_amount</th>\n",
       "    </tr>\n",
       "  </thead>\n",
       "  <tbody>\n",
       "    <tr>\n",
       "      <th>0</th>\n",
       "      <td>0000366f3b9a7992bf8c76cfdf3221e2</td>\n",
       "      <td>2018-05</td>\n",
       "      <td>1</td>\n",
       "    </tr>\n",
       "    <tr>\n",
       "      <th>1</th>\n",
       "      <td>0000b849f77a49e4a4ce2b2a4ca5be3f</td>\n",
       "      <td>2018-05</td>\n",
       "      <td>1</td>\n",
       "    </tr>\n",
       "    <tr>\n",
       "      <th>2</th>\n",
       "      <td>0000f46a3911fa3c0805444483337064</td>\n",
       "      <td>2017-03</td>\n",
       "      <td>1</td>\n",
       "    </tr>\n",
       "    <tr>\n",
       "      <th>3</th>\n",
       "      <td>0000f6ccb0745a6a4b88665a16c9f078</td>\n",
       "      <td>2017-10</td>\n",
       "      <td>1</td>\n",
       "    </tr>\n",
       "    <tr>\n",
       "      <th>4</th>\n",
       "      <td>0004aac84e0df4da2b147fca70cf8255</td>\n",
       "      <td>2017-11</td>\n",
       "      <td>1</td>\n",
       "    </tr>\n",
       "    <tr>\n",
       "      <th>...</th>\n",
       "      <td>...</td>\n",
       "      <td>...</td>\n",
       "      <td>...</td>\n",
       "    </tr>\n",
       "    <tr>\n",
       "      <th>95171</th>\n",
       "      <td>fffcf5a5ff07b0908bd4e2dbc735a684</td>\n",
       "      <td>2017-06</td>\n",
       "      <td>1</td>\n",
       "    </tr>\n",
       "    <tr>\n",
       "      <th>95172</th>\n",
       "      <td>fffea47cd6d3cc0a88bd621562a9d061</td>\n",
       "      <td>2017-12</td>\n",
       "      <td>1</td>\n",
       "    </tr>\n",
       "    <tr>\n",
       "      <th>95173</th>\n",
       "      <td>ffff371b4d645b6ecea244b27531430a</td>\n",
       "      <td>2017-02</td>\n",
       "      <td>1</td>\n",
       "    </tr>\n",
       "    <tr>\n",
       "      <th>95174</th>\n",
       "      <td>ffff5962728ec6157033ef9805bacc48</td>\n",
       "      <td>2018-05</td>\n",
       "      <td>1</td>\n",
       "    </tr>\n",
       "    <tr>\n",
       "      <th>95175</th>\n",
       "      <td>ffffd2657e2aad2907e67c3e9daecbeb</td>\n",
       "      <td>2017-05</td>\n",
       "      <td>1</td>\n",
       "    </tr>\n",
       "  </tbody>\n",
       "</table>\n",
       "<p>95176 rows × 3 columns</p>\n",
       "</div>"
      ],
      "text/plain": [
       "                     customer_unique_id    month  orders_amount\n",
       "0      0000366f3b9a7992bf8c76cfdf3221e2  2018-05              1\n",
       "1      0000b849f77a49e4a4ce2b2a4ca5be3f  2018-05              1\n",
       "2      0000f46a3911fa3c0805444483337064  2017-03              1\n",
       "3      0000f6ccb0745a6a4b88665a16c9f078  2017-10              1\n",
       "4      0004aac84e0df4da2b147fca70cf8255  2017-11              1\n",
       "...                                 ...      ...            ...\n",
       "95171  fffcf5a5ff07b0908bd4e2dbc735a684  2017-06              1\n",
       "95172  fffea47cd6d3cc0a88bd621562a9d061  2017-12              1\n",
       "95173  ffff371b4d645b6ecea244b27531430a  2017-02              1\n",
       "95174  ffff5962728ec6157033ef9805bacc48  2018-05              1\n",
       "95175  ffffd2657e2aad2907e67c3e9daecbeb  2017-05              1\n",
       "\n",
       "[95176 rows x 3 columns]"
      ]
     },
     "execution_count": 82,
     "metadata": {},
     "output_type": "execute_result"
    }
   ],
   "source": [
    "customer_orders_amount_df = (\n",
    "    customers_orders_sx_df\n",
    "    .groupby(['customer_unique_id', 'order_approved_at_month'], as_index=False)\n",
    "    .order_id.count()\n",
    "    .rename(columns={'order_approved_at_month': 'month',\n",
    "                     'order_id': 'orders_amount'\n",
    "                    })\n",
    ")\n",
    "\n",
    "customer_orders_amount_df"
   ]
  },
  {
   "cell_type": "markdown",
   "metadata": {},
   "source": [
    "Сколько недель в каждом месяце"
   ]
  },
  {
   "cell_type": "code",
   "execution_count": 83,
   "metadata": {},
   "outputs": [
    {
     "data": {
      "text/html": [
       "<div>\n",
       "<style scoped>\n",
       "    .dataframe tbody tr th:only-of-type {\n",
       "        vertical-align: middle;\n",
       "    }\n",
       "\n",
       "    .dataframe tbody tr th {\n",
       "        vertical-align: top;\n",
       "    }\n",
       "\n",
       "    .dataframe thead th {\n",
       "        text-align: right;\n",
       "    }\n",
       "</style>\n",
       "<table border=\"1\" class=\"dataframe\">\n",
       "  <thead>\n",
       "    <tr style=\"text-align: right;\">\n",
       "      <th></th>\n",
       "      <th>month</th>\n",
       "      <th>weeks_in_month</th>\n",
       "    </tr>\n",
       "  </thead>\n",
       "  <tbody>\n",
       "    <tr>\n",
       "      <th>0</th>\n",
       "      <td>2016-09</td>\n",
       "      <td>3.857143</td>\n",
       "    </tr>\n",
       "    <tr>\n",
       "      <th>1</th>\n",
       "      <td>2016-10</td>\n",
       "      <td>4.428571</td>\n",
       "    </tr>\n",
       "    <tr>\n",
       "      <th>2</th>\n",
       "      <td>2016-12</td>\n",
       "      <td>4.428571</td>\n",
       "    </tr>\n",
       "    <tr>\n",
       "      <th>3</th>\n",
       "      <td>2017-01</td>\n",
       "      <td>4.428571</td>\n",
       "    </tr>\n",
       "    <tr>\n",
       "      <th>4</th>\n",
       "      <td>2017-02</td>\n",
       "      <td>4.000000</td>\n",
       "    </tr>\n",
       "    <tr>\n",
       "      <th>5</th>\n",
       "      <td>2017-03</td>\n",
       "      <td>4.428571</td>\n",
       "    </tr>\n",
       "    <tr>\n",
       "      <th>6</th>\n",
       "      <td>2017-04</td>\n",
       "      <td>4.285714</td>\n",
       "    </tr>\n",
       "    <tr>\n",
       "      <th>7</th>\n",
       "      <td>2017-05</td>\n",
       "      <td>4.428571</td>\n",
       "    </tr>\n",
       "    <tr>\n",
       "      <th>8</th>\n",
       "      <td>2017-06</td>\n",
       "      <td>4.285714</td>\n",
       "    </tr>\n",
       "    <tr>\n",
       "      <th>9</th>\n",
       "      <td>2017-07</td>\n",
       "      <td>4.428571</td>\n",
       "    </tr>\n",
       "    <tr>\n",
       "      <th>10</th>\n",
       "      <td>2017-08</td>\n",
       "      <td>4.428571</td>\n",
       "    </tr>\n",
       "    <tr>\n",
       "      <th>11</th>\n",
       "      <td>2017-09</td>\n",
       "      <td>4.285714</td>\n",
       "    </tr>\n",
       "    <tr>\n",
       "      <th>12</th>\n",
       "      <td>2017-10</td>\n",
       "      <td>4.428571</td>\n",
       "    </tr>\n",
       "    <tr>\n",
       "      <th>13</th>\n",
       "      <td>2017-11</td>\n",
       "      <td>4.285714</td>\n",
       "    </tr>\n",
       "    <tr>\n",
       "      <th>14</th>\n",
       "      <td>2017-12</td>\n",
       "      <td>4.428571</td>\n",
       "    </tr>\n",
       "    <tr>\n",
       "      <th>15</th>\n",
       "      <td>2018-01</td>\n",
       "      <td>4.428571</td>\n",
       "    </tr>\n",
       "    <tr>\n",
       "      <th>16</th>\n",
       "      <td>2018-02</td>\n",
       "      <td>4.000000</td>\n",
       "    </tr>\n",
       "    <tr>\n",
       "      <th>17</th>\n",
       "      <td>2018-03</td>\n",
       "      <td>4.428571</td>\n",
       "    </tr>\n",
       "    <tr>\n",
       "      <th>18</th>\n",
       "      <td>2018-04</td>\n",
       "      <td>4.285714</td>\n",
       "    </tr>\n",
       "    <tr>\n",
       "      <th>19</th>\n",
       "      <td>2018-05</td>\n",
       "      <td>4.428571</td>\n",
       "    </tr>\n",
       "    <tr>\n",
       "      <th>20</th>\n",
       "      <td>2018-06</td>\n",
       "      <td>4.285714</td>\n",
       "    </tr>\n",
       "    <tr>\n",
       "      <th>21</th>\n",
       "      <td>2018-07</td>\n",
       "      <td>4.428571</td>\n",
       "    </tr>\n",
       "    <tr>\n",
       "      <th>22</th>\n",
       "      <td>2018-08</td>\n",
       "      <td>2.428571</td>\n",
       "    </tr>\n",
       "  </tbody>\n",
       "</table>\n",
       "</div>"
      ],
      "text/plain": [
       "      month  weeks_in_month\n",
       "0   2016-09        3.857143\n",
       "1   2016-10        4.428571\n",
       "2   2016-12        4.428571\n",
       "3   2017-01        4.428571\n",
       "4   2017-02        4.000000\n",
       "5   2017-03        4.428571\n",
       "6   2017-04        4.285714\n",
       "7   2017-05        4.428571\n",
       "8   2017-06        4.285714\n",
       "9   2017-07        4.428571\n",
       "10  2017-08        4.428571\n",
       "11  2017-09        4.285714\n",
       "12  2017-10        4.428571\n",
       "13  2017-11        4.285714\n",
       "14  2017-12        4.428571\n",
       "15  2018-01        4.428571\n",
       "16  2018-02        4.000000\n",
       "17  2018-03        4.428571\n",
       "18  2018-04        4.285714\n",
       "19  2018-05        4.428571\n",
       "20  2018-06        4.285714\n",
       "21  2018-07        4.428571\n",
       "22  2018-08        2.428571"
      ]
     },
     "execution_count": 83,
     "metadata": {},
     "output_type": "execute_result"
    }
   ],
   "source": [
    "# Имеющиеся месяцы\n",
    "months = pd.DataFrame(\n",
    "    {'month': customer_orders_amount_df.month.unique()}\n",
    ").sort_values('month').reset_index(drop=True)\n",
    "# Количество дней в каждом месяце\n",
    "months['days_in_month'] = months.month.dt.days_in_month\n",
    "# Корректировка для первого и последнего месяца\n",
    "first_month_correction = (\n",
    "    int(orders_df.order_purchase_timestamp.dt.date.min().strftime('%d'))\n",
    ")\n",
    "last_month_correction = (\n",
    "    int(orders_df.order_purchase_timestamp.dt.date.max().strftime('%d'))\n",
    ")\n",
    "months.loc[0, 'days_in_month'] -= (first_month_correction - 1)\n",
    "months.loc[len(months)-1, 'days_in_month'] = last_month_correction\n",
    "# Недель в каждом месяце\n",
    "months = (\n",
    "    months\n",
    "    .assign(weeks_in_month=months.days_in_month/7)\n",
    ")[['month', 'weeks_in_month']]\n",
    "months"
   ]
  },
  {
   "cell_type": "markdown",
   "metadata": {},
   "source": [
    "**Среднее число покупок в неделю (в месяцах, когда пользователь активен) для каждого пользователя**"
   ]
  },
  {
   "cell_type": "code",
   "execution_count": 84,
   "metadata": {},
   "outputs": [
    {
     "data": {
      "text/html": [
       "<div>\n",
       "<style scoped>\n",
       "    .dataframe tbody tr th:only-of-type {\n",
       "        vertical-align: middle;\n",
       "    }\n",
       "\n",
       "    .dataframe tbody tr th {\n",
       "        vertical-align: top;\n",
       "    }\n",
       "\n",
       "    .dataframe thead th {\n",
       "        text-align: right;\n",
       "    }\n",
       "</style>\n",
       "<table border=\"1\" class=\"dataframe\">\n",
       "  <thead>\n",
       "    <tr style=\"text-align: right;\">\n",
       "      <th></th>\n",
       "      <th>customer_unique_id</th>\n",
       "      <th>av_week_orders</th>\n",
       "    </tr>\n",
       "  </thead>\n",
       "  <tbody>\n",
       "    <tr>\n",
       "      <th>0</th>\n",
       "      <td>0000366f3b9a7992bf8c76cfdf3221e2</td>\n",
       "      <td>0.225806</td>\n",
       "    </tr>\n",
       "    <tr>\n",
       "      <th>1</th>\n",
       "      <td>0000b849f77a49e4a4ce2b2a4ca5be3f</td>\n",
       "      <td>0.225806</td>\n",
       "    </tr>\n",
       "    <tr>\n",
       "      <th>2</th>\n",
       "      <td>0000f46a3911fa3c0805444483337064</td>\n",
       "      <td>0.225806</td>\n",
       "    </tr>\n",
       "    <tr>\n",
       "      <th>3</th>\n",
       "      <td>0000f6ccb0745a6a4b88665a16c9f078</td>\n",
       "      <td>0.225806</td>\n",
       "    </tr>\n",
       "    <tr>\n",
       "      <th>4</th>\n",
       "      <td>0004aac84e0df4da2b147fca70cf8255</td>\n",
       "      <td>0.233333</td>\n",
       "    </tr>\n",
       "    <tr>\n",
       "      <th>...</th>\n",
       "      <td>...</td>\n",
       "      <td>...</td>\n",
       "    </tr>\n",
       "    <tr>\n",
       "      <th>93340</th>\n",
       "      <td>fffcf5a5ff07b0908bd4e2dbc735a684</td>\n",
       "      <td>0.233333</td>\n",
       "    </tr>\n",
       "    <tr>\n",
       "      <th>93341</th>\n",
       "      <td>fffea47cd6d3cc0a88bd621562a9d061</td>\n",
       "      <td>0.225806</td>\n",
       "    </tr>\n",
       "    <tr>\n",
       "      <th>93342</th>\n",
       "      <td>ffff371b4d645b6ecea244b27531430a</td>\n",
       "      <td>0.250000</td>\n",
       "    </tr>\n",
       "    <tr>\n",
       "      <th>93343</th>\n",
       "      <td>ffff5962728ec6157033ef9805bacc48</td>\n",
       "      <td>0.225806</td>\n",
       "    </tr>\n",
       "    <tr>\n",
       "      <th>93344</th>\n",
       "      <td>ffffd2657e2aad2907e67c3e9daecbeb</td>\n",
       "      <td>0.225806</td>\n",
       "    </tr>\n",
       "  </tbody>\n",
       "</table>\n",
       "<p>93345 rows × 2 columns</p>\n",
       "</div>"
      ],
      "text/plain": [
       "                     customer_unique_id  av_week_orders\n",
       "0      0000366f3b9a7992bf8c76cfdf3221e2        0.225806\n",
       "1      0000b849f77a49e4a4ce2b2a4ca5be3f        0.225806\n",
       "2      0000f46a3911fa3c0805444483337064        0.225806\n",
       "3      0000f6ccb0745a6a4b88665a16c9f078        0.225806\n",
       "4      0004aac84e0df4da2b147fca70cf8255        0.233333\n",
       "...                                 ...             ...\n",
       "93340  fffcf5a5ff07b0908bd4e2dbc735a684        0.233333\n",
       "93341  fffea47cd6d3cc0a88bd621562a9d061        0.225806\n",
       "93342  ffff371b4d645b6ecea244b27531430a        0.250000\n",
       "93343  ffff5962728ec6157033ef9805bacc48        0.225806\n",
       "93344  ffffd2657e2aad2907e67c3e9daecbeb        0.225806\n",
       "\n",
       "[93345 rows x 2 columns]"
      ]
     },
     "execution_count": 84,
     "metadata": {},
     "output_type": "execute_result"
    }
   ],
   "source": [
    "# Сколько недель в каждом месяце, когда пользователь был активен\n",
    "customer_orders_stats_df = customer_orders_amount_df.merge(months, how='left', on='month')\n",
    "# Среднее число покупок в неделю месяца для пользователя\n",
    "customer_orders_stats_df['av_week_orders'] = (\n",
    "    customer_orders_stats_df.orders_amount\n",
    "    / customer_orders_stats_df.weeks_in_month\n",
    ")\n",
    "# Среднее число покупок в неделю (для месяцев активности) для пользователя\n",
    "customer_week_orders_df = (\n",
    "    customer_orders_stats_df\n",
    "    .groupby('customer_unique_id', as_index=False)\n",
    "    .av_week_orders.mean()\n",
    ")\n",
    "\n",
    "customer_week_orders_df"
   ]
  },
  {
   "cell_type": "code",
   "execution_count": 85,
   "metadata": {
    "scrolled": false
   },
   "outputs": [
    {
     "data": {
      "image/png": "[encoded data removed]",
      "text/plain": [
       "<Figure size 1000x600 with 1 Axes>"
      ]
     },
     "metadata": {},
     "output_type": "display_data"
    }
   ],
   "source": [
    "customer_week_orders_df.hist(bins=50);"
   ]
  },
  {
   "cell_type": "code",
   "execution_count": 86,
   "metadata": {
    "scrolled": false
   },
   "outputs": [
    {
     "data": {
      "image/png": "[encoded data removed]",
      "text/plain": [
       "<Figure size 1000x600 with 1 Axes>"
      ]
     },
     "metadata": {},
     "output_type": "display_data"
    }
   ],
   "source": [
    "sns.boxplot(data=customer_week_orders_df, x='av_week_orders');"
   ]
  },
  {
   "cell_type": "markdown",
   "metadata": {},
   "source": [
    "Как можно заметить, в неделю (активный месяц) пользователи в среднем совершают менее одной покупки"
   ]
  },
  {
   "cell_type": "markdown",
   "metadata": {},
   "source": [
    "------------------------------"
   ]
  },
  {
   "cell_type": "markdown",
   "metadata": {},
   "source": [
    "### 5) Провести когортный анализ пользователей. В период с января по декабрь выявить когорту с самым высоким retention на 3й месяц"
   ]
  },
  {
   "cell_type": "markdown",
   "metadata": {},
   "source": [
    "#### Основные параметры для проведения когортного анализа\n",
    "- Метрика - retention (% пользователей, вернувшихся через заданное время)\n",
    "- Признак формирования когорты - уникальные пользователи, совершившие первую покупку в определённый месяц (сегмент пользователей)\n",
    "- Размер когорты - 1 мес\n",
    "- Отчётный период - январь-декабрь 2017 (единственный год, где в полном объёме доступны данные по заданным месяцам)\n",
    "\n",
    "*По полученному шаблону можно будет построить когортный анализ для любого временного промежутка"
   ]
  },
  {
   "cell_type": "code",
   "execution_count": 87,
   "metadata": {},
   "outputs": [
    {
     "data": {
      "text/plain": [
       "Index(['customer_id', 'customer_unique_id', 'customer_zip_code_prefix',\n",
       "       'customer_city', 'customer_state'],\n",
       "      dtype='object')"
      ]
     },
     "execution_count": 87,
     "metadata": {},
     "output_type": "execute_result"
    }
   ],
   "source": [
    "customers_df.columns"
   ]
  },
  {
   "cell_type": "code",
   "execution_count": 88,
   "metadata": {
    "scrolled": false
   },
   "outputs": [
    {
     "data": {
      "text/plain": [
       "Index(['order_id', 'customer_id', 'order_status', 'order_purchase_timestamp',\n",
       "       'order_approved_at', 'order_delivered_carrier_date',\n",
       "       'order_delivered_customer_date', 'order_estimated_delivery_date'],\n",
       "      dtype='object')"
      ]
     },
     "execution_count": 88,
     "metadata": {},
     "output_type": "execute_result"
    }
   ],
   "source": [
    "orders_df.columns"
   ]
  },
  {
   "cell_type": "code",
   "execution_count": 89,
   "metadata": {},
   "outputs": [
    {
     "data": {
      "text/plain": [
       "(99441, 8)"
      ]
     },
     "execution_count": 89,
     "metadata": {},
     "output_type": "execute_result"
    }
   ],
   "source": [
    "orders_df.shape"
   ]
  },
  {
   "cell_type": "markdown",
   "metadata": {},
   "source": [
    "Единица покупки - заказ"
   ]
  },
  {
   "cell_type": "markdown",
   "metadata": {},
   "source": [
    "_ДФ с покупками пользователей_"
   ]
  },
  {
   "cell_type": "code",
   "execution_count": 90,
   "metadata": {
    "scrolled": true
   },
   "outputs": [
    {
     "data": {
      "text/html": [
       "<div>\n",
       "<style scoped>\n",
       "    .dataframe tbody tr th:only-of-type {\n",
       "        vertical-align: middle;\n",
       "    }\n",
       "\n",
       "    .dataframe tbody tr th {\n",
       "        vertical-align: top;\n",
       "    }\n",
       "\n",
       "    .dataframe thead th {\n",
       "        text-align: right;\n",
       "    }\n",
       "</style>\n",
       "<table border=\"1\" class=\"dataframe\">\n",
       "  <thead>\n",
       "    <tr style=\"text-align: right;\">\n",
       "      <th></th>\n",
       "      <th>customer_id</th>\n",
       "      <th>customer_unique_id</th>\n",
       "      <th>order_id</th>\n",
       "      <th>order_status</th>\n",
       "      <th>order_approved_at</th>\n",
       "    </tr>\n",
       "  </thead>\n",
       "  <tbody>\n",
       "    <tr>\n",
       "      <th>0</th>\n",
       "      <td>06b8999e2fba1a1fbc88172c00ba8bc7</td>\n",
       "      <td>861eff4711a542e4b93843c6dd7febb0</td>\n",
       "      <td>00e7ee1b050b8499577073aeb2a297a1</td>\n",
       "      <td>delivered</td>\n",
       "      <td>2017-05-16 15:22:12</td>\n",
       "    </tr>\n",
       "    <tr>\n",
       "      <th>1</th>\n",
       "      <td>18955e83d337fd6b2def6b18a428ac77</td>\n",
       "      <td>290c77bc529b7ac935b93aa66c333dc3</td>\n",
       "      <td>29150127e6685892b6eab3eec79f59c7</td>\n",
       "      <td>delivered</td>\n",
       "      <td>2018-01-12 20:58:32</td>\n",
       "    </tr>\n",
       "    <tr>\n",
       "      <th>2</th>\n",
       "      <td>4e7b3e00288586ebd08712fdd0374a03</td>\n",
       "      <td>060e732b5b29e8181a18229c7b0b2b5e</td>\n",
       "      <td>b2059ed67ce144a36e2aa97d2c9e9ad2</td>\n",
       "      <td>delivered</td>\n",
       "      <td>2018-05-20 16:19:10</td>\n",
       "    </tr>\n",
       "  </tbody>\n",
       "</table>\n",
       "</div>"
      ],
      "text/plain": [
       "                        customer_id                customer_unique_id  \\\n",
       "0  06b8999e2fba1a1fbc88172c00ba8bc7  861eff4711a542e4b93843c6dd7febb0   \n",
       "1  18955e83d337fd6b2def6b18a428ac77  290c77bc529b7ac935b93aa66c333dc3   \n",
       "2  4e7b3e00288586ebd08712fdd0374a03  060e732b5b29e8181a18229c7b0b2b5e   \n",
       "\n",
       "                           order_id order_status   order_approved_at  \n",
       "0  00e7ee1b050b8499577073aeb2a297a1    delivered 2017-05-16 15:22:12  \n",
       "1  29150127e6685892b6eab3eec79f59c7    delivered 2018-01-12 20:58:32  \n",
       "2  b2059ed67ce144a36e2aa97d2c9e9ad2    delivered 2018-05-20 16:19:10  "
      ]
     },
     "execution_count": 90,
     "metadata": {},
     "output_type": "execute_result"
    }
   ],
   "source": [
    "customers_orders_df = pd.merge(\n",
    "    left=customers_df[['customer_id', 'customer_unique_id']],\n",
    "    right=orders_df[['customer_id', 'order_id', 'order_status', 'order_approved_at']],\n",
    "    on='customer_id'\n",
    ")\n",
    "customers_orders_df.head(3)"
   ]
  },
  {
   "cell_type": "code",
   "execution_count": 91,
   "metadata": {},
   "outputs": [
    {
     "data": {
      "text/plain": [
       "(99441, 5)"
      ]
     },
     "execution_count": 91,
     "metadata": {},
     "output_type": "execute_result"
    }
   ],
   "source": [
    "customers_orders_df.shape"
   ]
  },
  {
   "cell_type": "code",
   "execution_count": 92,
   "metadata": {},
   "outputs": [
    {
     "data": {
      "text/plain": [
       "96096"
      ]
     },
     "execution_count": 92,
     "metadata": {},
     "output_type": "execute_result"
    }
   ],
   "source": [
    "customers_orders_df.customer_unique_id.nunique()"
   ]
  },
  {
   "cell_type": "markdown",
   "metadata": {},
   "source": [
    "=> ничего не потерялось"
   ]
  },
  {
   "cell_type": "markdown",
   "metadata": {},
   "source": [
    "_Информаця по успешным покупкам_"
   ]
  },
  {
   "cell_type": "code",
   "execution_count": 93,
   "metadata": {},
   "outputs": [
    {
     "data": {
      "text/html": [
       "<div>\n",
       "<style scoped>\n",
       "    .dataframe tbody tr th:only-of-type {\n",
       "        vertical-align: middle;\n",
       "    }\n",
       "\n",
       "    .dataframe tbody tr th {\n",
       "        vertical-align: top;\n",
       "    }\n",
       "\n",
       "    .dataframe thead th {\n",
       "        text-align: right;\n",
       "    }\n",
       "</style>\n",
       "<table border=\"1\" class=\"dataframe\">\n",
       "  <thead>\n",
       "    <tr style=\"text-align: right;\">\n",
       "      <th></th>\n",
       "      <th>customer_id</th>\n",
       "      <th>customer_unique_id</th>\n",
       "      <th>order_id</th>\n",
       "      <th>order_status</th>\n",
       "      <th>order_approved_at</th>\n",
       "    </tr>\n",
       "  </thead>\n",
       "  <tbody>\n",
       "    <tr>\n",
       "      <th>0</th>\n",
       "      <td>06b8999e2fba1a1fbc88172c00ba8bc7</td>\n",
       "      <td>861eff4711a542e4b93843c6dd7febb0</td>\n",
       "      <td>00e7ee1b050b8499577073aeb2a297a1</td>\n",
       "      <td>delivered</td>\n",
       "      <td>2017-05-16 15:22:12</td>\n",
       "    </tr>\n",
       "    <tr>\n",
       "      <th>1</th>\n",
       "      <td>18955e83d337fd6b2def6b18a428ac77</td>\n",
       "      <td>290c77bc529b7ac935b93aa66c333dc3</td>\n",
       "      <td>29150127e6685892b6eab3eec79f59c7</td>\n",
       "      <td>delivered</td>\n",
       "      <td>2018-01-12 20:58:32</td>\n",
       "    </tr>\n",
       "    <tr>\n",
       "      <th>2</th>\n",
       "      <td>4e7b3e00288586ebd08712fdd0374a03</td>\n",
       "      <td>060e732b5b29e8181a18229c7b0b2b5e</td>\n",
       "      <td>b2059ed67ce144a36e2aa97d2c9e9ad2</td>\n",
       "      <td>delivered</td>\n",
       "      <td>2018-05-20 16:19:10</td>\n",
       "    </tr>\n",
       "  </tbody>\n",
       "</table>\n",
       "</div>"
      ],
      "text/plain": [
       "                        customer_id                customer_unique_id  \\\n",
       "0  06b8999e2fba1a1fbc88172c00ba8bc7  861eff4711a542e4b93843c6dd7febb0   \n",
       "1  18955e83d337fd6b2def6b18a428ac77  290c77bc529b7ac935b93aa66c333dc3   \n",
       "2  4e7b3e00288586ebd08712fdd0374a03  060e732b5b29e8181a18229c7b0b2b5e   \n",
       "\n",
       "                           order_id order_status   order_approved_at  \n",
       "0  00e7ee1b050b8499577073aeb2a297a1    delivered 2017-05-16 15:22:12  \n",
       "1  29150127e6685892b6eab3eec79f59c7    delivered 2018-01-12 20:58:32  \n",
       "2  b2059ed67ce144a36e2aa97d2c9e9ad2    delivered 2018-05-20 16:19:10  "
      ]
     },
     "execution_count": 93,
     "metadata": {},
     "output_type": "execute_result"
    }
   ],
   "source": [
    "customers_orders_sx_df = (\n",
    "    customers_orders_df\n",
    "    .query('order_status == \"delivered\" and order_approved_at != \"NaT\"')\n",
    ")\n",
    "customers_orders_sx_df.head(3)"
   ]
  },
  {
   "cell_type": "code",
   "execution_count": 94,
   "metadata": {},
   "outputs": [
    {
     "data": {
      "text/plain": [
       "(96464, 5)"
      ]
     },
     "execution_count": 94,
     "metadata": {},
     "output_type": "execute_result"
    }
   ],
   "source": [
    "customers_orders_sx_df.shape"
   ]
  },
  {
   "cell_type": "markdown",
   "metadata": {},
   "source": [
    "Добавление столбца с месяцами покупок"
   ]
  },
  {
   "cell_type": "code",
   "execution_count": 95,
   "metadata": {},
   "outputs": [
    {
     "data": {
      "text/html": [
       "<div>\n",
       "<style scoped>\n",
       "    .dataframe tbody tr th:only-of-type {\n",
       "        vertical-align: middle;\n",
       "    }\n",
       "\n",
       "    .dataframe tbody tr th {\n",
       "        vertical-align: top;\n",
       "    }\n",
       "\n",
       "    .dataframe thead th {\n",
       "        text-align: right;\n",
       "    }\n",
       "</style>\n",
       "<table border=\"1\" class=\"dataframe\">\n",
       "  <thead>\n",
       "    <tr style=\"text-align: right;\">\n",
       "      <th></th>\n",
       "      <th>customer_id</th>\n",
       "      <th>customer_unique_id</th>\n",
       "      <th>order_id</th>\n",
       "      <th>order_status</th>\n",
       "      <th>order_approved_at</th>\n",
       "      <th>order_approved_at_month</th>\n",
       "    </tr>\n",
       "  </thead>\n",
       "  <tbody>\n",
       "    <tr>\n",
       "      <th>0</th>\n",
       "      <td>06b8999e2fba1a1fbc88172c00ba8bc7</td>\n",
       "      <td>861eff4711a542e4b93843c6dd7febb0</td>\n",
       "      <td>00e7ee1b050b8499577073aeb2a297a1</td>\n",
       "      <td>delivered</td>\n",
       "      <td>2017-05-16 15:22:12</td>\n",
       "      <td>2017-05</td>\n",
       "    </tr>\n",
       "    <tr>\n",
       "      <th>1</th>\n",
       "      <td>18955e83d337fd6b2def6b18a428ac77</td>\n",
       "      <td>290c77bc529b7ac935b93aa66c333dc3</td>\n",
       "      <td>29150127e6685892b6eab3eec79f59c7</td>\n",
       "      <td>delivered</td>\n",
       "      <td>2018-01-12 20:58:32</td>\n",
       "      <td>2018-01</td>\n",
       "    </tr>\n",
       "    <tr>\n",
       "      <th>2</th>\n",
       "      <td>4e7b3e00288586ebd08712fdd0374a03</td>\n",
       "      <td>060e732b5b29e8181a18229c7b0b2b5e</td>\n",
       "      <td>b2059ed67ce144a36e2aa97d2c9e9ad2</td>\n",
       "      <td>delivered</td>\n",
       "      <td>2018-05-20 16:19:10</td>\n",
       "      <td>2018-05</td>\n",
       "    </tr>\n",
       "  </tbody>\n",
       "</table>\n",
       "</div>"
      ],
      "text/plain": [
       "                        customer_id                customer_unique_id  \\\n",
       "0  06b8999e2fba1a1fbc88172c00ba8bc7  861eff4711a542e4b93843c6dd7febb0   \n",
       "1  18955e83d337fd6b2def6b18a428ac77  290c77bc529b7ac935b93aa66c333dc3   \n",
       "2  4e7b3e00288586ebd08712fdd0374a03  060e732b5b29e8181a18229c7b0b2b5e   \n",
       "\n",
       "                           order_id order_status   order_approved_at  \\\n",
       "0  00e7ee1b050b8499577073aeb2a297a1    delivered 2017-05-16 15:22:12   \n",
       "1  29150127e6685892b6eab3eec79f59c7    delivered 2018-01-12 20:58:32   \n",
       "2  b2059ed67ce144a36e2aa97d2c9e9ad2    delivered 2018-05-20 16:19:10   \n",
       "\n",
       "  order_approved_at_month  \n",
       "0                 2017-05  \n",
       "1                 2018-01  \n",
       "2                 2018-05  "
      ]
     },
     "execution_count": 95,
     "metadata": {},
     "output_type": "execute_result"
    }
   ],
   "source": [
    "customers_orders_sx_df = (\n",
    "    customers_orders_sx_df\n",
    "    .assign(order_approved_at_month=customers_orders_sx_df\n",
    "            .order_approved_at\n",
    "            .dt.to_period('M')\n",
    "           )\n",
    ")\n",
    "customers_orders_sx_df.head(3)"
   ]
  },
  {
   "cell_type": "code",
   "execution_count": 96,
   "metadata": {},
   "outputs": [
    {
     "data": {
      "text/plain": [
       "(96464, 6)"
      ]
     },
     "execution_count": 96,
     "metadata": {},
     "output_type": "execute_result"
    }
   ],
   "source": [
    "customers_orders_sx_df.shape"
   ]
  },
  {
   "cell_type": "markdown",
   "metadata": {},
   "source": [
    "_Добавление столбца с сегментом пользователя_"
   ]
  },
  {
   "cell_type": "markdown",
   "metadata": {},
   "source": [
    "Сегментация пользователей по дате первой покупки"
   ]
  },
  {
   "cell_type": "code",
   "execution_count": 97,
   "metadata": {},
   "outputs": [
    {
     "data": {
      "text/html": [
       "<div>\n",
       "<style scoped>\n",
       "    .dataframe tbody tr th:only-of-type {\n",
       "        vertical-align: middle;\n",
       "    }\n",
       "\n",
       "    .dataframe tbody tr th {\n",
       "        vertical-align: top;\n",
       "    }\n",
       "\n",
       "    .dataframe thead th {\n",
       "        text-align: right;\n",
       "    }\n",
       "</style>\n",
       "<table border=\"1\" class=\"dataframe\">\n",
       "  <thead>\n",
       "    <tr style=\"text-align: right;\">\n",
       "      <th></th>\n",
       "      <th>customer_unique_id</th>\n",
       "      <th>segment</th>\n",
       "    </tr>\n",
       "  </thead>\n",
       "  <tbody>\n",
       "    <tr>\n",
       "      <th>0</th>\n",
       "      <td>0000366f3b9a7992bf8c76cfdf3221e2</td>\n",
       "      <td>2018-05</td>\n",
       "    </tr>\n",
       "    <tr>\n",
       "      <th>1</th>\n",
       "      <td>0000b849f77a49e4a4ce2b2a4ca5be3f</td>\n",
       "      <td>2018-05</td>\n",
       "    </tr>\n",
       "    <tr>\n",
       "      <th>2</th>\n",
       "      <td>0000f46a3911fa3c0805444483337064</td>\n",
       "      <td>2017-03</td>\n",
       "    </tr>\n",
       "    <tr>\n",
       "      <th>3</th>\n",
       "      <td>0000f6ccb0745a6a4b88665a16c9f078</td>\n",
       "      <td>2017-10</td>\n",
       "    </tr>\n",
       "    <tr>\n",
       "      <th>4</th>\n",
       "      <td>0004aac84e0df4da2b147fca70cf8255</td>\n",
       "      <td>2017-11</td>\n",
       "    </tr>\n",
       "  </tbody>\n",
       "</table>\n",
       "</div>"
      ],
      "text/plain": [
       "                 customer_unique_id  segment\n",
       "0  0000366f3b9a7992bf8c76cfdf3221e2  2018-05\n",
       "1  0000b849f77a49e4a4ce2b2a4ca5be3f  2018-05\n",
       "2  0000f46a3911fa3c0805444483337064  2017-03\n",
       "3  0000f6ccb0745a6a4b88665a16c9f078  2017-10\n",
       "4  0004aac84e0df4da2b147fca70cf8255  2017-11"
      ]
     },
     "execution_count": 97,
     "metadata": {},
     "output_type": "execute_result"
    }
   ],
   "source": [
    "customers_segmments = (\n",
    "    customers_orders_sx_df\n",
    "    .groupby('customer_unique_id', as_index=False)\n",
    "    .order_approved_at_month\n",
    "    .min()\n",
    "    .rename(columns={'order_approved_at_month': 'segment'})\n",
    ")\n",
    "\n",
    "customers_segmments.head()"
   ]
  },
  {
   "cell_type": "code",
   "execution_count": 98,
   "metadata": {},
   "outputs": [
    {
     "data": {
      "text/plain": [
       "(93345, 2)"
      ]
     },
     "execution_count": 98,
     "metadata": {},
     "output_type": "execute_result"
    }
   ],
   "source": [
    "customers_segmments.shape"
   ]
  },
  {
   "cell_type": "code",
   "execution_count": 99,
   "metadata": {},
   "outputs": [
    {
     "data": {
      "text/plain": [
       "93345"
      ]
     },
     "execution_count": 99,
     "metadata": {},
     "output_type": "execute_result"
    }
   ],
   "source": [
    "customers_orders_sx_df.customer_unique_id.nunique()"
   ]
  },
  {
   "cell_type": "code",
   "execution_count": 100,
   "metadata": {},
   "outputs": [
    {
     "data": {
      "text/html": [
       "<div>\n",
       "<style scoped>\n",
       "    .dataframe tbody tr th:only-of-type {\n",
       "        vertical-align: middle;\n",
       "    }\n",
       "\n",
       "    .dataframe tbody tr th {\n",
       "        vertical-align: top;\n",
       "    }\n",
       "\n",
       "    .dataframe thead th {\n",
       "        text-align: right;\n",
       "    }\n",
       "</style>\n",
       "<table border=\"1\" class=\"dataframe\">\n",
       "  <thead>\n",
       "    <tr style=\"text-align: right;\">\n",
       "      <th></th>\n",
       "      <th>customer_id</th>\n",
       "      <th>customer_unique_id</th>\n",
       "      <th>order_id</th>\n",
       "      <th>order_status</th>\n",
       "      <th>order_approved_at</th>\n",
       "      <th>order_approved_at_month</th>\n",
       "      <th>segment</th>\n",
       "    </tr>\n",
       "  </thead>\n",
       "  <tbody>\n",
       "    <tr>\n",
       "      <th>0</th>\n",
       "      <td>06b8999e2fba1a1fbc88172c00ba8bc7</td>\n",
       "      <td>861eff4711a542e4b93843c6dd7febb0</td>\n",
       "      <td>00e7ee1b050b8499577073aeb2a297a1</td>\n",
       "      <td>delivered</td>\n",
       "      <td>2017-05-16 15:22:12</td>\n",
       "      <td>2017-05</td>\n",
       "      <td>2017-05</td>\n",
       "    </tr>\n",
       "    <tr>\n",
       "      <th>1</th>\n",
       "      <td>18955e83d337fd6b2def6b18a428ac77</td>\n",
       "      <td>290c77bc529b7ac935b93aa66c333dc3</td>\n",
       "      <td>29150127e6685892b6eab3eec79f59c7</td>\n",
       "      <td>delivered</td>\n",
       "      <td>2018-01-12 20:58:32</td>\n",
       "      <td>2018-01</td>\n",
       "      <td>2018-01</td>\n",
       "    </tr>\n",
       "    <tr>\n",
       "      <th>2</th>\n",
       "      <td>4e7b3e00288586ebd08712fdd0374a03</td>\n",
       "      <td>060e732b5b29e8181a18229c7b0b2b5e</td>\n",
       "      <td>b2059ed67ce144a36e2aa97d2c9e9ad2</td>\n",
       "      <td>delivered</td>\n",
       "      <td>2018-05-20 16:19:10</td>\n",
       "      <td>2018-05</td>\n",
       "      <td>2018-05</td>\n",
       "    </tr>\n",
       "    <tr>\n",
       "      <th>3</th>\n",
       "      <td>b2b6027bc5c5109e529d4dc6358b12c3</td>\n",
       "      <td>259dac757896d24d7702b9acbbff3f3c</td>\n",
       "      <td>951670f92359f4fe4a63112aa7306eba</td>\n",
       "      <td>delivered</td>\n",
       "      <td>2018-03-13 17:29:19</td>\n",
       "      <td>2018-03</td>\n",
       "      <td>2018-03</td>\n",
       "    </tr>\n",
       "    <tr>\n",
       "      <th>4</th>\n",
       "      <td>4f2d8ab171c80ec8364f7c12e35b23ad</td>\n",
       "      <td>345ecd01c38d18a9036ed96c73b8d066</td>\n",
       "      <td>6b7d50bd145f6fc7f33cebabd7e49d0f</td>\n",
       "      <td>delivered</td>\n",
       "      <td>2018-07-29 10:10:09</td>\n",
       "      <td>2018-07</td>\n",
       "      <td>2018-07</td>\n",
       "    </tr>\n",
       "  </tbody>\n",
       "</table>\n",
       "</div>"
      ],
      "text/plain": [
       "                        customer_id                customer_unique_id  \\\n",
       "0  06b8999e2fba1a1fbc88172c00ba8bc7  861eff4711a542e4b93843c6dd7febb0   \n",
       "1  18955e83d337fd6b2def6b18a428ac77  290c77bc529b7ac935b93aa66c333dc3   \n",
       "2  4e7b3e00288586ebd08712fdd0374a03  060e732b5b29e8181a18229c7b0b2b5e   \n",
       "3  b2b6027bc5c5109e529d4dc6358b12c3  259dac757896d24d7702b9acbbff3f3c   \n",
       "4  4f2d8ab171c80ec8364f7c12e35b23ad  345ecd01c38d18a9036ed96c73b8d066   \n",
       "\n",
       "                           order_id order_status   order_approved_at  \\\n",
       "0  00e7ee1b050b8499577073aeb2a297a1    delivered 2017-05-16 15:22:12   \n",
       "1  29150127e6685892b6eab3eec79f59c7    delivered 2018-01-12 20:58:32   \n",
       "2  b2059ed67ce144a36e2aa97d2c9e9ad2    delivered 2018-05-20 16:19:10   \n",
       "3  951670f92359f4fe4a63112aa7306eba    delivered 2018-03-13 17:29:19   \n",
       "4  6b7d50bd145f6fc7f33cebabd7e49d0f    delivered 2018-07-29 10:10:09   \n",
       "\n",
       "  order_approved_at_month  segment  \n",
       "0                 2017-05  2017-05  \n",
       "1                 2018-01  2018-01  \n",
       "2                 2018-05  2018-05  \n",
       "3                 2018-03  2018-03  \n",
       "4                 2018-07  2018-07  "
      ]
     },
     "execution_count": 100,
     "metadata": {},
     "output_type": "execute_result"
    }
   ],
   "source": [
    "purchases_df = (\n",
    "    customers_orders_sx_df\n",
    "    .merge(customers_segmments, on='customer_unique_id')\n",
    ")\n",
    "purchases_df.head()"
   ]
  },
  {
   "cell_type": "code",
   "execution_count": 101,
   "metadata": {},
   "outputs": [
    {
     "data": {
      "text/plain": [
       "(96464, 7)"
      ]
     },
     "execution_count": 101,
     "metadata": {},
     "output_type": "execute_result"
    }
   ],
   "source": [
    "purchases_df.shape"
   ]
  },
  {
   "cell_type": "markdown",
   "metadata": {},
   "source": [
    "Имеющийся временной диапазон"
   ]
  },
  {
   "cell_type": "code",
   "execution_count": 102,
   "metadata": {},
   "outputs": [
    {
     "name": "stdout",
     "output_type": "stream",
     "text": [
      "(Period('2016-09', 'M'), Period('2018-08', 'M'))\n"
     ]
    }
   ],
   "source": [
    "min_month = customers_orders_sx_df.order_approved_at_month.min()\n",
    "max_month = customers_orders_sx_df.order_approved_at_month.max()\n",
    "print((min_month, max_month))"
   ]
  },
  {
   "cell_type": "markdown",
   "metadata": {},
   "source": [
    "Фильтрация сегментов по заданному временному проежутку"
   ]
  },
  {
   "cell_type": "code",
   "execution_count": 103,
   "metadata": {},
   "outputs": [],
   "source": [
    "segment_start_date = '2017-01-01'  # Начало\n",
    "segment_fin_date = '2017-12-01'  # Конец"
   ]
  },
  {
   "cell_type": "code",
   "execution_count": 104,
   "metadata": {},
   "outputs": [
    {
     "name": "stdout",
     "output_type": "stream",
     "text": [
      "2017-01 2017-12\n"
     ]
    }
   ],
   "source": [
    "purchases_filtered_df = (\n",
    "    purchases_df\n",
    "    .query('segment >= @segment_start_date and segment <= @segment_fin_date')\n",
    ")\n",
    "\n",
    "print(purchases_filtered_df.segment.min(), purchases_filtered_df.segment.max())"
   ]
  },
  {
   "cell_type": "code",
   "execution_count": 105,
   "metadata": {},
   "outputs": [
    {
     "data": {
      "text/plain": [
       "(44063, 7)"
      ]
     },
     "execution_count": 105,
     "metadata": {},
     "output_type": "execute_result"
    }
   ],
   "source": [
    "purchases_filtered_df.shape"
   ]
  },
  {
   "cell_type": "markdown",
   "metadata": {},
   "source": [
    "Добавление относительного номера месяца покупки для пользователя (относительно даты сегмента)"
   ]
  },
  {
   "cell_type": "code",
   "execution_count": 106,
   "metadata": {},
   "outputs": [
    {
     "data": {
      "text/html": [
       "<div>\n",
       "<style scoped>\n",
       "    .dataframe tbody tr th:only-of-type {\n",
       "        vertical-align: middle;\n",
       "    }\n",
       "\n",
       "    .dataframe tbody tr th {\n",
       "        vertical-align: top;\n",
       "    }\n",
       "\n",
       "    .dataframe thead th {\n",
       "        text-align: right;\n",
       "    }\n",
       "</style>\n",
       "<table border=\"1\" class=\"dataframe\">\n",
       "  <thead>\n",
       "    <tr style=\"text-align: right;\">\n",
       "      <th></th>\n",
       "      <th>customer_id</th>\n",
       "      <th>customer_unique_id</th>\n",
       "      <th>order_id</th>\n",
       "      <th>order_status</th>\n",
       "      <th>order_approved_at</th>\n",
       "      <th>order_approved_at_month</th>\n",
       "      <th>segment</th>\n",
       "      <th>month</th>\n",
       "    </tr>\n",
       "  </thead>\n",
       "  <tbody>\n",
       "    <tr>\n",
       "      <th>0</th>\n",
       "      <td>06b8999e2fba1a1fbc88172c00ba8bc7</td>\n",
       "      <td>861eff4711a542e4b93843c6dd7febb0</td>\n",
       "      <td>00e7ee1b050b8499577073aeb2a297a1</td>\n",
       "      <td>delivered</td>\n",
       "      <td>2017-05-16 15:22:12</td>\n",
       "      <td>2017-05</td>\n",
       "      <td>2017-05</td>\n",
       "      <td>0</td>\n",
       "    </tr>\n",
       "    <tr>\n",
       "      <th>5</th>\n",
       "      <td>879864dab9bc3047522c92c82e1212b8</td>\n",
       "      <td>4c93744516667ad3b8f1fb645a3116a4</td>\n",
       "      <td>5741ea1f91b5fbab2bd2dc653a5b5099</td>\n",
       "      <td>delivered</td>\n",
       "      <td>2017-09-14 18:25:11</td>\n",
       "      <td>2017-09</td>\n",
       "      <td>2017-09</td>\n",
       "      <td>0</td>\n",
       "    </tr>\n",
       "    <tr>\n",
       "      <th>6</th>\n",
       "      <td>802bb9a59876a712f8380da8f297057c</td>\n",
       "      <td>4c93744516667ad3b8f1fb645a3116a4</td>\n",
       "      <td>98b737f8bd00d73d9f61f7344aadf717</td>\n",
       "      <td>delivered</td>\n",
       "      <td>2017-10-15 13:05:29</td>\n",
       "      <td>2017-10</td>\n",
       "      <td>2017-09</td>\n",
       "      <td>1</td>\n",
       "    </tr>\n",
       "    <tr>\n",
       "      <th>8</th>\n",
       "      <td>5e274e7a0c3809e14aba7ad5aae0d407</td>\n",
       "      <td>57b2a98a409812fe9618067b6b8ebe4f</td>\n",
       "      <td>1093c8304c7a003280dd34598194913d</td>\n",
       "      <td>delivered</td>\n",
       "      <td>2017-11-16 19:55:41</td>\n",
       "      <td>2017-11</td>\n",
       "      <td>2017-11</td>\n",
       "      <td>0</td>\n",
       "    </tr>\n",
       "    <tr>\n",
       "      <th>12</th>\n",
       "      <td>9fb35e4ed6f0a14a4977cd9aea4042bb</td>\n",
       "      <td>2a7745e1ed516b289ed9b29c7d0539a5</td>\n",
       "      <td>8428e578bb1cf839ae26a6b7615502b9</td>\n",
       "      <td>delivered</td>\n",
       "      <td>2017-11-27 18:01:20</td>\n",
       "      <td>2017-11</td>\n",
       "      <td>2017-11</td>\n",
       "      <td>0</td>\n",
       "    </tr>\n",
       "  </tbody>\n",
       "</table>\n",
       "</div>"
      ],
      "text/plain": [
       "                         customer_id                customer_unique_id  \\\n",
       "0   06b8999e2fba1a1fbc88172c00ba8bc7  861eff4711a542e4b93843c6dd7febb0   \n",
       "5   879864dab9bc3047522c92c82e1212b8  4c93744516667ad3b8f1fb645a3116a4   \n",
       "6   802bb9a59876a712f8380da8f297057c  4c93744516667ad3b8f1fb645a3116a4   \n",
       "8   5e274e7a0c3809e14aba7ad5aae0d407  57b2a98a409812fe9618067b6b8ebe4f   \n",
       "12  9fb35e4ed6f0a14a4977cd9aea4042bb  2a7745e1ed516b289ed9b29c7d0539a5   \n",
       "\n",
       "                            order_id order_status   order_approved_at  \\\n",
       "0   00e7ee1b050b8499577073aeb2a297a1    delivered 2017-05-16 15:22:12   \n",
       "5   5741ea1f91b5fbab2bd2dc653a5b5099    delivered 2017-09-14 18:25:11   \n",
       "6   98b737f8bd00d73d9f61f7344aadf717    delivered 2017-10-15 13:05:29   \n",
       "8   1093c8304c7a003280dd34598194913d    delivered 2017-11-16 19:55:41   \n",
       "12  8428e578bb1cf839ae26a6b7615502b9    delivered 2017-11-27 18:01:20   \n",
       "\n",
       "   order_approved_at_month  segment  month  \n",
       "0                  2017-05  2017-05      0  \n",
       "5                  2017-09  2017-09      0  \n",
       "6                  2017-10  2017-09      1  \n",
       "8                  2017-11  2017-11      0  \n",
       "12                 2017-11  2017-11      0  "
      ]
     },
     "execution_count": 106,
     "metadata": {},
     "output_type": "execute_result"
    }
   ],
   "source": [
    "purchases_filtered_df = purchases_filtered_df.assign(\n",
    "    month=(\n",
    "        purchases_filtered_df.order_approved_at_month\n",
    "        - purchases_filtered_df.segment\n",
    "        ).apply(attrgetter('n'))\n",
    ")\n",
    "\n",
    "purchases_filtered_df.head()"
   ]
  },
  {
   "cell_type": "code",
   "execution_count": 107,
   "metadata": {},
   "outputs": [
    {
     "data": {
      "text/plain": [
       "(44063, 8)"
      ]
     },
     "execution_count": 107,
     "metadata": {},
     "output_type": "execute_result"
    }
   ],
   "source": [
    "purchases_filtered_df.shape"
   ]
  },
  {
   "cell_type": "markdown",
   "metadata": {},
   "source": [
    "_Таблица для когортного анализа_"
   ]
  },
  {
   "cell_type": "code",
   "execution_count": 108,
   "metadata": {},
   "outputs": [
    {
     "data": {
      "text/html": [
       "<style type=\"text/css\">\n",
       "#T_563bf_row0_col0, #T_563bf_row0_col12, #T_563bf_row1_col0, #T_563bf_row2_col0, #T_563bf_row3_col0, #T_563bf_row4_col0, #T_563bf_row5_col0, #T_563bf_row6_col0, #T_563bf_row7_col0, #T_563bf_row8_col0, #T_563bf_row9_col0, #T_563bf_row9_col1, #T_563bf_row10_col0, #T_563bf_row11_col0 {\n",
       "  background-color: #fcfdbf;\n",
       "  color: #000000;\n",
       "}\n",
       "#T_563bf_row0_col1, #T_563bf_row0_col4, #T_563bf_row0_col6, #T_563bf_row0_col13, #T_563bf_row0_col17 {\n",
       "  background-color: #e44f64;\n",
       "  color: #f1f1f1;\n",
       "}\n",
       "#T_563bf_row0_col2, #T_563bf_row0_col10, #T_563bf_row0_col11, #T_563bf_row0_col16 {\n",
       "  background-color: #8e2a81;\n",
       "  color: #f1f1f1;\n",
       "}\n",
       "#T_563bf_row0_col3, #T_563bf_row0_col5, #T_563bf_row0_col7, #T_563bf_row0_col8, #T_563bf_row0_col14, #T_563bf_row0_col15, #T_563bf_row0_col18, #T_563bf_row7_col12 {\n",
       "  background-color: #36106b;\n",
       "  color: #f1f1f1;\n",
       "}\n",
       "#T_563bf_row0_col9, #T_563bf_row1_col18, #T_563bf_row2_col18, #T_563bf_row3_col17, #T_563bf_row3_col18, #T_563bf_row4_col16, #T_563bf_row4_col17, #T_563bf_row4_col18, #T_563bf_row5_col15, #T_563bf_row5_col16, #T_563bf_row5_col17, #T_563bf_row5_col18, #T_563bf_row6_col14, #T_563bf_row6_col15, #T_563bf_row6_col16, #T_563bf_row6_col17, #T_563bf_row6_col18, #T_563bf_row7_col13, #T_563bf_row7_col14, #T_563bf_row7_col15, #T_563bf_row7_col16, #T_563bf_row7_col17, #T_563bf_row7_col18, #T_563bf_row8_col12, #T_563bf_row8_col13, #T_563bf_row8_col14, #T_563bf_row8_col15, #T_563bf_row8_col16, #T_563bf_row8_col17, #T_563bf_row8_col18, #T_563bf_row9_col11, #T_563bf_row9_col12, #T_563bf_row9_col13, #T_563bf_row9_col14, #T_563bf_row9_col15, #T_563bf_row9_col16, #T_563bf_row9_col17, #T_563bf_row9_col18, #T_563bf_row10_col10, #T_563bf_row10_col11, #T_563bf_row10_col12, #T_563bf_row10_col13, #T_563bf_row10_col14, #T_563bf_row10_col15, #T_563bf_row10_col16, #T_563bf_row10_col17, #T_563bf_row10_col18, #T_563bf_row11_col9, #T_563bf_row11_col10, #T_563bf_row11_col11, #T_563bf_row11_col12, #T_563bf_row11_col13, #T_563bf_row11_col14, #T_563bf_row11_col15, #T_563bf_row11_col16, #T_563bf_row11_col17, #T_563bf_row11_col18 {\n",
       "  background-color: #000000;\n",
       "  color: #f1f1f1;\n",
       "  color: transparent;\n",
       "  background-color: white;\n",
       "}\n",
       "#T_563bf_row1_col1, #T_563bf_row1_col3, #T_563bf_row1_col7, #T_563bf_row1_col9, #T_563bf_row1_col13, #T_563bf_row1_col17, #T_563bf_row9_col5, #T_563bf_row9_col9, #T_563bf_row10_col7 {\n",
       "  background-color: #4f127b;\n",
       "  color: #f1f1f1;\n",
       "}\n",
       "#T_563bf_row1_col2, #T_563bf_row1_col6, #T_563bf_row8_col10 {\n",
       "  background-color: #732081;\n",
       "  color: #f1f1f1;\n",
       "}\n",
       "#T_563bf_row1_col4 {\n",
       "  background-color: #e24d66;\n",
       "  color: #f1f1f1;\n",
       "}\n",
       "#T_563bf_row1_col5, #T_563bf_row1_col10, #T_563bf_row1_col12, #T_563bf_row1_col14, #T_563bf_row7_col8 {\n",
       "  background-color: #271258;\n",
       "  color: #f1f1f1;\n",
       "}\n",
       "#T_563bf_row1_col8, #T_563bf_row1_col15, #T_563bf_row1_col16 {\n",
       "  background-color: #0a0822;\n",
       "  color: #f1f1f1;\n",
       "}\n",
       "#T_563bf_row1_col11, #T_563bf_row11_col3 {\n",
       "  background-color: #982d80;\n",
       "  color: #f1f1f1;\n",
       "}\n",
       "#T_563bf_row2_col1 {\n",
       "  background-color: #e34e65;\n",
       "  color: #f1f1f1;\n",
       "}\n",
       "#T_563bf_row2_col2, #T_563bf_row2_col3, #T_563bf_row2_col4, #T_563bf_row2_col10, #T_563bf_row3_col6, #T_563bf_row3_col8 {\n",
       "  background-color: #b5367a;\n",
       "  color: #f1f1f1;\n",
       "}\n",
       "#T_563bf_row2_col5, #T_563bf_row2_col6, #T_563bf_row2_col14 {\n",
       "  background-color: #3f0f72;\n",
       "  color: #f1f1f1;\n",
       "}\n",
       "#T_563bf_row2_col7, #T_563bf_row4_col5 {\n",
       "  background-color: #9e2f7f;\n",
       "  color: #f1f1f1;\n",
       "}\n",
       "#T_563bf_row2_col8, #T_563bf_row9_col8 {\n",
       "  background-color: #862781;\n",
       "  color: #f1f1f1;\n",
       "}\n",
       "#T_563bf_row2_col9, #T_563bf_row2_col11, #T_563bf_row2_col13, #T_563bf_row2_col17 {\n",
       "  background-color: #251255;\n",
       "  color: #f1f1f1;\n",
       "}\n",
       "#T_563bf_row2_col12, #T_563bf_row11_col5 {\n",
       "  background-color: #57157e;\n",
       "  color: #f1f1f1;\n",
       "}\n",
       "#T_563bf_row2_col15 {\n",
       "  background-color: #6e1e81;\n",
       "  color: #f1f1f1;\n",
       "}\n",
       "#T_563bf_row2_col16 {\n",
       "  background-color: #120d31;\n",
       "  color: #f1f1f1;\n",
       "}\n",
       "#T_563bf_row3_col1 {\n",
       "  background-color: #fecd90;\n",
       "  color: #000000;\n",
       "}\n",
       "#T_563bf_row3_col2, #T_563bf_row3_col4, #T_563bf_row3_col10, #T_563bf_row8_col6, #T_563bf_row8_col7 {\n",
       "  background-color: #651a80;\n",
       "  color: #f1f1f1;\n",
       "}\n",
       "#T_563bf_row3_col3, #T_563bf_row3_col9 {\n",
       "  background-color: #4a1079;\n",
       "  color: #f1f1f1;\n",
       "}\n",
       "#T_563bf_row3_col5, #T_563bf_row3_col7, #T_563bf_row7_col3, #T_563bf_row7_col6, #T_563bf_row7_col7 {\n",
       "  background-color: #802582;\n",
       "  color: #f1f1f1;\n",
       "}\n",
       "#T_563bf_row3_col11, #T_563bf_row3_col14, #T_563bf_row3_col15 {\n",
       "  background-color: #150e38;\n",
       "  color: #f1f1f1;\n",
       "}\n",
       "#T_563bf_row3_col12, #T_563bf_row3_col13 {\n",
       "  background-color: #050416;\n",
       "  color: #f1f1f1;\n",
       "}\n",
       "#T_563bf_row3_col16, #T_563bf_row6_col12 {\n",
       "  background-color: #2d1161;\n",
       "  color: #f1f1f1;\n",
       "}\n",
       "#T_563bf_row4_col1 {\n",
       "  background-color: #fb835f;\n",
       "  color: #f1f1f1;\n",
       "}\n",
       "#T_563bf_row4_col2 {\n",
       "  background-color: #ee5b5e;\n",
       "  color: #f1f1f1;\n",
       "}\n",
       "#T_563bf_row4_col3, #T_563bf_row4_col4, #T_563bf_row4_col10 {\n",
       "  background-color: #8c2981;\n",
       "  color: #f1f1f1;\n",
       "}\n",
       "#T_563bf_row4_col6 {\n",
       "  background-color: #d2426f;\n",
       "  color: #f1f1f1;\n",
       "}\n",
       "#T_563bf_row4_col7 {\n",
       "  background-color: #341069;\n",
       "  color: #f1f1f1;\n",
       "}\n",
       "#T_563bf_row4_col8, #T_563bf_row4_col9 {\n",
       "  background-color: #7b2382;\n",
       "  color: #f1f1f1;\n",
       "}\n",
       "#T_563bf_row4_col11 {\n",
       "  background-color: #ae347b;\n",
       "  color: #f1f1f1;\n",
       "}\n",
       "#T_563bf_row4_col12, #T_563bf_row4_col14, #T_563bf_row8_col9, #T_563bf_row10_col4 {\n",
       "  background-color: #471078;\n",
       "  color: #f1f1f1;\n",
       "}\n",
       "#T_563bf_row4_col13 {\n",
       "  background-color: #08071e;\n",
       "  color: #f1f1f1;\n",
       "}\n",
       "#T_563bf_row4_col15 {\n",
       "  background-color: #59157e;\n",
       "  color: #f1f1f1;\n",
       "}\n",
       "#T_563bf_row5_col1 {\n",
       "  background-color: #f66e5c;\n",
       "  color: #f1f1f1;\n",
       "}\n",
       "#T_563bf_row5_col2, #T_563bf_row5_col11 {\n",
       "  background-color: #cc3f71;\n",
       "  color: #f1f1f1;\n",
       "}\n",
       "#T_563bf_row5_col3 {\n",
       "  background-color: #de4968;\n",
       "  color: #f1f1f1;\n",
       "}\n",
       "#T_563bf_row5_col4, #T_563bf_row5_col10, #T_563bf_row6_col11 {\n",
       "  background-color: #902a81;\n",
       "  color: #f1f1f1;\n",
       "}\n",
       "#T_563bf_row5_col5, #T_563bf_row5_col6 {\n",
       "  background-color: #b83779;\n",
       "  color: #f1f1f1;\n",
       "}\n",
       "#T_563bf_row5_col7, #T_563bf_row5_col14 {\n",
       "  background-color: #681c81;\n",
       "  color: #f1f1f1;\n",
       "}\n",
       "#T_563bf_row5_col8, #T_563bf_row10_col6 {\n",
       "  background-color: #2c115f;\n",
       "  color: #f1f1f1;\n",
       "}\n",
       "#T_563bf_row5_col9 {\n",
       "  background-color: #56147d;\n",
       "  color: #f1f1f1;\n",
       "}\n",
       "#T_563bf_row5_col12, #T_563bf_row5_col13, #T_563bf_row11_col6 {\n",
       "  background-color: #400f74;\n",
       "  color: #f1f1f1;\n",
       "}\n",
       "#T_563bf_row6_col1 {\n",
       "  background-color: #fc9065;\n",
       "  color: #000000;\n",
       "}\n",
       "#T_563bf_row6_col2, #T_563bf_row6_col6, #T_563bf_row8_col3 {\n",
       "  background-color: #a02f7f;\n",
       "  color: #f1f1f1;\n",
       "}\n",
       "#T_563bf_row6_col3, #T_563bf_row6_col5, #T_563bf_row6_col8 {\n",
       "  background-color: #51127c;\n",
       "  color: #f1f1f1;\n",
       "}\n",
       "#T_563bf_row6_col4 {\n",
       "  background-color: #b2357b;\n",
       "  color: #f1f1f1;\n",
       "}\n",
       "#T_563bf_row6_col7 {\n",
       "  background-color: #1e1149;\n",
       "  color: #f1f1f1;\n",
       "}\n",
       "#T_563bf_row6_col9, #T_563bf_row6_col13 {\n",
       "  background-color: #701f81;\n",
       "  color: #f1f1f1;\n",
       "}\n",
       "#T_563bf_row6_col10 {\n",
       "  background-color: #601880;\n",
       "  color: #f1f1f1;\n",
       "}\n",
       "#T_563bf_row7_col1 {\n",
       "  background-color: #fcf6b8;\n",
       "  color: #000000;\n",
       "}\n",
       "#T_563bf_row7_col2, #T_563bf_row7_col4 {\n",
       "  background-color: #bc3978;\n",
       "  color: #f1f1f1;\n",
       "}\n",
       "#T_563bf_row7_col5 {\n",
       "  background-color: #fa7d5e;\n",
       "  color: #f1f1f1;\n",
       "}\n",
       "#T_563bf_row7_col9, #T_563bf_row7_col11 {\n",
       "  background-color: #451077;\n",
       "  color: #f1f1f1;\n",
       "}\n",
       "#T_563bf_row7_col10 {\n",
       "  background-color: #721f81;\n",
       "  color: #f1f1f1;\n",
       "}\n",
       "#T_563bf_row8_col1 {\n",
       "  background-color: #fdebac;\n",
       "  color: #000000;\n",
       "}\n",
       "#T_563bf_row8_col2 {\n",
       "  background-color: #f7725c;\n",
       "  color: #f1f1f1;\n",
       "}\n",
       "#T_563bf_row8_col4 {\n",
       "  background-color: #dc4869;\n",
       "  color: #f1f1f1;\n",
       "}\n",
       "#T_563bf_row8_col5, #T_563bf_row11_col2 {\n",
       "  background-color: #812581;\n",
       "  color: #f1f1f1;\n",
       "}\n",
       "#T_563bf_row8_col8 {\n",
       "  background-color: #912b81;\n",
       "  color: #f1f1f1;\n",
       "}\n",
       "#T_563bf_row8_col11 {\n",
       "  background-color: #100b2d;\n",
       "  color: #f1f1f1;\n",
       "}\n",
       "#T_563bf_row9_col2 {\n",
       "  background-color: #942c80;\n",
       "  color: #f1f1f1;\n",
       "}\n",
       "#T_563bf_row9_col3 {\n",
       "  background-color: #180f3d;\n",
       "  color: #f1f1f1;\n",
       "}\n",
       "#T_563bf_row9_col4 {\n",
       "  background-color: #6a1c81;\n",
       "  color: #f1f1f1;\n",
       "}\n",
       "#T_563bf_row9_col6 {\n",
       "  background-color: #782281;\n",
       "  color: #f1f1f1;\n",
       "}\n",
       "#T_563bf_row9_col7 {\n",
       "  background-color: #bf3a77;\n",
       "  color: #f1f1f1;\n",
       "}\n",
       "#T_563bf_row9_col10 {\n",
       "  background-color: #5d177f;\n",
       "  color: #f1f1f1;\n",
       "}\n",
       "#T_563bf_row10_col1 {\n",
       "  background-color: #fe9f6d;\n",
       "  color: #000000;\n",
       "}\n",
       "#T_563bf_row10_col2 {\n",
       "  background-color: #b73779;\n",
       "  color: #f1f1f1;\n",
       "}\n",
       "#T_563bf_row10_col3, #T_563bf_row10_col5 {\n",
       "  background-color: #3d0f71;\n",
       "  color: #f1f1f1;\n",
       "}\n",
       "#T_563bf_row10_col8 {\n",
       "  background-color: #221150;\n",
       "  color: #f1f1f1;\n",
       "}\n",
       "#T_563bf_row10_col9 {\n",
       "  background-color: #0e0b2b;\n",
       "  color: #f1f1f1;\n",
       "}\n",
       "#T_563bf_row11_col1 {\n",
       "  background-color: #621980;\n",
       "  color: #f1f1f1;\n",
       "}\n",
       "#T_563bf_row11_col4 {\n",
       "  background-color: #6d1d81;\n",
       "  color: #f1f1f1;\n",
       "}\n",
       "#T_563bf_row11_col7 {\n",
       "  background-color: #000004;\n",
       "  color: #f1f1f1;\n",
       "}\n",
       "#T_563bf_row11_col8 {\n",
       "  background-color: #4c117a;\n",
       "  color: #f1f1f1;\n",
       "}\n",
       "</style>\n",
       "<table id=\"T_563bf\">\n",
       "  <thead>\n",
       "    <tr>\n",
       "      <th class=\"index_name level0\" >month</th>\n",
       "      <th id=\"T_563bf_level0_col0\" class=\"col_heading level0 col0\" >0</th>\n",
       "      <th id=\"T_563bf_level0_col1\" class=\"col_heading level0 col1\" >1</th>\n",
       "      <th id=\"T_563bf_level0_col2\" class=\"col_heading level0 col2\" >2</th>\n",
       "      <th id=\"T_563bf_level0_col3\" class=\"col_heading level0 col3\" >3</th>\n",
       "      <th id=\"T_563bf_level0_col4\" class=\"col_heading level0 col4\" >4</th>\n",
       "      <th id=\"T_563bf_level0_col5\" class=\"col_heading level0 col5\" >5</th>\n",
       "      <th id=\"T_563bf_level0_col6\" class=\"col_heading level0 col6\" >6</th>\n",
       "      <th id=\"T_563bf_level0_col7\" class=\"col_heading level0 col7\" >7</th>\n",
       "      <th id=\"T_563bf_level0_col8\" class=\"col_heading level0 col8\" >8</th>\n",
       "      <th id=\"T_563bf_level0_col9\" class=\"col_heading level0 col9\" >9</th>\n",
       "      <th id=\"T_563bf_level0_col10\" class=\"col_heading level0 col10\" >10</th>\n",
       "      <th id=\"T_563bf_level0_col11\" class=\"col_heading level0 col11\" >11</th>\n",
       "      <th id=\"T_563bf_level0_col12\" class=\"col_heading level0 col12\" >12</th>\n",
       "      <th id=\"T_563bf_level0_col13\" class=\"col_heading level0 col13\" >13</th>\n",
       "      <th id=\"T_563bf_level0_col14\" class=\"col_heading level0 col14\" >14</th>\n",
       "      <th id=\"T_563bf_level0_col15\" class=\"col_heading level0 col15\" >15</th>\n",
       "      <th id=\"T_563bf_level0_col16\" class=\"col_heading level0 col16\" >16</th>\n",
       "      <th id=\"T_563bf_level0_col17\" class=\"col_heading level0 col17\" >17</th>\n",
       "      <th id=\"T_563bf_level0_col18\" class=\"col_heading level0 col18\" >19</th>\n",
       "    </tr>\n",
       "    <tr>\n",
       "      <th class=\"index_name level0\" >segment</th>\n",
       "      <th class=\"blank col0\" >&nbsp;</th>\n",
       "      <th class=\"blank col1\" >&nbsp;</th>\n",
       "      <th class=\"blank col2\" >&nbsp;</th>\n",
       "      <th class=\"blank col3\" >&nbsp;</th>\n",
       "      <th class=\"blank col4\" >&nbsp;</th>\n",
       "      <th class=\"blank col5\" >&nbsp;</th>\n",
       "      <th class=\"blank col6\" >&nbsp;</th>\n",
       "      <th class=\"blank col7\" >&nbsp;</th>\n",
       "      <th class=\"blank col8\" >&nbsp;</th>\n",
       "      <th class=\"blank col9\" >&nbsp;</th>\n",
       "      <th class=\"blank col10\" >&nbsp;</th>\n",
       "      <th class=\"blank col11\" >&nbsp;</th>\n",
       "      <th class=\"blank col12\" >&nbsp;</th>\n",
       "      <th class=\"blank col13\" >&nbsp;</th>\n",
       "      <th class=\"blank col14\" >&nbsp;</th>\n",
       "      <th class=\"blank col15\" >&nbsp;</th>\n",
       "      <th class=\"blank col16\" >&nbsp;</th>\n",
       "      <th class=\"blank col17\" >&nbsp;</th>\n",
       "      <th class=\"blank col18\" >&nbsp;</th>\n",
       "    </tr>\n",
       "  </thead>\n",
       "  <tbody>\n",
       "    <tr>\n",
       "      <th id=\"T_563bf_level0_row0\" class=\"row_heading level0 row0\" >2017-01</th>\n",
       "      <td id=\"T_563bf_row0_col0\" class=\"data row0 col0\" >100.00</td>\n",
       "      <td id=\"T_563bf_row0_col1\" class=\"data row0 col1\" >0.44</td>\n",
       "      <td id=\"T_563bf_row0_col2\" class=\"data row0 col2\" >0.29</td>\n",
       "      <td id=\"T_563bf_row0_col3\" class=\"data row0 col3\" >0.15</td>\n",
       "      <td id=\"T_563bf_row0_col4\" class=\"data row0 col4\" >0.44</td>\n",
       "      <td id=\"T_563bf_row0_col5\" class=\"data row0 col5\" >0.15</td>\n",
       "      <td id=\"T_563bf_row0_col6\" class=\"data row0 col6\" >0.44</td>\n",
       "      <td id=\"T_563bf_row0_col7\" class=\"data row0 col7\" >0.15</td>\n",
       "      <td id=\"T_563bf_row0_col8\" class=\"data row0 col8\" >0.15</td>\n",
       "      <td id=\"T_563bf_row0_col9\" class=\"data row0 col9\" >nan</td>\n",
       "      <td id=\"T_563bf_row0_col10\" class=\"data row0 col10\" >0.29</td>\n",
       "      <td id=\"T_563bf_row0_col11\" class=\"data row0 col11\" >0.29</td>\n",
       "      <td id=\"T_563bf_row0_col12\" class=\"data row0 col12\" >0.73</td>\n",
       "      <td id=\"T_563bf_row0_col13\" class=\"data row0 col13\" >0.44</td>\n",
       "      <td id=\"T_563bf_row0_col14\" class=\"data row0 col14\" >0.15</td>\n",
       "      <td id=\"T_563bf_row0_col15\" class=\"data row0 col15\" >0.15</td>\n",
       "      <td id=\"T_563bf_row0_col16\" class=\"data row0 col16\" >0.29</td>\n",
       "      <td id=\"T_563bf_row0_col17\" class=\"data row0 col17\" >0.44</td>\n",
       "      <td id=\"T_563bf_row0_col18\" class=\"data row0 col18\" >0.15</td>\n",
       "    </tr>\n",
       "    <tr>\n",
       "      <th id=\"T_563bf_level0_row1\" class=\"row_heading level0 row1\" >2017-02</th>\n",
       "      <td id=\"T_563bf_row1_col0\" class=\"data row1 col0\" >100.00</td>\n",
       "      <td id=\"T_563bf_row1_col1\" class=\"data row1 col1\" >0.19</td>\n",
       "      <td id=\"T_563bf_row1_col2\" class=\"data row1 col2\" >0.25</td>\n",
       "      <td id=\"T_563bf_row1_col3\" class=\"data row1 col3\" >0.19</td>\n",
       "      <td id=\"T_563bf_row1_col4\" class=\"data row1 col4\" >0.43</td>\n",
       "      <td id=\"T_563bf_row1_col5\" class=\"data row1 col5\" >0.12</td>\n",
       "      <td id=\"T_563bf_row1_col6\" class=\"data row1 col6\" >0.25</td>\n",
       "      <td id=\"T_563bf_row1_col7\" class=\"data row1 col7\" >0.19</td>\n",
       "      <td id=\"T_563bf_row1_col8\" class=\"data row1 col8\" >0.06</td>\n",
       "      <td id=\"T_563bf_row1_col9\" class=\"data row1 col9\" >0.19</td>\n",
       "      <td id=\"T_563bf_row1_col10\" class=\"data row1 col10\" >0.12</td>\n",
       "      <td id=\"T_563bf_row1_col11\" class=\"data row1 col11\" >0.31</td>\n",
       "      <td id=\"T_563bf_row1_col12\" class=\"data row1 col12\" >0.12</td>\n",
       "      <td id=\"T_563bf_row1_col13\" class=\"data row1 col13\" >0.19</td>\n",
       "      <td id=\"T_563bf_row1_col14\" class=\"data row1 col14\" >0.12</td>\n",
       "      <td id=\"T_563bf_row1_col15\" class=\"data row1 col15\" >0.06</td>\n",
       "      <td id=\"T_563bf_row1_col16\" class=\"data row1 col16\" >0.06</td>\n",
       "      <td id=\"T_563bf_row1_col17\" class=\"data row1 col17\" >0.19</td>\n",
       "      <td id=\"T_563bf_row1_col18\" class=\"data row1 col18\" >nan</td>\n",
       "    </tr>\n",
       "    <tr>\n",
       "      <th id=\"T_563bf_level0_row2\" class=\"row_heading level0 row2\" >2017-03</th>\n",
       "      <td id=\"T_563bf_row2_col0\" class=\"data row2 col0\" >100.00</td>\n",
       "      <td id=\"T_563bf_row2_col1\" class=\"data row2 col1\" >0.44</td>\n",
       "      <td id=\"T_563bf_row2_col2\" class=\"data row2 col2\" >0.36</td>\n",
       "      <td id=\"T_563bf_row2_col3\" class=\"data row2 col3\" >0.36</td>\n",
       "      <td id=\"T_563bf_row2_col4\" class=\"data row2 col4\" >0.36</td>\n",
       "      <td id=\"T_563bf_row2_col5\" class=\"data row2 col5\" >0.16</td>\n",
       "      <td id=\"T_563bf_row2_col6\" class=\"data row2 col6\" >0.16</td>\n",
       "      <td id=\"T_563bf_row2_col7\" class=\"data row2 col7\" >0.32</td>\n",
       "      <td id=\"T_563bf_row2_col8\" class=\"data row2 col8\" >0.28</td>\n",
       "      <td id=\"T_563bf_row2_col9\" class=\"data row2 col9\" >0.12</td>\n",
       "      <td id=\"T_563bf_row2_col10\" class=\"data row2 col10\" >0.36</td>\n",
       "      <td id=\"T_563bf_row2_col11\" class=\"data row2 col11\" >0.12</td>\n",
       "      <td id=\"T_563bf_row2_col12\" class=\"data row2 col12\" >0.20</td>\n",
       "      <td id=\"T_563bf_row2_col13\" class=\"data row2 col13\" >0.12</td>\n",
       "      <td id=\"T_563bf_row2_col14\" class=\"data row2 col14\" >0.16</td>\n",
       "      <td id=\"T_563bf_row2_col15\" class=\"data row2 col15\" >0.24</td>\n",
       "      <td id=\"T_563bf_row2_col16\" class=\"data row2 col16\" >0.08</td>\n",
       "      <td id=\"T_563bf_row2_col17\" class=\"data row2 col17\" >0.12</td>\n",
       "      <td id=\"T_563bf_row2_col18\" class=\"data row2 col18\" >nan</td>\n",
       "    </tr>\n",
       "    <tr>\n",
       "      <th id=\"T_563bf_level0_row3\" class=\"row_heading level0 row3\" >2017-04</th>\n",
       "      <td id=\"T_563bf_row3_col0\" class=\"data row3 col0\" >100.00</td>\n",
       "      <td id=\"T_563bf_row3_col1\" class=\"data row3 col1\" >0.63</td>\n",
       "      <td id=\"T_563bf_row3_col2\" class=\"data row3 col2\" >0.22</td>\n",
       "      <td id=\"T_563bf_row3_col3\" class=\"data row3 col3\" >0.18</td>\n",
       "      <td id=\"T_563bf_row3_col4\" class=\"data row3 col4\" >0.22</td>\n",
       "      <td id=\"T_563bf_row3_col5\" class=\"data row3 col5\" >0.27</td>\n",
       "      <td id=\"T_563bf_row3_col6\" class=\"data row3 col6\" >0.36</td>\n",
       "      <td id=\"T_563bf_row3_col7\" class=\"data row3 col7\" >0.27</td>\n",
       "      <td id=\"T_563bf_row3_col8\" class=\"data row3 col8\" >0.36</td>\n",
       "      <td id=\"T_563bf_row3_col9\" class=\"data row3 col9\" >0.18</td>\n",
       "      <td id=\"T_563bf_row3_col10\" class=\"data row3 col10\" >0.22</td>\n",
       "      <td id=\"T_563bf_row3_col11\" class=\"data row3 col11\" >0.09</td>\n",
       "      <td id=\"T_563bf_row3_col12\" class=\"data row3 col12\" >0.04</td>\n",
       "      <td id=\"T_563bf_row3_col13\" class=\"data row3 col13\" >0.04</td>\n",
       "      <td id=\"T_563bf_row3_col14\" class=\"data row3 col14\" >0.09</td>\n",
       "      <td id=\"T_563bf_row3_col15\" class=\"data row3 col15\" >0.09</td>\n",
       "      <td id=\"T_563bf_row3_col16\" class=\"data row3 col16\" >0.13</td>\n",
       "      <td id=\"T_563bf_row3_col17\" class=\"data row3 col17\" >nan</td>\n",
       "      <td id=\"T_563bf_row3_col18\" class=\"data row3 col18\" >nan</td>\n",
       "    </tr>\n",
       "    <tr>\n",
       "      <th id=\"T_563bf_level0_row4\" class=\"row_heading level0 row4\" >2017-05</th>\n",
       "      <td id=\"T_563bf_row4_col0\" class=\"data row4 col0\" >100.00</td>\n",
       "      <td id=\"T_563bf_row4_col1\" class=\"data row4 col1\" >0.52</td>\n",
       "      <td id=\"T_563bf_row4_col2\" class=\"data row4 col2\" >0.46</td>\n",
       "      <td id=\"T_563bf_row4_col3\" class=\"data row4 col3\" >0.29</td>\n",
       "      <td id=\"T_563bf_row4_col4\" class=\"data row4 col4\" >0.29</td>\n",
       "      <td id=\"T_563bf_row4_col5\" class=\"data row4 col5\" >0.32</td>\n",
       "      <td id=\"T_563bf_row4_col6\" class=\"data row4 col6\" >0.41</td>\n",
       "      <td id=\"T_563bf_row4_col7\" class=\"data row4 col7\" >0.14</td>\n",
       "      <td id=\"T_563bf_row4_col8\" class=\"data row4 col8\" >0.26</td>\n",
       "      <td id=\"T_563bf_row4_col9\" class=\"data row4 col9\" >0.26</td>\n",
       "      <td id=\"T_563bf_row4_col10\" class=\"data row4 col10\" >0.29</td>\n",
       "      <td id=\"T_563bf_row4_col11\" class=\"data row4 col11\" >0.35</td>\n",
       "      <td id=\"T_563bf_row4_col12\" class=\"data row4 col12\" >0.17</td>\n",
       "      <td id=\"T_563bf_row4_col13\" class=\"data row4 col13\" >0.06</td>\n",
       "      <td id=\"T_563bf_row4_col14\" class=\"data row4 col14\" >0.17</td>\n",
       "      <td id=\"T_563bf_row4_col15\" class=\"data row4 col15\" >0.20</td>\n",
       "      <td id=\"T_563bf_row4_col16\" class=\"data row4 col16\" >nan</td>\n",
       "      <td id=\"T_563bf_row4_col17\" class=\"data row4 col17\" >nan</td>\n",
       "      <td id=\"T_563bf_row4_col18\" class=\"data row4 col18\" >nan</td>\n",
       "    </tr>\n",
       "    <tr>\n",
       "      <th id=\"T_563bf_level0_row5\" class=\"row_heading level0 row5\" >2017-06</th>\n",
       "      <td id=\"T_563bf_row5_col0\" class=\"data row5 col0\" >100.00</td>\n",
       "      <td id=\"T_563bf_row5_col1\" class=\"data row5 col1\" >0.49</td>\n",
       "      <td id=\"T_563bf_row5_col2\" class=\"data row5 col2\" >0.39</td>\n",
       "      <td id=\"T_563bf_row5_col3\" class=\"data row5 col3\" >0.43</td>\n",
       "      <td id=\"T_563bf_row5_col4\" class=\"data row5 col4\" >0.30</td>\n",
       "      <td id=\"T_563bf_row5_col5\" class=\"data row5 col5\" >0.36</td>\n",
       "      <td id=\"T_563bf_row5_col6\" class=\"data row5 col6\" >0.36</td>\n",
       "      <td id=\"T_563bf_row5_col7\" class=\"data row5 col7\" >0.23</td>\n",
       "      <td id=\"T_563bf_row5_col8\" class=\"data row5 col8\" >0.13</td>\n",
       "      <td id=\"T_563bf_row5_col9\" class=\"data row5 col9\" >0.20</td>\n",
       "      <td id=\"T_563bf_row5_col10\" class=\"data row5 col10\" >0.30</td>\n",
       "      <td id=\"T_563bf_row5_col11\" class=\"data row5 col11\" >0.39</td>\n",
       "      <td id=\"T_563bf_row5_col12\" class=\"data row5 col12\" >0.16</td>\n",
       "      <td id=\"T_563bf_row5_col13\" class=\"data row5 col13\" >0.16</td>\n",
       "      <td id=\"T_563bf_row5_col14\" class=\"data row5 col14\" >0.23</td>\n",
       "      <td id=\"T_563bf_row5_col15\" class=\"data row5 col15\" >nan</td>\n",
       "      <td id=\"T_563bf_row5_col16\" class=\"data row5 col16\" >nan</td>\n",
       "      <td id=\"T_563bf_row5_col17\" class=\"data row5 col17\" >nan</td>\n",
       "      <td id=\"T_563bf_row5_col18\" class=\"data row5 col18\" >nan</td>\n",
       "    </tr>\n",
       "    <tr>\n",
       "      <th id=\"T_563bf_level0_row6\" class=\"row_heading level0 row6\" >2017-07</th>\n",
       "      <td id=\"T_563bf_row6_col0\" class=\"data row6 col0\" >100.00</td>\n",
       "      <td id=\"T_563bf_row6_col1\" class=\"data row6 col1\" >0.54</td>\n",
       "      <td id=\"T_563bf_row6_col2\" class=\"data row6 col2\" >0.32</td>\n",
       "      <td id=\"T_563bf_row6_col3\" class=\"data row6 col3\" >0.19</td>\n",
       "      <td id=\"T_563bf_row6_col4\" class=\"data row6 col4\" >0.35</td>\n",
       "      <td id=\"T_563bf_row6_col5\" class=\"data row6 col5\" >0.19</td>\n",
       "      <td id=\"T_563bf_row6_col6\" class=\"data row6 col6\" >0.32</td>\n",
       "      <td id=\"T_563bf_row6_col7\" class=\"data row6 col7\" >0.11</td>\n",
       "      <td id=\"T_563bf_row6_col8\" class=\"data row6 col8\" >0.19</td>\n",
       "      <td id=\"T_563bf_row6_col9\" class=\"data row6 col9\" >0.24</td>\n",
       "      <td id=\"T_563bf_row6_col10\" class=\"data row6 col10\" >0.22</td>\n",
       "      <td id=\"T_563bf_row6_col11\" class=\"data row6 col11\" >0.30</td>\n",
       "      <td id=\"T_563bf_row6_col12\" class=\"data row6 col12\" >0.13</td>\n",
       "      <td id=\"T_563bf_row6_col13\" class=\"data row6 col13\" >0.24</td>\n",
       "      <td id=\"T_563bf_row6_col14\" class=\"data row6 col14\" >nan</td>\n",
       "      <td id=\"T_563bf_row6_col15\" class=\"data row6 col15\" >nan</td>\n",
       "      <td id=\"T_563bf_row6_col16\" class=\"data row6 col16\" >nan</td>\n",
       "      <td id=\"T_563bf_row6_col17\" class=\"data row6 col17\" >nan</td>\n",
       "      <td id=\"T_563bf_row6_col18\" class=\"data row6 col18\" >nan</td>\n",
       "    </tr>\n",
       "    <tr>\n",
       "      <th id=\"T_563bf_level0_row7\" class=\"row_heading level0 row7\" >2017-08</th>\n",
       "      <td id=\"T_563bf_row7_col0\" class=\"data row7 col0\" >100.00</td>\n",
       "      <td id=\"T_563bf_row7_col1\" class=\"data row7 col1\" >0.69</td>\n",
       "      <td id=\"T_563bf_row7_col2\" class=\"data row7 col2\" >0.37</td>\n",
       "      <td id=\"T_563bf_row7_col3\" class=\"data row7 col3\" >0.27</td>\n",
       "      <td id=\"T_563bf_row7_col4\" class=\"data row7 col4\" >0.37</td>\n",
       "      <td id=\"T_563bf_row7_col5\" class=\"data row7 col5\" >0.51</td>\n",
       "      <td id=\"T_563bf_row7_col6\" class=\"data row7 col6\" >0.27</td>\n",
       "      <td id=\"T_563bf_row7_col7\" class=\"data row7 col7\" >0.27</td>\n",
       "      <td id=\"T_563bf_row7_col8\" class=\"data row7 col8\" >0.12</td>\n",
       "      <td id=\"T_563bf_row7_col9\" class=\"data row7 col9\" >0.17</td>\n",
       "      <td id=\"T_563bf_row7_col10\" class=\"data row7 col10\" >0.25</td>\n",
       "      <td id=\"T_563bf_row7_col11\" class=\"data row7 col11\" >0.17</td>\n",
       "      <td id=\"T_563bf_row7_col12\" class=\"data row7 col12\" >0.15</td>\n",
       "      <td id=\"T_563bf_row7_col13\" class=\"data row7 col13\" >nan</td>\n",
       "      <td id=\"T_563bf_row7_col14\" class=\"data row7 col14\" >nan</td>\n",
       "      <td id=\"T_563bf_row7_col15\" class=\"data row7 col15\" >nan</td>\n",
       "      <td id=\"T_563bf_row7_col16\" class=\"data row7 col16\" >nan</td>\n",
       "      <td id=\"T_563bf_row7_col17\" class=\"data row7 col17\" >nan</td>\n",
       "      <td id=\"T_563bf_row7_col18\" class=\"data row7 col18\" >nan</td>\n",
       "    </tr>\n",
       "    <tr>\n",
       "      <th id=\"T_563bf_level0_row8\" class=\"row_heading level0 row8\" >2017-09</th>\n",
       "      <td id=\"T_563bf_row8_col0\" class=\"data row8 col0\" >100.00</td>\n",
       "      <td id=\"T_563bf_row8_col1\" class=\"data row8 col1\" >0.67</td>\n",
       "      <td id=\"T_563bf_row8_col2\" class=\"data row8 col2\" >0.50</td>\n",
       "      <td id=\"T_563bf_row8_col3\" class=\"data row8 col3\" >0.32</td>\n",
       "      <td id=\"T_563bf_row8_col4\" class=\"data row8 col4\" >0.42</td>\n",
       "      <td id=\"T_563bf_row8_col5\" class=\"data row8 col5\" >0.27</td>\n",
       "      <td id=\"T_563bf_row8_col6\" class=\"data row8 col6\" >0.22</td>\n",
       "      <td id=\"T_563bf_row8_col7\" class=\"data row8 col7\" >0.22</td>\n",
       "      <td id=\"T_563bf_row8_col8\" class=\"data row8 col8\" >0.30</td>\n",
       "      <td id=\"T_563bf_row8_col9\" class=\"data row8 col9\" >0.17</td>\n",
       "      <td id=\"T_563bf_row8_col10\" class=\"data row8 col10\" >0.25</td>\n",
       "      <td id=\"T_563bf_row8_col11\" class=\"data row8 col11\" >0.07</td>\n",
       "      <td id=\"T_563bf_row8_col12\" class=\"data row8 col12\" >nan</td>\n",
       "      <td id=\"T_563bf_row8_col13\" class=\"data row8 col13\" >nan</td>\n",
       "      <td id=\"T_563bf_row8_col14\" class=\"data row8 col14\" >nan</td>\n",
       "      <td id=\"T_563bf_row8_col15\" class=\"data row8 col15\" >nan</td>\n",
       "      <td id=\"T_563bf_row8_col16\" class=\"data row8 col16\" >nan</td>\n",
       "      <td id=\"T_563bf_row8_col17\" class=\"data row8 col17\" >nan</td>\n",
       "      <td id=\"T_563bf_row8_col18\" class=\"data row8 col18\" >nan</td>\n",
       "    </tr>\n",
       "    <tr>\n",
       "      <th id=\"T_563bf_level0_row9\" class=\"row_heading level0 row9\" >2017-10</th>\n",
       "      <td id=\"T_563bf_row9_col0\" class=\"data row9 col0\" >100.00</td>\n",
       "      <td id=\"T_563bf_row9_col1\" class=\"data row9 col1\" >0.70</td>\n",
       "      <td id=\"T_563bf_row9_col2\" class=\"data row9 col2\" >0.30</td>\n",
       "      <td id=\"T_563bf_row9_col3\" class=\"data row9 col3\" >0.09</td>\n",
       "      <td id=\"T_563bf_row9_col4\" class=\"data row9 col4\" >0.23</td>\n",
       "      <td id=\"T_563bf_row9_col5\" class=\"data row9 col5\" >0.19</td>\n",
       "      <td id=\"T_563bf_row9_col6\" class=\"data row9 col6\" >0.26</td>\n",
       "      <td id=\"T_563bf_row9_col7\" class=\"data row9 col7\" >0.37</td>\n",
       "      <td id=\"T_563bf_row9_col8\" class=\"data row9 col8\" >0.28</td>\n",
       "      <td id=\"T_563bf_row9_col9\" class=\"data row9 col9\" >0.19</td>\n",
       "      <td id=\"T_563bf_row9_col10\" class=\"data row9 col10\" >0.21</td>\n",
       "      <td id=\"T_563bf_row9_col11\" class=\"data row9 col11\" >nan</td>\n",
       "      <td id=\"T_563bf_row9_col12\" class=\"data row9 col12\" >nan</td>\n",
       "      <td id=\"T_563bf_row9_col13\" class=\"data row9 col13\" >nan</td>\n",
       "      <td id=\"T_563bf_row9_col14\" class=\"data row9 col14\" >nan</td>\n",
       "      <td id=\"T_563bf_row9_col15\" class=\"data row9 col15\" >nan</td>\n",
       "      <td id=\"T_563bf_row9_col16\" class=\"data row9 col16\" >nan</td>\n",
       "      <td id=\"T_563bf_row9_col17\" class=\"data row9 col17\" >nan</td>\n",
       "      <td id=\"T_563bf_row9_col18\" class=\"data row9 col18\" >nan</td>\n",
       "    </tr>\n",
       "    <tr>\n",
       "      <th id=\"T_563bf_level0_row10\" class=\"row_heading level0 row10\" >2017-11</th>\n",
       "      <td id=\"T_563bf_row10_col0\" class=\"data row10 col0\" >100.00</td>\n",
       "      <td id=\"T_563bf_row10_col1\" class=\"data row10 col1\" >0.56</td>\n",
       "      <td id=\"T_563bf_row10_col2\" class=\"data row10 col2\" >0.36</td>\n",
       "      <td id=\"T_563bf_row10_col3\" class=\"data row10 col3\" >0.16</td>\n",
       "      <td id=\"T_563bf_row10_col4\" class=\"data row10 col4\" >0.17</td>\n",
       "      <td id=\"T_563bf_row10_col5\" class=\"data row10 col5\" >0.16</td>\n",
       "      <td id=\"T_563bf_row10_col6\" class=\"data row10 col6\" >0.13</td>\n",
       "      <td id=\"T_563bf_row10_col7\" class=\"data row10 col7\" >0.19</td>\n",
       "      <td id=\"T_563bf_row10_col8\" class=\"data row10 col8\" >0.12</td>\n",
       "      <td id=\"T_563bf_row10_col9\" class=\"data row10 col9\" >0.07</td>\n",
       "      <td id=\"T_563bf_row10_col10\" class=\"data row10 col10\" >nan</td>\n",
       "      <td id=\"T_563bf_row10_col11\" class=\"data row10 col11\" >nan</td>\n",
       "      <td id=\"T_563bf_row10_col12\" class=\"data row10 col12\" >nan</td>\n",
       "      <td id=\"T_563bf_row10_col13\" class=\"data row10 col13\" >nan</td>\n",
       "      <td id=\"T_563bf_row10_col14\" class=\"data row10 col14\" >nan</td>\n",
       "      <td id=\"T_563bf_row10_col15\" class=\"data row10 col15\" >nan</td>\n",
       "      <td id=\"T_563bf_row10_col16\" class=\"data row10 col16\" >nan</td>\n",
       "      <td id=\"T_563bf_row10_col17\" class=\"data row10 col17\" >nan</td>\n",
       "      <td id=\"T_563bf_row10_col18\" class=\"data row10 col18\" >nan</td>\n",
       "    </tr>\n",
       "    <tr>\n",
       "      <th id=\"T_563bf_level0_row11\" class=\"row_heading level0 row11\" >2017-12</th>\n",
       "      <td id=\"T_563bf_row11_col0\" class=\"data row11 col0\" >100.00</td>\n",
       "      <td id=\"T_563bf_row11_col1\" class=\"data row11 col1\" >0.22</td>\n",
       "      <td id=\"T_563bf_row11_col2\" class=\"data row11 col2\" >0.27</td>\n",
       "      <td id=\"T_563bf_row11_col3\" class=\"data row11 col3\" >0.31</td>\n",
       "      <td id=\"T_563bf_row11_col4\" class=\"data row11 col4\" >0.24</td>\n",
       "      <td id=\"T_563bf_row11_col5\" class=\"data row11 col5\" >0.20</td>\n",
       "      <td id=\"T_563bf_row11_col6\" class=\"data row11 col6\" >0.16</td>\n",
       "      <td id=\"T_563bf_row11_col7\" class=\"data row11 col7\" >0.02</td>\n",
       "      <td id=\"T_563bf_row11_col8\" class=\"data row11 col8\" >0.18</td>\n",
       "      <td id=\"T_563bf_row11_col9\" class=\"data row11 col9\" >nan</td>\n",
       "      <td id=\"T_563bf_row11_col10\" class=\"data row11 col10\" >nan</td>\n",
       "      <td id=\"T_563bf_row11_col11\" class=\"data row11 col11\" >nan</td>\n",
       "      <td id=\"T_563bf_row11_col12\" class=\"data row11 col12\" >nan</td>\n",
       "      <td id=\"T_563bf_row11_col13\" class=\"data row11 col13\" >nan</td>\n",
       "      <td id=\"T_563bf_row11_col14\" class=\"data row11 col14\" >nan</td>\n",
       "      <td id=\"T_563bf_row11_col15\" class=\"data row11 col15\" >nan</td>\n",
       "      <td id=\"T_563bf_row11_col16\" class=\"data row11 col16\" >nan</td>\n",
       "      <td id=\"T_563bf_row11_col17\" class=\"data row11 col17\" >nan</td>\n",
       "      <td id=\"T_563bf_row11_col18\" class=\"data row11 col18\" >nan</td>\n",
       "    </tr>\n",
       "  </tbody>\n",
       "</table>\n"
      ],
      "text/plain": [
       "<pandas.io.formats.style.Styler at 0x221eaf9af50>"
      ]
     },
     "execution_count": 108,
     "metadata": {},
     "output_type": "execute_result"
    }
   ],
   "source": [
    "# Когорты\n",
    "cohorts_df = (\n",
    "    purchases_filtered_df\n",
    "    .groupby(['segment', 'month'], as_index=False)\n",
    "    .customer_unique_id.nunique()\n",
    "    .rename(columns={'customer_unique_id': 'customers'})\n",
    ")\n",
    "# Уникальные клиенты в сегментообразующий месяц\n",
    "month_0_customers = (\n",
    "    cohorts_df\n",
    "    .groupby(['segment'], as_index=False)\n",
    "    .customers.max()\n",
    "    .rename(columns={'customers': 'month_0_customers'})\n",
    ")\n",
    "# df для расчёта retention\n",
    "retention_df = (\n",
    "    cohorts_df\n",
    "    .merge(month_0_customers, on='segment')\n",
    ")\n",
    "# Расчёт retention\n",
    "retention_df = retention_df.assign(\n",
    "    retention=(\n",
    "        retention_df.customers / retention_df.month_0_customers\n",
    "        * 100\n",
    "    )\n",
    ")\n",
    "# Сводная таблица\n",
    "retention_df = (\n",
    "    retention_df\n",
    "    .pivot(index='segment', columns='month', values='retention')\n",
    ")\n",
    "# heatmap\n",
    "cm = sns.color_palette(\"magma\", as_cmap=True)\n",
    "(\n",
    "    retention_df\n",
    "    .style\n",
    "    .background_gradient(\n",
    "        cmap=cm,\n",
    "        axis=None,\n",
    "        vmax=retention_df[1].max()\n",
    "    )\n",
    "    .format('{:.2f}')\n",
    "    .applymap(lambda x: 'color: transparent' if pd.isnull(x) else '')\n",
    "    .highlight_null('white')\n",
    ")"
   ]
  },
  {
   "cell_type": "code",
   "execution_count": 109,
   "metadata": {},
   "outputs": [
    {
     "data": {
      "image/png": "[encoded data removed]",
      "text/plain": [
       "<Figure size 1000x600 with 1 Axes>"
      ]
     },
     "metadata": {},
     "output_type": "display_data"
    }
   ],
   "source": [
    "retention_df[3].plot();"
   ]
  },
  {
   "cell_type": "markdown",
   "metadata": {},
   "source": [
    "Выводы:\n",
    "- Общая динамика retention с течением времени в заметной степени не наблюдается\n",
    "- В целом retention довольно низкий (=> пользователи очень редко возвращаются, что было заметно и ранее)"
   ]
  },
  {
   "cell_type": "markdown",
   "metadata": {},
   "source": [
    "_Топ retention по 3му месяцу_"
   ]
  },
  {
   "cell_type": "code",
   "execution_count": 110,
   "metadata": {},
   "outputs": [
    {
     "data": {
      "text/plain": [
       "segment\n",
       "2017-06    0.427070\n",
       "2017-03    0.358423\n",
       "2017-09    0.322981\n",
       "2017-12    0.309654\n",
       "2017-05    0.289603\n",
       "2017-08    0.269542\n",
       "2017-07    0.188730\n",
       "2017-02    0.186104\n",
       "2017-04    0.179211\n",
       "2017-11    0.158799\n",
       "2017-01    0.146413\n",
       "2017-10    0.093153\n",
       "Freq: M, Name: 3, dtype: float64"
      ]
     },
     "execution_count": 110,
     "metadata": {},
     "output_type": "execute_result"
    }
   ],
   "source": [
    "retention_df[3].sort_values(ascending=False)"
   ]
  },
  {
   "cell_type": "markdown",
   "metadata": {},
   "source": [
    "#### Ответ: когорта (за 2017г.) с самым высоким retention на 3й месяц - пользователи, осуществившие первую покупку в июне 2017"
   ]
  },
  {
   "cell_type": "markdown",
   "metadata": {},
   "source": [
    "--------------------------"
   ]
  },
  {
   "cell_type": "markdown",
   "metadata": {},
   "source": [
    "### 6) Качественно оценить аудиторию. Построить RFM-сегментацию пользователей.\n",
    "Метрики кластеризации:\n",
    "- R - время от последней покупки пользователя до текущей даты,\n",
    "- F - суммарное количество покупок у пользователя за всё время, \n",
    "- M - сумма покупок за всё время.\n",
    "\n",
    "Подробно описать процесс создания кластеров\\\n",
    "Для каждого RFM-сегмента построить границы метрик recency, frequency и monetary для интерпретации этих кластеров"
   ]
  },
  {
   "cell_type": "markdown",
   "metadata": {},
   "source": [
    "Единица покупки - заказ\n",
    "\n",
    "\n",
    "ДФ с покупками и пользователями"
   ]
  },
  {
   "cell_type": "code",
   "execution_count": 111,
   "metadata": {
    "scrolled": true
   },
   "outputs": [
    {
     "data": {
      "text/html": [
       "<div>\n",
       "<style scoped>\n",
       "    .dataframe tbody tr th:only-of-type {\n",
       "        vertical-align: middle;\n",
       "    }\n",
       "\n",
       "    .dataframe tbody tr th {\n",
       "        vertical-align: top;\n",
       "    }\n",
       "\n",
       "    .dataframe thead th {\n",
       "        text-align: right;\n",
       "    }\n",
       "</style>\n",
       "<table border=\"1\" class=\"dataframe\">\n",
       "  <thead>\n",
       "    <tr style=\"text-align: right;\">\n",
       "      <th></th>\n",
       "      <th>customer_id</th>\n",
       "      <th>customer_unique_id</th>\n",
       "      <th>order_id</th>\n",
       "      <th>order_status</th>\n",
       "      <th>order_approved_at</th>\n",
       "    </tr>\n",
       "  </thead>\n",
       "  <tbody>\n",
       "    <tr>\n",
       "      <th>0</th>\n",
       "      <td>06b8999e2fba1a1fbc88172c00ba8bc7</td>\n",
       "      <td>861eff4711a542e4b93843c6dd7febb0</td>\n",
       "      <td>00e7ee1b050b8499577073aeb2a297a1</td>\n",
       "      <td>delivered</td>\n",
       "      <td>2017-05-16 15:22:12</td>\n",
       "    </tr>\n",
       "    <tr>\n",
       "      <th>1</th>\n",
       "      <td>18955e83d337fd6b2def6b18a428ac77</td>\n",
       "      <td>290c77bc529b7ac935b93aa66c333dc3</td>\n",
       "      <td>29150127e6685892b6eab3eec79f59c7</td>\n",
       "      <td>delivered</td>\n",
       "      <td>2018-01-12 20:58:32</td>\n",
       "    </tr>\n",
       "    <tr>\n",
       "      <th>2</th>\n",
       "      <td>4e7b3e00288586ebd08712fdd0374a03</td>\n",
       "      <td>060e732b5b29e8181a18229c7b0b2b5e</td>\n",
       "      <td>b2059ed67ce144a36e2aa97d2c9e9ad2</td>\n",
       "      <td>delivered</td>\n",
       "      <td>2018-05-20 16:19:10</td>\n",
       "    </tr>\n",
       "  </tbody>\n",
       "</table>\n",
       "</div>"
      ],
      "text/plain": [
       "                        customer_id                customer_unique_id  \\\n",
       "0  06b8999e2fba1a1fbc88172c00ba8bc7  861eff4711a542e4b93843c6dd7febb0   \n",
       "1  18955e83d337fd6b2def6b18a428ac77  290c77bc529b7ac935b93aa66c333dc3   \n",
       "2  4e7b3e00288586ebd08712fdd0374a03  060e732b5b29e8181a18229c7b0b2b5e   \n",
       "\n",
       "                           order_id order_status   order_approved_at  \n",
       "0  00e7ee1b050b8499577073aeb2a297a1    delivered 2017-05-16 15:22:12  \n",
       "1  29150127e6685892b6eab3eec79f59c7    delivered 2018-01-12 20:58:32  \n",
       "2  b2059ed67ce144a36e2aa97d2c9e9ad2    delivered 2018-05-20 16:19:10  "
      ]
     },
     "execution_count": 111,
     "metadata": {},
     "output_type": "execute_result"
    }
   ],
   "source": [
    "customers_orders_df = pd.merge(\n",
    "    left=customers_df[['customer_id', 'customer_unique_id']],\n",
    "    right=orders_df[['customer_id', 'order_id', 'order_status', 'order_approved_at']],\n",
    "    on='customer_id'\n",
    ")\n",
    "customers_orders_df.head(3)"
   ]
  },
  {
   "cell_type": "code",
   "execution_count": 112,
   "metadata": {},
   "outputs": [
    {
     "data": {
      "text/plain": [
       "Index(['customer_id', 'customer_unique_id', 'order_id', 'order_status',\n",
       "       'order_approved_at', 'order_approved_at_month'],\n",
       "      dtype='object')"
      ]
     },
     "execution_count": 112,
     "metadata": {},
     "output_type": "execute_result"
    }
   ],
   "source": [
    "customers_orders_sx_df.columns"
   ]
  },
  {
   "cell_type": "markdown",
   "metadata": {},
   "source": [
    "Пользователи, совершившие успешную покупку (+ с известной датой покупки)"
   ]
  },
  {
   "cell_type": "code",
   "execution_count": 113,
   "metadata": {},
   "outputs": [
    {
     "data": {
      "text/html": [
       "<div>\n",
       "<style scoped>\n",
       "    .dataframe tbody tr th:only-of-type {\n",
       "        vertical-align: middle;\n",
       "    }\n",
       "\n",
       "    .dataframe tbody tr th {\n",
       "        vertical-align: top;\n",
       "    }\n",
       "\n",
       "    .dataframe thead th {\n",
       "        text-align: right;\n",
       "    }\n",
       "</style>\n",
       "<table border=\"1\" class=\"dataframe\">\n",
       "  <thead>\n",
       "    <tr style=\"text-align: right;\">\n",
       "      <th></th>\n",
       "      <th>customer_unique_id</th>\n",
       "      <th>order_id</th>\n",
       "      <th>order_approved_at</th>\n",
       "    </tr>\n",
       "  </thead>\n",
       "  <tbody>\n",
       "    <tr>\n",
       "      <th>0</th>\n",
       "      <td>861eff4711a542e4b93843c6dd7febb0</td>\n",
       "      <td>00e7ee1b050b8499577073aeb2a297a1</td>\n",
       "      <td>2017-05-16 15:22:12</td>\n",
       "    </tr>\n",
       "    <tr>\n",
       "      <th>1</th>\n",
       "      <td>290c77bc529b7ac935b93aa66c333dc3</td>\n",
       "      <td>29150127e6685892b6eab3eec79f59c7</td>\n",
       "      <td>2018-01-12 20:58:32</td>\n",
       "    </tr>\n",
       "    <tr>\n",
       "      <th>2</th>\n",
       "      <td>060e732b5b29e8181a18229c7b0b2b5e</td>\n",
       "      <td>b2059ed67ce144a36e2aa97d2c9e9ad2</td>\n",
       "      <td>2018-05-20 16:19:10</td>\n",
       "    </tr>\n",
       "  </tbody>\n",
       "</table>\n",
       "</div>"
      ],
      "text/plain": [
       "                 customer_unique_id                          order_id  \\\n",
       "0  861eff4711a542e4b93843c6dd7febb0  00e7ee1b050b8499577073aeb2a297a1   \n",
       "1  290c77bc529b7ac935b93aa66c333dc3  29150127e6685892b6eab3eec79f59c7   \n",
       "2  060e732b5b29e8181a18229c7b0b2b5e  b2059ed67ce144a36e2aa97d2c9e9ad2   \n",
       "\n",
       "    order_approved_at  \n",
       "0 2017-05-16 15:22:12  \n",
       "1 2018-01-12 20:58:32  \n",
       "2 2018-05-20 16:19:10  "
      ]
     },
     "execution_count": 113,
     "metadata": {},
     "output_type": "execute_result"
    }
   ],
   "source": [
    "customers_orders_sx_df = (\n",
    "    customers_orders_df\n",
    "    .query('order_status == \"delivered\" and order_approved_at != \"NaT\"')\n",
    "    )[['customer_unique_id', 'order_id', 'order_approved_at']]\n",
    "customers_orders_sx_df.head(3)"
   ]
  },
  {
   "cell_type": "markdown",
   "metadata": {},
   "source": [
    "Имеющийся временной диапазон"
   ]
  },
  {
   "cell_type": "code",
   "execution_count": 114,
   "metadata": {},
   "outputs": [
    {
     "name": "stdout",
     "output_type": "stream",
     "text": [
      "(Timestamp('2016-09-15 12:16:38'), Timestamp('2018-08-29 15:10:26'))\n"
     ]
    }
   ],
   "source": [
    "min_month = customers_orders_sx_df.order_approved_at.min()\n",
    "max_month = customers_orders_sx_df.order_approved_at.max()\n",
    "print((min_month, max_month))"
   ]
  },
  {
   "cell_type": "markdown",
   "metadata": {},
   "source": [
    "#### Допущения для проведения RFM-сегментации\n",
    "- Предполагается, что данные на момент исследования актуальны, за текущую дату принимается следующий день после последнего заказа\n",
    "- Временной период для анализа выбран стандартный (1 год)"
   ]
  },
  {
   "cell_type": "markdown",
   "metadata": {},
   "source": [
    "*При этом изначальная применимость RFM-сегментации вызывает сомнения - в силу низкой регулярности покупок пользователями"
   ]
  },
  {
   "cell_type": "markdown",
   "metadata": {},
   "source": [
    "Предполагаемая дата исследования"
   ]
  },
  {
   "cell_type": "code",
   "execution_count": 115,
   "metadata": {},
   "outputs": [
    {
     "data": {
      "text/plain": [
       "Timestamp('2018-08-30 15:10:26')"
      ]
     },
     "execution_count": 115,
     "metadata": {},
     "output_type": "execute_result"
    }
   ],
   "source": [
    "NOW = customers_orders_sx_df['order_approved_at'].max() + pd.Timedelta(days=1)\n",
    "NOW"
   ]
  },
  {
   "cell_type": "markdown",
   "metadata": {},
   "source": [
    "Временной период исследования"
   ]
  },
  {
   "cell_type": "code",
   "execution_count": 116,
   "metadata": {},
   "outputs": [
    {
     "data": {
      "text/plain": [
       "Timedelta('365 days 00:00:00')"
      ]
     },
     "execution_count": 116,
     "metadata": {},
     "output_type": "execute_result"
    }
   ],
   "source": [
    "period = 365 * 1\n",
    "period = pd.Timedelta(days=round(period))\n",
    "period"
   ]
  },
  {
   "cell_type": "markdown",
   "metadata": {},
   "source": [
    "_Фильтрация данных по заданному временному отрезку_"
   ]
  },
  {
   "cell_type": "code",
   "execution_count": 117,
   "metadata": {},
   "outputs": [
    {
     "data": {
      "text/html": [
       "<div>\n",
       "<style scoped>\n",
       "    .dataframe tbody tr th:only-of-type {\n",
       "        vertical-align: middle;\n",
       "    }\n",
       "\n",
       "    .dataframe tbody tr th {\n",
       "        vertical-align: top;\n",
       "    }\n",
       "\n",
       "    .dataframe thead th {\n",
       "        text-align: right;\n",
       "    }\n",
       "</style>\n",
       "<table border=\"1\" class=\"dataframe\">\n",
       "  <thead>\n",
       "    <tr style=\"text-align: right;\">\n",
       "      <th></th>\n",
       "      <th>customer_unique_id</th>\n",
       "      <th>order_id</th>\n",
       "      <th>order_approved_at</th>\n",
       "    </tr>\n",
       "  </thead>\n",
       "  <tbody>\n",
       "    <tr>\n",
       "      <th>1</th>\n",
       "      <td>290c77bc529b7ac935b93aa66c333dc3</td>\n",
       "      <td>29150127e6685892b6eab3eec79f59c7</td>\n",
       "      <td>2018-01-12 20:58:32</td>\n",
       "    </tr>\n",
       "    <tr>\n",
       "      <th>2</th>\n",
       "      <td>060e732b5b29e8181a18229c7b0b2b5e</td>\n",
       "      <td>b2059ed67ce144a36e2aa97d2c9e9ad2</td>\n",
       "      <td>2018-05-20 16:19:10</td>\n",
       "    </tr>\n",
       "    <tr>\n",
       "      <th>3</th>\n",
       "      <td>259dac757896d24d7702b9acbbff3f3c</td>\n",
       "      <td>951670f92359f4fe4a63112aa7306eba</td>\n",
       "      <td>2018-03-13 17:29:19</td>\n",
       "    </tr>\n",
       "  </tbody>\n",
       "</table>\n",
       "</div>"
      ],
      "text/plain": [
       "                 customer_unique_id                          order_id  \\\n",
       "1  290c77bc529b7ac935b93aa66c333dc3  29150127e6685892b6eab3eec79f59c7   \n",
       "2  060e732b5b29e8181a18229c7b0b2b5e  b2059ed67ce144a36e2aa97d2c9e9ad2   \n",
       "3  259dac757896d24d7702b9acbbff3f3c  951670f92359f4fe4a63112aa7306eba   \n",
       "\n",
       "    order_approved_at  \n",
       "1 2018-01-12 20:58:32  \n",
       "2 2018-05-20 16:19:10  \n",
       "3 2018-03-13 17:29:19  "
      ]
     },
     "execution_count": 117,
     "metadata": {},
     "output_type": "execute_result"
    }
   ],
   "source": [
    "customers_orders_sx_df = (\n",
    "    customers_orders_sx_df[customers_orders_sx_df.order_approved_at >= (NOW - period)]\n",
    ")\n",
    "customers_orders_sx_df.head(3)"
   ]
  },
  {
   "cell_type": "markdown",
   "metadata": {},
   "source": [
    "Проверка. Новый временной диапазон"
   ]
  },
  {
   "cell_type": "code",
   "execution_count": 118,
   "metadata": {},
   "outputs": [
    {
     "name": "stdout",
     "output_type": "stream",
     "text": [
      "(Timestamp('2017-08-30 15:15:25'), Timestamp('2018-08-29 15:10:26'))\n"
     ]
    }
   ],
   "source": [
    "min_month = customers_orders_sx_df.order_approved_at.min()\n",
    "max_month = customers_orders_sx_df.order_approved_at.max()\n",
    "print((min_month, max_month))"
   ]
  },
  {
   "cell_type": "code",
   "execution_count": 119,
   "metadata": {},
   "outputs": [
    {
     "data": {
      "text/plain": [
       "(74498, 3)"
      ]
     },
     "execution_count": 119,
     "metadata": {},
     "output_type": "execute_result"
    }
   ],
   "source": [
    "customers_orders_sx_df.shape"
   ]
  },
  {
   "cell_type": "markdown",
   "metadata": {},
   "source": [
    "_Детализация заказа по товарным позициям_"
   ]
  },
  {
   "cell_type": "code",
   "execution_count": 120,
   "metadata": {},
   "outputs": [
    {
     "data": {
      "text/plain": [
       "Index(['order_id', 'order_item_id', 'product_id', 'seller_id',\n",
       "       'shipping_limit_date', 'price', 'freight_value'],\n",
       "      dtype='object')"
      ]
     },
     "execution_count": 120,
     "metadata": {},
     "output_type": "execute_result"
    }
   ],
   "source": [
    "items_df.columns"
   ]
  },
  {
   "cell_type": "code",
   "execution_count": 121,
   "metadata": {},
   "outputs": [
    {
     "data": {
      "text/html": [
       "<div>\n",
       "<style scoped>\n",
       "    .dataframe tbody tr th:only-of-type {\n",
       "        vertical-align: middle;\n",
       "    }\n",
       "\n",
       "    .dataframe tbody tr th {\n",
       "        vertical-align: top;\n",
       "    }\n",
       "\n",
       "    .dataframe thead th {\n",
       "        text-align: right;\n",
       "    }\n",
       "</style>\n",
       "<table border=\"1\" class=\"dataframe\">\n",
       "  <thead>\n",
       "    <tr style=\"text-align: right;\">\n",
       "      <th></th>\n",
       "      <th>customer_unique_id</th>\n",
       "      <th>order_id</th>\n",
       "      <th>order_approved_at</th>\n",
       "      <th>product_id</th>\n",
       "      <th>price</th>\n",
       "    </tr>\n",
       "  </thead>\n",
       "  <tbody>\n",
       "    <tr>\n",
       "      <th>0</th>\n",
       "      <td>290c77bc529b7ac935b93aa66c333dc3</td>\n",
       "      <td>29150127e6685892b6eab3eec79f59c7</td>\n",
       "      <td>2018-01-12 20:58:32</td>\n",
       "      <td>4aa6014eceb682077f9dc4bffebc05b0</td>\n",
       "      <td>289.00</td>\n",
       "    </tr>\n",
       "    <tr>\n",
       "      <th>1</th>\n",
       "      <td>060e732b5b29e8181a18229c7b0b2b5e</td>\n",
       "      <td>b2059ed67ce144a36e2aa97d2c9e9ad2</td>\n",
       "      <td>2018-05-20 16:19:10</td>\n",
       "      <td>bd07b66896d6f1494f5b86251848ced7</td>\n",
       "      <td>139.94</td>\n",
       "    </tr>\n",
       "    <tr>\n",
       "      <th>2</th>\n",
       "      <td>259dac757896d24d7702b9acbbff3f3c</td>\n",
       "      <td>951670f92359f4fe4a63112aa7306eba</td>\n",
       "      <td>2018-03-13 17:29:19</td>\n",
       "      <td>a5647c44af977b148e0a3a4751a09e2e</td>\n",
       "      <td>149.94</td>\n",
       "    </tr>\n",
       "  </tbody>\n",
       "</table>\n",
       "</div>"
      ],
      "text/plain": [
       "                 customer_unique_id                          order_id  \\\n",
       "0  290c77bc529b7ac935b93aa66c333dc3  29150127e6685892b6eab3eec79f59c7   \n",
       "1  060e732b5b29e8181a18229c7b0b2b5e  b2059ed67ce144a36e2aa97d2c9e9ad2   \n",
       "2  259dac757896d24d7702b9acbbff3f3c  951670f92359f4fe4a63112aa7306eba   \n",
       "\n",
       "    order_approved_at                        product_id   price  \n",
       "0 2018-01-12 20:58:32  4aa6014eceb682077f9dc4bffebc05b0  289.00  \n",
       "1 2018-05-20 16:19:10  bd07b66896d6f1494f5b86251848ced7  139.94  \n",
       "2 2018-03-13 17:29:19  a5647c44af977b148e0a3a4751a09e2e  149.94  "
      ]
     },
     "execution_count": 121,
     "metadata": {},
     "output_type": "execute_result"
    }
   ],
   "source": [
    "coi_sx_df = customers_orders_sx_df.merge(items_df[['order_id', 'product_id', 'price']], on='order_id', how='left')\n",
    "coi_sx_df.head(3)"
   ]
  },
  {
   "cell_type": "code",
   "execution_count": 122,
   "metadata": {},
   "outputs": [
    {
     "data": {
      "text/plain": [
       "(85262, 5)"
      ]
     },
     "execution_count": 122,
     "metadata": {},
     "output_type": "execute_result"
    }
   ],
   "source": [
    "coi_sx_df.shape"
   ]
  },
  {
   "cell_type": "code",
   "execution_count": 123,
   "metadata": {},
   "outputs": [
    {
     "data": {
      "text/plain": [
       "0"
      ]
     },
     "execution_count": 123,
     "metadata": {},
     "output_type": "execute_result"
    }
   ],
   "source": [
    "coi_sx_df.price.isna().sum()"
   ]
  },
  {
   "cell_type": "markdown",
   "metadata": {},
   "source": [
    "=> для всех заказов нашлось соответствие по товарным позициям"
   ]
  },
  {
   "cell_type": "markdown",
   "metadata": {},
   "source": [
    "_Расчёт стоимости заказа из предположения, что каждый товар продаётся в единичном экземпляре_"
   ]
  },
  {
   "cell_type": "code",
   "execution_count": 124,
   "metadata": {},
   "outputs": [
    {
     "data": {
      "text/html": [
       "<div>\n",
       "<style scoped>\n",
       "    .dataframe tbody tr th:only-of-type {\n",
       "        vertical-align: middle;\n",
       "    }\n",
       "\n",
       "    .dataframe tbody tr th {\n",
       "        vertical-align: top;\n",
       "    }\n",
       "\n",
       "    .dataframe thead th {\n",
       "        text-align: right;\n",
       "    }\n",
       "</style>\n",
       "<table border=\"1\" class=\"dataframe\">\n",
       "  <thead>\n",
       "    <tr style=\"text-align: right;\">\n",
       "      <th></th>\n",
       "      <th>customer_unique_id</th>\n",
       "      <th>order_id</th>\n",
       "      <th>price</th>\n",
       "      <th>order_approved_at</th>\n",
       "    </tr>\n",
       "  </thead>\n",
       "  <tbody>\n",
       "    <tr>\n",
       "      <th>0</th>\n",
       "      <td>0000366f3b9a7992bf8c76cfdf3221e2</td>\n",
       "      <td>e22acc9c116caa3f2b7121bbb380d08e</td>\n",
       "      <td>129.90</td>\n",
       "      <td>2018-05-10 11:11:18</td>\n",
       "    </tr>\n",
       "    <tr>\n",
       "      <th>1</th>\n",
       "      <td>0000b849f77a49e4a4ce2b2a4ca5be3f</td>\n",
       "      <td>3594e05a005ac4d06a72673270ef9ec9</td>\n",
       "      <td>18.90</td>\n",
       "      <td>2018-05-07 18:25:44</td>\n",
       "    </tr>\n",
       "    <tr>\n",
       "      <th>2</th>\n",
       "      <td>0000f6ccb0745a6a4b88665a16c9f078</td>\n",
       "      <td>41272756ecddd9a9ed0180413cc22fb6</td>\n",
       "      <td>25.99</td>\n",
       "      <td>2017-10-12 20:49:17</td>\n",
       "    </tr>\n",
       "  </tbody>\n",
       "</table>\n",
       "</div>"
      ],
      "text/plain": [
       "                 customer_unique_id                          order_id   price  \\\n",
       "0  0000366f3b9a7992bf8c76cfdf3221e2  e22acc9c116caa3f2b7121bbb380d08e  129.90   \n",
       "1  0000b849f77a49e4a4ce2b2a4ca5be3f  3594e05a005ac4d06a72673270ef9ec9   18.90   \n",
       "2  0000f6ccb0745a6a4b88665a16c9f078  41272756ecddd9a9ed0180413cc22fb6   25.99   \n",
       "\n",
       "    order_approved_at  \n",
       "0 2018-05-10 11:11:18  \n",
       "1 2018-05-07 18:25:44  \n",
       "2 2017-10-12 20:49:17  "
      ]
     },
     "execution_count": 124,
     "metadata": {},
     "output_type": "execute_result"
    }
   ],
   "source": [
    "# Агрегационное выражение\n",
    "agg_exp = {\n",
    "    'price': 'sum',  # Сумма по товарным позициям для заказа\n",
    "    'order_approved_at': 'max'  # Выбор единственной даты (в любом случае для товарных позиций фиксированного заказа даты совпадают)\n",
    "}\n",
    "# Непосредственно расчёт\n",
    "coi_sx_df = coi_sx_df.groupby(['customer_unique_id', 'order_id'], as_index=False).agg(agg_exp)\n",
    "coi_sx_df.head(3)"
   ]
  },
  {
   "cell_type": "code",
   "execution_count": 125,
   "metadata": {},
   "outputs": [
    {
     "data": {
      "text/plain": [
       "(74498, 4)"
      ]
     },
     "execution_count": 125,
     "metadata": {},
     "output_type": "execute_result"
    }
   ],
   "source": [
    "coi_sx_df.shape"
   ]
  },
  {
   "cell_type": "markdown",
   "metadata": {},
   "source": [
    "Текущая дата"
   ]
  },
  {
   "cell_type": "code",
   "execution_count": 126,
   "metadata": {},
   "outputs": [
    {
     "data": {
      "text/plain": [
       "Timestamp('2018-08-30 15:10:26')"
      ]
     },
     "execution_count": 126,
     "metadata": {},
     "output_type": "execute_result"
    }
   ],
   "source": [
    "now = coi_sx_df['order_approved_at'].max() + pd.Timedelta(days=1)\n",
    "now"
   ]
  },
  {
   "cell_type": "markdown",
   "metadata": {},
   "source": [
    "df с колонками recency, frequency, monetary"
   ]
  },
  {
   "cell_type": "code",
   "execution_count": 127,
   "metadata": {},
   "outputs": [
    {
     "data": {
      "text/html": [
       "<div>\n",
       "<style scoped>\n",
       "    .dataframe tbody tr th:only-of-type {\n",
       "        vertical-align: middle;\n",
       "    }\n",
       "\n",
       "    .dataframe tbody tr th {\n",
       "        vertical-align: top;\n",
       "    }\n",
       "\n",
       "    .dataframe thead th {\n",
       "        text-align: right;\n",
       "    }\n",
       "</style>\n",
       "<table border=\"1\" class=\"dataframe\">\n",
       "  <thead>\n",
       "    <tr style=\"text-align: right;\">\n",
       "      <th></th>\n",
       "      <th>customer_unique_id</th>\n",
       "      <th>recency</th>\n",
       "      <th>frequency</th>\n",
       "      <th>monetary</th>\n",
       "    </tr>\n",
       "  </thead>\n",
       "  <tbody>\n",
       "    <tr>\n",
       "      <th>0</th>\n",
       "      <td>0000366f3b9a7992bf8c76cfdf3221e2</td>\n",
       "      <td>112</td>\n",
       "      <td>1</td>\n",
       "      <td>129.90</td>\n",
       "    </tr>\n",
       "    <tr>\n",
       "      <th>1</th>\n",
       "      <td>0000b849f77a49e4a4ce2b2a4ca5be3f</td>\n",
       "      <td>114</td>\n",
       "      <td>1</td>\n",
       "      <td>18.90</td>\n",
       "    </tr>\n",
       "    <tr>\n",
       "      <th>2</th>\n",
       "      <td>0000f6ccb0745a6a4b88665a16c9f078</td>\n",
       "      <td>321</td>\n",
       "      <td>1</td>\n",
       "      <td>25.99</td>\n",
       "    </tr>\n",
       "    <tr>\n",
       "      <th>3</th>\n",
       "      <td>0004aac84e0df4da2b147fca70cf8255</td>\n",
       "      <td>288</td>\n",
       "      <td>1</td>\n",
       "      <td>180.00</td>\n",
       "    </tr>\n",
       "    <tr>\n",
       "      <th>4</th>\n",
       "      <td>0004bd2a26a76fe21f786e4fbd80607f</td>\n",
       "      <td>146</td>\n",
       "      <td>1</td>\n",
       "      <td>154.00</td>\n",
       "    </tr>\n",
       "    <tr>\n",
       "      <th>...</th>\n",
       "      <td>...</td>\n",
       "      <td>...</td>\n",
       "      <td>...</td>\n",
       "      <td>...</td>\n",
       "    </tr>\n",
       "    <tr>\n",
       "      <th>72519</th>\n",
       "      <td>fffa431dd3fcdefea4b1777d114144f2</td>\n",
       "      <td>303</td>\n",
       "      <td>1</td>\n",
       "      <td>64.99</td>\n",
       "    </tr>\n",
       "    <tr>\n",
       "      <th>72520</th>\n",
       "      <td>fffb09418989a0dbff854a28163e47c6</td>\n",
       "      <td>254</td>\n",
       "      <td>1</td>\n",
       "      <td>58.00</td>\n",
       "    </tr>\n",
       "    <tr>\n",
       "      <th>72521</th>\n",
       "      <td>fffbf87b7a1a6fa8b03f081c5f51a201</td>\n",
       "      <td>245</td>\n",
       "      <td>1</td>\n",
       "      <td>149.00</td>\n",
       "    </tr>\n",
       "    <tr>\n",
       "      <th>72522</th>\n",
       "      <td>fffea47cd6d3cc0a88bd621562a9d061</td>\n",
       "      <td>262</td>\n",
       "      <td>1</td>\n",
       "      <td>64.89</td>\n",
       "    </tr>\n",
       "    <tr>\n",
       "      <th>72523</th>\n",
       "      <td>ffff5962728ec6157033ef9805bacc48</td>\n",
       "      <td>119</td>\n",
       "      <td>1</td>\n",
       "      <td>115.00</td>\n",
       "    </tr>\n",
       "  </tbody>\n",
       "</table>\n",
       "<p>72524 rows × 4 columns</p>\n",
       "</div>"
      ],
      "text/plain": [
       "                     customer_unique_id  recency  frequency  monetary\n",
       "0      0000366f3b9a7992bf8c76cfdf3221e2      112          1    129.90\n",
       "1      0000b849f77a49e4a4ce2b2a4ca5be3f      114          1     18.90\n",
       "2      0000f6ccb0745a6a4b88665a16c9f078      321          1     25.99\n",
       "3      0004aac84e0df4da2b147fca70cf8255      288          1    180.00\n",
       "4      0004bd2a26a76fe21f786e4fbd80607f      146          1    154.00\n",
       "...                                 ...      ...        ...       ...\n",
       "72519  fffa431dd3fcdefea4b1777d114144f2      303          1     64.99\n",
       "72520  fffb09418989a0dbff854a28163e47c6      254          1     58.00\n",
       "72521  fffbf87b7a1a6fa8b03f081c5f51a201      245          1    149.00\n",
       "72522  fffea47cd6d3cc0a88bd621562a9d061      262          1     64.89\n",
       "72523  ffff5962728ec6157033ef9805bacc48      119          1    115.00\n",
       "\n",
       "[72524 rows x 4 columns]"
      ]
     },
     "execution_count": 127,
     "metadata": {},
     "output_type": "execute_result"
    }
   ],
   "source": [
    "rfm_df = rfm.get_rfm_values(\n",
    "    df=coi_sx_df,\n",
    "    unit_id='customer_unique_id',\n",
    "    money='price',\n",
    "    time='order_approved_at',\n",
    "    now=now,\n",
    "    time_horizon=365\n",
    ")\n",
    "rfm_df"
   ]
  },
  {
   "cell_type": "markdown",
   "metadata": {},
   "source": [
    "_Оценка rfm параметров_"
   ]
  },
  {
   "cell_type": "code",
   "execution_count": 128,
   "metadata": {},
   "outputs": [],
   "source": [
    "max_score = 3  # Максимальная оценка для rmf-анализа"
   ]
  },
  {
   "cell_type": "code",
   "execution_count": 129,
   "metadata": {},
   "outputs": [
    {
     "name": "stdout",
     "output_type": "stream",
     "text": [
      "{'bins_for_scores': {'1': '[226.0, 364]',\n",
      "                     '2': '[118.0, 226.0]',\n",
      "                     '3': '[1, 118.0]'}}\n"
     ]
    }
   ],
   "source": [
    "rfm_df = rfm.get_rfm_score(\n",
    "    df=rfm_df,\n",
    "    score_column='recency',\n",
    "    score_name='r',\n",
    "    max_score=max_score,\n",
    "    add_score_bins=True\n",
    ")"
   ]
  },
  {
   "cell_type": "code",
   "execution_count": 130,
   "metadata": {},
   "outputs": [
    {
     "name": "stdout",
     "output_type": "stream",
     "text": [
      "AUTO ADJUSTMENT max_score=3 -> 2\n",
      "{'bins_for_scores': {'1': '[1, 1.0]', '2': '[1.0, 11]'}}\n"
     ]
    }
   ],
   "source": [
    "rfm_df = rfm.get_rfm_score(\n",
    "    df=rfm_df,\n",
    "    score_column='frequency',\n",
    "    score_name='f',\n",
    "    max_score=max_score,\n",
    "    add_score_bins=True,\n",
    "    auto_max_score_adjust=True\n",
    ")"
   ]
  },
  {
   "cell_type": "code",
   "execution_count": 131,
   "metadata": {},
   "outputs": [
    {
     "name": "stdout",
     "output_type": "stream",
     "text": [
      "{'bins_for_scores': {'1': '[0.85, 58.67]',\n",
      "                     '2': '[58.67, 128.8]',\n",
      "                     '3': '[128.8, 13440.0]'}}\n"
     ]
    }
   ],
   "source": [
    "rfm_df = rfm.get_rfm_score(\n",
    "    df=rfm_df,\n",
    "    score_column='monetary',\n",
    "    score_name='m',\n",
    "    max_score=max_score,\n",
    "    add_score_bins=True,\n",
    "    auto_max_score_adjust=True\n",
    ")"
   ]
  },
  {
   "cell_type": "code",
   "execution_count": 132,
   "metadata": {},
   "outputs": [],
   "source": [
    "rfm_df = rfm.get_rfm_agg(\n",
    "    df=rfm_df,\n",
    "    unit_id='customer_unique_id',\n",
    "    use_bins=True\n",
    ")"
   ]
  },
  {
   "cell_type": "code",
   "execution_count": 133,
   "metadata": {
    "scrolled": false
   },
   "outputs": [
    {
     "data": {
      "text/html": [
       "<div>\n",
       "<style scoped>\n",
       "    .dataframe tbody tr th:only-of-type {\n",
       "        vertical-align: middle;\n",
       "    }\n",
       "\n",
       "    .dataframe tbody tr th {\n",
       "        vertical-align: top;\n",
       "    }\n",
       "\n",
       "    .dataframe thead th {\n",
       "        text-align: right;\n",
       "    }\n",
       "</style>\n",
       "<table border=\"1\" class=\"dataframe\">\n",
       "  <thead>\n",
       "    <tr style=\"text-align: right;\">\n",
       "      <th></th>\n",
       "      <th>rfm</th>\n",
       "      <th>r_bin</th>\n",
       "      <th>f_bin</th>\n",
       "      <th>m_bin</th>\n",
       "      <th>amount</th>\n",
       "    </tr>\n",
       "  </thead>\n",
       "  <tbody>\n",
       "    <tr>\n",
       "      <th>0</th>\n",
       "      <td>323</td>\n",
       "      <td>[1, 118.0]</td>\n",
       "      <td>[1.0, 11]</td>\n",
       "      <td>[128.8, 13440.0]</td>\n",
       "      <td>486</td>\n",
       "    </tr>\n",
       "    <tr>\n",
       "      <th>1</th>\n",
       "      <td>322</td>\n",
       "      <td>[1, 118.0]</td>\n",
       "      <td>[1.0, 11]</td>\n",
       "      <td>[58.67, 128.8]</td>\n",
       "      <td>167</td>\n",
       "    </tr>\n",
       "    <tr>\n",
       "      <th>2</th>\n",
       "      <td>321</td>\n",
       "      <td>[1, 118.0]</td>\n",
       "      <td>[1.0, 11]</td>\n",
       "      <td>[0.85, 58.67]</td>\n",
       "      <td>48</td>\n",
       "    </tr>\n",
       "    <tr>\n",
       "      <th>3</th>\n",
       "      <td>313</td>\n",
       "      <td>[1, 118.0]</td>\n",
       "      <td>[1, 1.0]</td>\n",
       "      <td>[128.8, 13440.0]</td>\n",
       "      <td>7637</td>\n",
       "    </tr>\n",
       "    <tr>\n",
       "      <th>4</th>\n",
       "      <td>312</td>\n",
       "      <td>[1, 118.0]</td>\n",
       "      <td>[1, 1.0]</td>\n",
       "      <td>[58.67, 128.8]</td>\n",
       "      <td>8075</td>\n",
       "    </tr>\n",
       "    <tr>\n",
       "      <th>5</th>\n",
       "      <td>311</td>\n",
       "      <td>[1, 118.0]</td>\n",
       "      <td>[1, 1.0]</td>\n",
       "      <td>[0.85, 58.67]</td>\n",
       "      <td>8031</td>\n",
       "    </tr>\n",
       "    <tr>\n",
       "      <th>6</th>\n",
       "      <td>223</td>\n",
       "      <td>[118.0, 226.0]</td>\n",
       "      <td>[1.0, 11]</td>\n",
       "      <td>[128.8, 13440.0]</td>\n",
       "      <td>461</td>\n",
       "    </tr>\n",
       "    <tr>\n",
       "      <th>7</th>\n",
       "      <td>222</td>\n",
       "      <td>[118.0, 226.0]</td>\n",
       "      <td>[1.0, 11]</td>\n",
       "      <td>[58.67, 128.8]</td>\n",
       "      <td>153</td>\n",
       "    </tr>\n",
       "    <tr>\n",
       "      <th>8</th>\n",
       "      <td>221</td>\n",
       "      <td>[118.0, 226.0]</td>\n",
       "      <td>[1.0, 11]</td>\n",
       "      <td>[0.85, 58.67]</td>\n",
       "      <td>41</td>\n",
       "    </tr>\n",
       "    <tr>\n",
       "      <th>9</th>\n",
       "      <td>213</td>\n",
       "      <td>[118.0, 226.0]</td>\n",
       "      <td>[1, 1.0]</td>\n",
       "      <td>[128.8, 13440.0]</td>\n",
       "      <td>7666</td>\n",
       "    </tr>\n",
       "    <tr>\n",
       "      <th>10</th>\n",
       "      <td>212</td>\n",
       "      <td>[118.0, 226.0]</td>\n",
       "      <td>[1, 1.0]</td>\n",
       "      <td>[58.67, 128.8]</td>\n",
       "      <td>7614</td>\n",
       "    </tr>\n",
       "    <tr>\n",
       "      <th>11</th>\n",
       "      <td>211</td>\n",
       "      <td>[118.0, 226.0]</td>\n",
       "      <td>[1, 1.0]</td>\n",
       "      <td>[0.85, 58.67]</td>\n",
       "      <td>8258</td>\n",
       "    </tr>\n",
       "    <tr>\n",
       "      <th>12</th>\n",
       "      <td>123</td>\n",
       "      <td>[226.0, 364]</td>\n",
       "      <td>[1.0, 11]</td>\n",
       "      <td>[128.8, 13440.0]</td>\n",
       "      <td>284</td>\n",
       "    </tr>\n",
       "    <tr>\n",
       "      <th>13</th>\n",
       "      <td>122</td>\n",
       "      <td>[226.0, 364]</td>\n",
       "      <td>[1.0, 11]</td>\n",
       "      <td>[58.67, 128.8]</td>\n",
       "      <td>136</td>\n",
       "    </tr>\n",
       "    <tr>\n",
       "      <th>14</th>\n",
       "      <td>121</td>\n",
       "      <td>[226.0, 364]</td>\n",
       "      <td>[1.0, 11]</td>\n",
       "      <td>[0.85, 58.67]</td>\n",
       "      <td>25</td>\n",
       "    </tr>\n",
       "    <tr>\n",
       "      <th>15</th>\n",
       "      <td>113</td>\n",
       "      <td>[226.0, 364]</td>\n",
       "      <td>[1, 1.0]</td>\n",
       "      <td>[128.8, 13440.0]</td>\n",
       "      <td>7635</td>\n",
       "    </tr>\n",
       "    <tr>\n",
       "      <th>16</th>\n",
       "      <td>112</td>\n",
       "      <td>[226.0, 364]</td>\n",
       "      <td>[1, 1.0]</td>\n",
       "      <td>[58.67, 128.8]</td>\n",
       "      <td>8022</td>\n",
       "    </tr>\n",
       "    <tr>\n",
       "      <th>17</th>\n",
       "      <td>111</td>\n",
       "      <td>[226.0, 364]</td>\n",
       "      <td>[1, 1.0]</td>\n",
       "      <td>[0.85, 58.67]</td>\n",
       "      <td>7785</td>\n",
       "    </tr>\n",
       "  </tbody>\n",
       "</table>\n",
       "</div>"
      ],
      "text/plain": [
       "    rfm           r_bin      f_bin             m_bin  amount\n",
       "0   323      [1, 118.0]  [1.0, 11]  [128.8, 13440.0]     486\n",
       "1   322      [1, 118.0]  [1.0, 11]    [58.67, 128.8]     167\n",
       "2   321      [1, 118.0]  [1.0, 11]     [0.85, 58.67]      48\n",
       "3   313      [1, 118.0]   [1, 1.0]  [128.8, 13440.0]    7637\n",
       "4   312      [1, 118.0]   [1, 1.0]    [58.67, 128.8]    8075\n",
       "5   311      [1, 118.0]   [1, 1.0]     [0.85, 58.67]    8031\n",
       "6   223  [118.0, 226.0]  [1.0, 11]  [128.8, 13440.0]     461\n",
       "7   222  [118.0, 226.0]  [1.0, 11]    [58.67, 128.8]     153\n",
       "8   221  [118.0, 226.0]  [1.0, 11]     [0.85, 58.67]      41\n",
       "9   213  [118.0, 226.0]   [1, 1.0]  [128.8, 13440.0]    7666\n",
       "10  212  [118.0, 226.0]   [1, 1.0]    [58.67, 128.8]    7614\n",
       "11  211  [118.0, 226.0]   [1, 1.0]     [0.85, 58.67]    8258\n",
       "12  123    [226.0, 364]  [1.0, 11]  [128.8, 13440.0]     284\n",
       "13  122    [226.0, 364]  [1.0, 11]    [58.67, 128.8]     136\n",
       "14  121    [226.0, 364]  [1.0, 11]     [0.85, 58.67]      25\n",
       "15  113    [226.0, 364]   [1, 1.0]  [128.8, 13440.0]    7635\n",
       "16  112    [226.0, 364]   [1, 1.0]    [58.67, 128.8]    8022\n",
       "17  111    [226.0, 364]   [1, 1.0]     [0.85, 58.67]    7785"
      ]
     },
     "execution_count": 133,
     "metadata": {},
     "output_type": "execute_result"
    }
   ],
   "source": [
    "rfm_df"
   ]
  },
  {
   "cell_type": "code",
   "execution_count": 134,
   "metadata": {},
   "outputs": [
    {
     "data": {
      "image/png": "[encoded data removed]",
      "text/plain": [
       "<Figure size 1000x600 with 1 Axes>"
      ]
     },
     "metadata": {},
     "output_type": "display_data"
    }
   ],
   "source": [
    "sns.barplot(data=rfm_df, x='amount', y='rfm');"
   ]
  },
  {
   "cell_type": "markdown",
   "metadata": {},
   "source": [
    "#### Выводы\n",
    "- Основной сегмент пользователей - пользователи с низкой частотой покупок\n",
    "- Это и основная проблема\n",
    "  - \\*Это не новые пользователи, поскольку данные собраны за достаточно большой временной период, на котором почти все пользователи делали лишь одну покупку\n",
    "- Возможно, это связано со спецификой магазина (специфичные товары, которые достаточно купить один раз на большой временной промежуток + розничная торговля)\n",
    "- Или, возможно, это связано с неэффективным маркетингом\n",
    "- Необходимо как-то увеличивать retention"
   ]
  },
  {
   "cell_type": "markdown",
   "metadata": {},
   "source": [
    "_Выручка по месяцам_"
   ]
  },
  {
   "cell_type": "code",
   "execution_count": 136,
   "metadata": {},
   "outputs": [],
   "source": [
    "# Столбец с месяцами\n",
    "coi_sx_df['order_approved_at_month'] = coi_sx_df.order_approved_at.dt.to_period('M')"
   ]
  },
  {
   "cell_type": "code",
   "execution_count": 137,
   "metadata": {},
   "outputs": [
    {
     "data": {
      "image/png": "[encoded data removed]",
      "text/plain": [
       "<Figure size 1000x600 with 1 Axes>"
      ]
     },
     "metadata": {},
     "output_type": "display_data"
    }
   ],
   "source": [
    "coi_sx_df.groupby('order_approved_at_month').price.sum().plot();"
   ]
  },
  {
   "cell_type": "markdown",
   "metadata": {},
   "source": [
    "По выручке бизнес стабилен (несмотря на низкий retention)"
   ]
  },
  {
   "cell_type": "markdown",
   "metadata": {},
   "source": [
    "_Расшифровка сегментов пользователей_"
   ]
  },
  {
   "cell_type": "code",
   "execution_count": 142,
   "metadata": {},
   "outputs": [
    {
     "data": {
      "text/html": [
       "<div>\n",
       "<style scoped>\n",
       "    .dataframe tbody tr th:only-of-type {\n",
       "        vertical-align: middle;\n",
       "    }\n",
       "\n",
       "    .dataframe tbody tr th {\n",
       "        vertical-align: top;\n",
       "    }\n",
       "\n",
       "    .dataframe thead th {\n",
       "        text-align: right;\n",
       "    }\n",
       "</style>\n",
       "<table border=\"1\" class=\"dataframe\">\n",
       "  <thead>\n",
       "    <tr style=\"text-align: right;\">\n",
       "      <th></th>\n",
       "      <th>rfm</th>\n",
       "      <th>r_bin</th>\n",
       "      <th>f_bin</th>\n",
       "      <th>m_bin</th>\n",
       "      <th>amount</th>\n",
       "      <th>segment</th>\n",
       "    </tr>\n",
       "  </thead>\n",
       "  <tbody>\n",
       "    <tr>\n",
       "      <th>0</th>\n",
       "      <td>323</td>\n",
       "      <td>[1, 118.0]</td>\n",
       "      <td>[1.0, 11]</td>\n",
       "      <td>[128.8, 13440.0]</td>\n",
       "      <td>486</td>\n",
       "      <td>лучшие</td>\n",
       "    </tr>\n",
       "    <tr>\n",
       "      <th>1</th>\n",
       "      <td>322</td>\n",
       "      <td>[1, 118.0]</td>\n",
       "      <td>[1.0, 11]</td>\n",
       "      <td>[58.67, 128.8]</td>\n",
       "      <td>167</td>\n",
       "      <td>хорошие (увеличить средний чек?)</td>\n",
       "    </tr>\n",
       "    <tr>\n",
       "      <th>2</th>\n",
       "      <td>321</td>\n",
       "      <td>[1, 118.0]</td>\n",
       "      <td>[1.0, 11]</td>\n",
       "      <td>[0.85, 58.67]</td>\n",
       "      <td>48</td>\n",
       "      <td>хорошие (увеличить средний чек?)</td>\n",
       "    </tr>\n",
       "    <tr>\n",
       "      <th>3</th>\n",
       "      <td>313</td>\n",
       "      <td>[1, 118.0]</td>\n",
       "      <td>[1, 1.0]</td>\n",
       "      <td>[128.8, 13440.0]</td>\n",
       "      <td>7637</td>\n",
       "      <td>новички</td>\n",
       "    </tr>\n",
       "    <tr>\n",
       "      <th>4</th>\n",
       "      <td>312</td>\n",
       "      <td>[1, 118.0]</td>\n",
       "      <td>[1, 1.0]</td>\n",
       "      <td>[58.67, 128.8]</td>\n",
       "      <td>8075</td>\n",
       "      <td>новички</td>\n",
       "    </tr>\n",
       "    <tr>\n",
       "      <th>5</th>\n",
       "      <td>311</td>\n",
       "      <td>[1, 118.0]</td>\n",
       "      <td>[1, 1.0]</td>\n",
       "      <td>[0.85, 58.67]</td>\n",
       "      <td>8031</td>\n",
       "      <td>новички</td>\n",
       "    </tr>\n",
       "    <tr>\n",
       "      <th>6</th>\n",
       "      <td>223</td>\n",
       "      <td>[118.0, 226.0]</td>\n",
       "      <td>[1.0, 11]</td>\n",
       "      <td>[128.8, 13440.0]</td>\n",
       "      <td>461</td>\n",
       "      <td>хорошие (напомнить/стимулировать?)</td>\n",
       "    </tr>\n",
       "    <tr>\n",
       "      <th>7</th>\n",
       "      <td>222</td>\n",
       "      <td>[118.0, 226.0]</td>\n",
       "      <td>[1.0, 11]</td>\n",
       "      <td>[58.67, 128.8]</td>\n",
       "      <td>153</td>\n",
       "      <td>хорошие (напомнить/стимулировать?)</td>\n",
       "    </tr>\n",
       "    <tr>\n",
       "      <th>8</th>\n",
       "      <td>221</td>\n",
       "      <td>[118.0, 226.0]</td>\n",
       "      <td>[1.0, 11]</td>\n",
       "      <td>[0.85, 58.67]</td>\n",
       "      <td>41</td>\n",
       "      <td>хорошие (напомнить/стимулировать?)</td>\n",
       "    </tr>\n",
       "    <tr>\n",
       "      <th>9</th>\n",
       "      <td>213</td>\n",
       "      <td>[118.0, 226.0]</td>\n",
       "      <td>[1, 1.0]</td>\n",
       "      <td>[128.8, 13440.0]</td>\n",
       "      <td>7666</td>\n",
       "      <td>не поняли ценность продукта (есть шанс?)</td>\n",
       "    </tr>\n",
       "    <tr>\n",
       "      <th>10</th>\n",
       "      <td>212</td>\n",
       "      <td>[118.0, 226.0]</td>\n",
       "      <td>[1, 1.0]</td>\n",
       "      <td>[58.67, 128.8]</td>\n",
       "      <td>7614</td>\n",
       "      <td>не поняли ценность продукта (есть шанс?)</td>\n",
       "    </tr>\n",
       "    <tr>\n",
       "      <th>11</th>\n",
       "      <td>211</td>\n",
       "      <td>[118.0, 226.0]</td>\n",
       "      <td>[1, 1.0]</td>\n",
       "      <td>[0.85, 58.67]</td>\n",
       "      <td>8258</td>\n",
       "      <td>не поняли ценность продукта (есть шанс?)</td>\n",
       "    </tr>\n",
       "    <tr>\n",
       "      <th>12</th>\n",
       "      <td>123</td>\n",
       "      <td>[226.0, 364]</td>\n",
       "      <td>[1.0, 11]</td>\n",
       "      <td>[128.8, 13440.0]</td>\n",
       "      <td>284</td>\n",
       "      <td>нужно вернуть</td>\n",
       "    </tr>\n",
       "    <tr>\n",
       "      <th>13</th>\n",
       "      <td>122</td>\n",
       "      <td>[226.0, 364]</td>\n",
       "      <td>[1.0, 11]</td>\n",
       "      <td>[58.67, 128.8]</td>\n",
       "      <td>136</td>\n",
       "      <td>нужно вернуть</td>\n",
       "    </tr>\n",
       "    <tr>\n",
       "      <th>14</th>\n",
       "      <td>121</td>\n",
       "      <td>[226.0, 364]</td>\n",
       "      <td>[1.0, 11]</td>\n",
       "      <td>[0.85, 58.67]</td>\n",
       "      <td>25</td>\n",
       "      <td>нужно вернуть</td>\n",
       "    </tr>\n",
       "    <tr>\n",
       "      <th>15</th>\n",
       "      <td>113</td>\n",
       "      <td>[226.0, 364]</td>\n",
       "      <td>[1, 1.0]</td>\n",
       "      <td>[128.8, 13440.0]</td>\n",
       "      <td>7635</td>\n",
       "      <td>не поняли ценность продукта</td>\n",
       "    </tr>\n",
       "    <tr>\n",
       "      <th>16</th>\n",
       "      <td>112</td>\n",
       "      <td>[226.0, 364]</td>\n",
       "      <td>[1, 1.0]</td>\n",
       "      <td>[58.67, 128.8]</td>\n",
       "      <td>8022</td>\n",
       "      <td>не поняли ценность продукта</td>\n",
       "    </tr>\n",
       "    <tr>\n",
       "      <th>17</th>\n",
       "      <td>111</td>\n",
       "      <td>[226.0, 364]</td>\n",
       "      <td>[1, 1.0]</td>\n",
       "      <td>[0.85, 58.67]</td>\n",
       "      <td>7785</td>\n",
       "      <td>худшие</td>\n",
       "    </tr>\n",
       "  </tbody>\n",
       "</table>\n",
       "</div>"
      ],
      "text/plain": [
       "    rfm           r_bin      f_bin             m_bin  amount  \\\n",
       "0   323      [1, 118.0]  [1.0, 11]  [128.8, 13440.0]     486   \n",
       "1   322      [1, 118.0]  [1.0, 11]    [58.67, 128.8]     167   \n",
       "2   321      [1, 118.0]  [1.0, 11]     [0.85, 58.67]      48   \n",
       "3   313      [1, 118.0]   [1, 1.0]  [128.8, 13440.0]    7637   \n",
       "4   312      [1, 118.0]   [1, 1.0]    [58.67, 128.8]    8075   \n",
       "5   311      [1, 118.0]   [1, 1.0]     [0.85, 58.67]    8031   \n",
       "6   223  [118.0, 226.0]  [1.0, 11]  [128.8, 13440.0]     461   \n",
       "7   222  [118.0, 226.0]  [1.0, 11]    [58.67, 128.8]     153   \n",
       "8   221  [118.0, 226.0]  [1.0, 11]     [0.85, 58.67]      41   \n",
       "9   213  [118.0, 226.0]   [1, 1.0]  [128.8, 13440.0]    7666   \n",
       "10  212  [118.0, 226.0]   [1, 1.0]    [58.67, 128.8]    7614   \n",
       "11  211  [118.0, 226.0]   [1, 1.0]     [0.85, 58.67]    8258   \n",
       "12  123    [226.0, 364]  [1.0, 11]  [128.8, 13440.0]     284   \n",
       "13  122    [226.0, 364]  [1.0, 11]    [58.67, 128.8]     136   \n",
       "14  121    [226.0, 364]  [1.0, 11]     [0.85, 58.67]      25   \n",
       "15  113    [226.0, 364]   [1, 1.0]  [128.8, 13440.0]    7635   \n",
       "16  112    [226.0, 364]   [1, 1.0]    [58.67, 128.8]    8022   \n",
       "17  111    [226.0, 364]   [1, 1.0]     [0.85, 58.67]    7785   \n",
       "\n",
       "                                     segment  \n",
       "0                                     лучшие  \n",
       "1           хорошие (увеличить средний чек?)  \n",
       "2           хорошие (увеличить средний чек?)  \n",
       "3                                    новички  \n",
       "4                                    новички  \n",
       "5                                    новички  \n",
       "6         хорошие (напомнить/стимулировать?)  \n",
       "7         хорошие (напомнить/стимулировать?)  \n",
       "8         хорошие (напомнить/стимулировать?)  \n",
       "9   не поняли ценность продукта (есть шанс?)  \n",
       "10  не поняли ценность продукта (есть шанс?)  \n",
       "11  не поняли ценность продукта (есть шанс?)  \n",
       "12                             нужно вернуть  \n",
       "13                             нужно вернуть  \n",
       "14                             нужно вернуть  \n",
       "15               не поняли ценность продукта  \n",
       "16               не поняли ценность продукта  \n",
       "17                                    худшие  "
      ]
     },
     "execution_count": 142,
     "metadata": {},
     "output_type": "execute_result"
    }
   ],
   "source": [
    "segment_map = {\n",
    "    r'111':         'худшие',\n",
    "    r'11[2-3]':     'не поняли ценность продукта',\n",
    "    r'1[2-3][1-3]': 'нужно вернуть',\n",
    "    r'21[1-3]':     'не поняли ценность продукта (есть шанс?)',\n",
    "    r'2[2][1-3]':   'хорошие (напомнить/стимулировать?)',\n",
    "    r'31[1-3]':     'новички',\n",
    "    r'32[1-2]':     'хорошие (увеличить средний чек?)',\n",
    "    r'323':         'лучшие'\n",
    "    \n",
    "}\n",
    "rfm_df.assign(segment=rfm_df.rfm.replace(segment_map, regex=True))"
   ]
  },
  {
   "cell_type": "markdown",
   "metadata": {},
   "source": [
    "Inspired by: KCM6"
   ]
  },
  {
   "cell_type": "code",
   "execution_count": null,
   "metadata": {},
   "outputs": [],
   "source": []
  }
 ],
 "metadata": {
  "kernelspec": {
   "display_name": "Python 3 (ipykernel)",
   "language": "python",
   "name": "python3"
  },
  "language_info": {
   "codemirror_mode": {
    "name": "ipython",
    "version": 3
   },
   "file_extension": ".py",
   "mimetype": "text/x-python",
   "name": "python",
   "nbconvert_exporter": "python",
   "pygments_lexer": "ipython3",
   "version": "3.11.4"
  }
 },
 "nbformat": 4,
 "nbformat_minor": 4
}
